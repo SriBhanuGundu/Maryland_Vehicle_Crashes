{
  "cells": [
    {
      "cell_type": "markdown",
      "metadata": {
        "id": "Wl9dxbyrjGEY"
      },
      "source": [
        "##**Weather's Dangerous Impact on Accidents in maryland**\n",
        "\n",
        "\n",
        "\n"
      ],
      "id": "Wl9dxbyrjGEY"
    },
    {
      "cell_type": "markdown",
      "source": [
        "# **Data Preprocessing**"
      ],
      "metadata": {
        "id": "Y6IAGiZ_37im"
      },
      "id": "Y6IAGiZ_37im"
    },
    {
      "cell_type": "markdown",
      "source": [
        "##**Importing Libraries**"
      ],
      "metadata": {
        "id": "cm74tCtS1aqm"
      },
      "id": "cm74tCtS1aqm"
    },
    {
      "cell_type": "code",
      "execution_count": 1,
      "metadata": {
        "id": "f62f2850"
      },
      "outputs": [],
      "source": [
        "#Data Manipulation\n",
        "import pandas as pd\n",
        "#Artithmetic Calculations\n",
        "import numpy as np\n",
        "#Data Visualization\n",
        "import seaborn as sns\n",
        "import matplotlib.pyplot as plt\n",
        "\n",
        "#Display all Columns \n",
        "pd.pandas.set_option('display.max_columns',None)\n",
        "#Display all Rows\n",
        "pd.pandas.set_option('display.max_rows',None)\n",
        "#Ignore warnings\n",
        "import warnings\n",
        "warnings.filterwarnings(\"ignore\")\n"
      ],
      "id": "f62f2850"
    },
    {
      "cell_type": "markdown",
      "metadata": {
        "id": "6c6105a9"
      },
      "source": [
        "##**Loading DataSets**"
      ],
      "id": "6c6105a9"
    },
    {
      "cell_type": "code",
      "execution_count": 2,
      "metadata": {
        "id": "87e68d30"
      },
      "outputs": [],
      "source": [
        "VehicleCrashes_df = pd.read_csv(\"https://media.githubusercontent.com/media/kwrigh8176/DATA601DATA/main/Maryland_Statewide_Vehicle_Crashes.csv\",low_memory=False)\n",
        "\n",
        "PersonalDetails_df = pd.read_csv(\"https://media.githubusercontent.com/media/kwrigh8176/DATA601DATA/main/Maryland_Statewide_Vehicle_Crashes_-_Person_Details__Anonymized.csv\",low_memory=False)\n",
        "\n",
        "VehicleDetails_df =  pd.read_csv(\"https://media.githubusercontent.com/media/kwrigh8176/DATA601DATA/main/Maryland_Statewide_Vehicle_Crashes_-_Vehicle_Details.csv\",low_memory=False)\n"
      ],
      "id": "87e68d30"
    },
    {
      "cell_type": "code",
      "execution_count": 3,
      "metadata": {
        "colab": {
          "base_uri": "https://localhost:8080/"
        },
        "id": "be4ab629",
        "outputId": "0a7cdbbf-d0a7-41da-a09c-7df29443a09a"
      },
      "outputs": [
        {
          "output_type": "stream",
          "name": "stdout",
          "text": [
            "Shape of VehicleCrashes_df  :  (742925, 56)\n",
            "Shape of PersonalDetails_df :  (1664889, 48)\n",
            "Shape of VehicleDetails_df  :  (1386222, 49)\n"
          ]
        }
      ],
      "source": [
        "print(f\"Shape of VehicleCrashes_df  : \",VehicleCrashes_df.shape)\n",
        "print(f\"Shape of PersonalDetails_df : \",PersonalDetails_df.shape)\n",
        "print(f\"Shape of VehicleDetails_df  : \",VehicleDetails_df.shape)"
      ],
      "id": "be4ab629"
    },
    {
      "cell_type": "markdown",
      "metadata": {
        "id": "nfuFfyYnx6_o"
      },
      "source": [
        "##These are the three Data sets we will be working which contains Records of the year 2020 and 2021\n",
        "Filtering the years 2020 and 2021 patterns from all the datasets to understand the pattern of crashes, causes and reasons of crashes"
      ],
      "id": "nfuFfyYnx6_o"
    },
    {
      "cell_type": "code",
      "execution_count": 4,
      "metadata": {
        "id": "IpX6aCYTxlp_"
      },
      "outputs": [],
      "source": [
        "#It takes only those rows which have 2020 and 2021 in column 'YEAR'\n",
        "#Filtering based on the years 2020 and 2021\n",
        "VehicleCrashes = VehicleCrashes_df[VehicleCrashes_df['YEAR'].isin([2020,2021])]  \n",
        "\n",
        "PersonalDetails = PersonalDetails_df[PersonalDetails_df['YEAR'].isin([2020,2021])]\n",
        "\n",
        "VehicleDetails = VehicleDetails_df[VehicleDetails_df['YEAR'].isin([2020,2021])]"
      ],
      "id": "IpX6aCYTxlp_"
    },
    {
      "cell_type": "markdown",
      "source": [
        "Printing the shape of the datasets after extracting only 2020 and 2021 data"
      ],
      "metadata": {
        "id": "6liSf8m_boqK"
      },
      "id": "6liSf8m_boqK"
    },
    {
      "cell_type": "code",
      "execution_count": 5,
      "metadata": {
        "colab": {
          "base_uri": "https://localhost:8080/"
        },
        "id": "2thS9FC2xlxG",
        "outputId": "c13eb5fc-d0ce-444a-a939-3bf980ef4e71"
      },
      "outputs": [
        {
          "output_type": "stream",
          "name": "stdout",
          "text": [
            "Shape of VehicleCrashes  :  (171577, 56)\n",
            "Shape of PersonalDetails :  (372049, 48)\n",
            "Shape of VehicleDetails  :  (316389, 49)\n"
          ]
        }
      ],
      "source": [
        "print(f\"Shape of VehicleCrashes  : \",VehicleCrashes.shape)\n",
        "print(f\"Shape of PersonalDetails : \",PersonalDetails.shape)\n",
        "print(f\"Shape of VehicleDetails  : \",VehicleDetails.shape)"
      ],
      "id": "2thS9FC2xlxG"
    },
    {
      "cell_type": "markdown",
      "source": [
        "##Checking for the null values in the datasets of 2020 and 2021"
      ],
      "metadata": {
        "id": "PMDF7gEkb0Pw"
      },
      "id": "PMDF7gEkb0Pw"
    },
    {
      "cell_type": "code",
      "execution_count": 6,
      "metadata": {
        "colab": {
          "base_uri": "https://localhost:8080/"
        },
        "id": "4WondFEdJt5L",
        "outputId": "e4098bbb-4699-4139-e2f3-5ab08e59298c"
      },
      "outputs": [
        {
          "output_type": "stream",
          "name": "stdout",
          "text": [
            "YEAR                          0\n",
            "QUARTER                       0\n",
            "LIGHT_DESC                11010\n",
            "LIGHT_CODE                    0\n",
            "COUNTY_DESC                   5\n",
            "COUNTY_NO                     5\n",
            "MUNI_DESC                171577\n",
            "MUNI_CODE                 34816\n",
            "JUNCTION_DESC             24547\n",
            "JUNCTION_CODE             15973\n",
            "COLLISION_TYPE_DESC           0\n",
            "COLLISION_TYPE_CODE           0\n",
            "SURF_COND_DESC            16482\n",
            "SURF_COND_CODE            15973\n",
            "LANE_DESC                 40644\n",
            "LANE_CODE                 40644\n",
            "RD_COND_DESC              15973\n",
            "RD_COND_CODE              15973\n",
            "RD_DIV_DESC               16779\n",
            "RD_DIV_CODE               15973\n",
            "FIX_OBJ_DESC              10267\n",
            "FIX_OBJ_CODE                  0\n",
            "REPORT_NO                     0\n",
            "REPORT_TYPE                   0\n",
            "WEATHER_DESC             129820\n",
            "WEATHER_CODE                  0\n",
            "ACC_DATE                      0\n",
            "ACC_TIME                      0\n",
            "LOC_CODE                  98385\n",
            "SIGNAL_FLAG_DESC              0\n",
            "SIGNAL_FLAG                   0\n",
            "C_M_ZONE_FLAG                 0\n",
            "AGENCY_CODE                   0\n",
            "AREA_CODE                     0\n",
            "HARM_EVENT_DESC1          24111\n",
            "HARM_EVENT_CODE1              0\n",
            "HARM_EVENT_DESC2              0\n",
            "HARM_EVENT_CODE2              0\n",
            "RTE_NO                    34774\n",
            "ROUTE_TYPE_CODE           34774\n",
            "RTE_SUFFIX               167836\n",
            "LOG_MILE                  15973\n",
            "LOGMILE_DIR_FLAG_DESC     34663\n",
            "LOGMILE_DIR_FLAG          34660\n",
            "MAINROAD_NAME             15974\n",
            "DISTANCE                  15973\n",
            "FEET_MILES_FLAG_DESC      19476\n",
            "FEET_MILES_FLAG           15973\n",
            "DISTANCE_DIR_FLAG         15973\n",
            "REFERENCE_NO              34774\n",
            "REFERENCE_TYPE_CODE       34774\n",
            "REFERENCE_SUFFIX         167852\n",
            "REFERENCE_ROAD_NAME       16264\n",
            "LATITUDE                      0\n",
            "LONGITUDE                     0\n",
            "LOCATION                      0\n",
            "dtype: int64\n",
            "==================================================\n",
            "SEX_DESC                  34201\n",
            "SEX_CODE                  34201\n",
            "CONDITION_DESC            81997\n",
            "CONDITION_CODE            81215\n",
            "INJ_SEVER_DESC                0\n",
            "INJ_SEVER_CODE                0\n",
            "REPORT_NO                     0\n",
            "OCC_SEAT_POS_DESC        291826\n",
            "OCC_SEAT_POS_CODE        291826\n",
            "PED_VISIBLE_DESC         365651\n",
            "PED_VISIBLE_CODE         365651\n",
            "PED_OBEY_DESC            365651\n",
            "PED_OBEY_CODE            365651\n",
            "PED_TYPE_DESC            365651\n",
            "PED_TYPE_CODE            365651\n",
            "PED_LOCATION_CODE        365651\n",
            "MOVEMENT_DESC            365651\n",
            "MOVEMENT_CODE            365651\n",
            "PERSON_TYPE_DESC              0\n",
            "PERSON_TYPE                   0\n",
            "ALCOHOL_TEST_DESC         80223\n",
            "ALCOHOL_TEST_CODE         80223\n",
            "ALCOHOL_TESTTYPE_DESC    364767\n",
            "ALCOHOL_TESTTYPE_CODE    364767\n",
            "DRUG_TEST_DESC            80223\n",
            "DRUG_TEST_CODE            80223\n",
            "DRUG_TESTRESULT_DESC     370088\n",
            "DRUG_TESTRESULT_CODE     370088\n",
            "BAC_CODE                 367308\n",
            "FAULT_FLAG_DESC           95267\n",
            "FAULT_FLAG                80223\n",
            "EQUIP_PROB_DESC            6398\n",
            "EQUIP_PROB_CODE            6398\n",
            "SAF_EQUIP_DESC                0\n",
            "SAF_EQUIP_CODE                0\n",
            "EJECT_DESC                 6398\n",
            "EJECT_CODE                 6398\n",
            "DATE_OF_BIRTH             34923\n",
            "PERSON_ID                     0\n",
            "LICENSE_STATE_CODE       117747\n",
            "CLASS                    152262\n",
            "CDL_FLAG_DESC             86621\n",
            "CDL_FLAG                  86621\n",
            "VEHICLE_ID                 6398\n",
            "EMS_UNIT_LABEL           320939\n",
            "AIRBAG_DEPLOYED            6398\n",
            "YEAR                          0\n",
            "Quarter                       0\n",
            "dtype: int64\n",
            "==================================================\n",
            "HARM_EVENT_DESC                     0\n",
            "HARM_EVENT_CODE                     0\n",
            "CONTI_DIRECTION_DESC            35548\n",
            "CONTI_DIRECTION_CODE            35548\n",
            "DAMAGE_DESC                         0\n",
            "DAMAGE_CODE                         0\n",
            "MOVEMENT_DESC                       0\n",
            "MOVEMENT_CODE                       0\n",
            "VIN_NO                          18502\n",
            "REPORT_NO                           0\n",
            "CV_BODY_TYPE_DESC              305025\n",
            "CV_BODY_TYPE_CODE              305025\n",
            "VEH_YEAR                        18368\n",
            "VEH_MAKE                           28\n",
            "VEH_MODEL                         123\n",
            "COMMERCIAL_FLAG_DESC                0\n",
            "COMMERCIAL_FLAG                     0\n",
            "HZM_NUM                        315950\n",
            "TOWED_AWAY_FLAG_DESC             1696\n",
            "TOWED_AWAY_FLAG                     0\n",
            "NUM_AXLES                      305036\n",
            "GVW_DESC                       305025\n",
            "GVW_CODE                       305025\n",
            "GOING_DIRECTION_DESC            35548\n",
            "GOING_DIRECTION_CODE            35548\n",
            "BODY_TYPE_DESC                  12731\n",
            "BODY_TYPE_CODE                  12620\n",
            "DRIVERLESS_FLAG_DESC             3604\n",
            "DRIVERLESS_FLAG                     0\n",
            "FIRE_FLAG_DESC                  54395\n",
            "FIRE_FLAG                       52101\n",
            "PARKED_FLAG_DESC                    0\n",
            "PARKED_FLAG                         0\n",
            "SPEED_LIMIT                         0\n",
            "HIT_AND_RUN_FLAG_DESC             482\n",
            "HIT_AND_RUN_FLAG                    0\n",
            "HAZMAT_SPILL_FLAG_DESC         312845\n",
            "HAZMAT_SPILL_FLAG              312845\n",
            "VEHICLE_ID                          0\n",
            "TOWED_VEHICLE_CONFIG_DESC           0\n",
            "TOWED_VEHICLE_CONFIG_CODE           0\n",
            "AREA_DAMAGED_CODE_IMP1           1847\n",
            "AREA_DAMAGED_CODE1              11167\n",
            "AREA_DAMAGED_CODE2             140736\n",
            "AREA_DAMAGED_CODE3             196366\n",
            "AREA_DAMAGED_CODE_MAIN_DESC      2554\n",
            "AREA_DAMAGED_CODE_MAIN           2554\n",
            "YEAR                                0\n",
            "Quarter                             0\n",
            "dtype: int64\n"
          ]
        }
      ],
      "source": [
        "print(VehicleCrashes.isnull().sum())\n",
        "print(\"==================================================\")\n",
        "print(PersonalDetails.isnull().sum())\n",
        "\n",
        "print(\"==================================================\")\n",
        "print(VehicleDetails.isnull().sum())"
      ],
      "id": "4WondFEdJt5L"
    },
    {
      "cell_type": "markdown",
      "metadata": {
        "id": "59a45331"
      },
      "source": [
        "\n",
        "## Capitalising column names from all datasets"
      ],
      "id": "59a45331"
    },
    {
      "cell_type": "markdown",
      "metadata": {
        "id": "1JoVNhdNvW4N"
      },
      "source": [
        "*  After exploring we come to know that,Every Column in all Three Data Sets is in CAPITAL Except 'Quarter' is small in PersonalDetails and VehicleDetails Data Sets. \n",
        "*   To simplify and to avoid any case sensitive and syntax issues we will be capitalizing all the columns to capitals\n",
        "*   So we will Capitalize only Quarter Column"
      ],
      "id": "1JoVNhdNvW4N"
    },
    {
      "cell_type": "code",
      "execution_count": 7,
      "metadata": {
        "id": "NmL58tg7vO0b"
      },
      "outputs": [],
      "source": [
        "PersonalDetails = PersonalDetails.rename({'Quarter':'QUARTER'},axis = 1)\n",
        "VehicleDetails = VehicleDetails.rename({'Quarter':'QUARTER'},axis =1)\n"
      ],
      "id": "NmL58tg7vO0b"
    },
    {
      "cell_type": "markdown",
      "metadata": {
        "id": "_4NsJGPXv6mO"
      },
      "source": [
        "## Checking Common Columns"
      ],
      "id": "_4NsJGPXv6mO"
    },
    {
      "cell_type": "code",
      "execution_count": 8,
      "metadata": {
        "colab": {
          "base_uri": "https://localhost:8080/"
        },
        "id": "jZN7KIjjXLOf",
        "outputId": "e55844d2-ff19-480e-8a16-97a75088d02a"
      },
      "outputs": [
        {
          "output_type": "stream",
          "name": "stdout",
          "text": [
            "Common Columns of VehicleCrashes  and PersonalDetails Data Set: \n",
            "\n",
            "\t YEAR\n",
            "\t QUARTER\n",
            "\t REPORT_NO\n",
            "\n",
            "Common Columns of  VehicleCrashes and VehicleDetails Data Set: \n",
            "\n",
            "\t YEAR\n",
            "\t QUARTER\n",
            "\t REPORT_NO\n",
            "\n",
            "Common Columns of PersonalDetails and VehicleDetails Data Set: \n",
            "\n",
            "\t MOVEMENT_DESC\n",
            "\t MOVEMENT_CODE\n",
            "\t REPORT_NO\n",
            "\t VEHICLE_ID\n",
            "\t YEAR\n",
            "\t QUARTER\n"
          ]
        }
      ],
      "source": [
        "def VehicleCrasheandPersonalDetails():\n",
        "  print('Common Columns of VehicleCrashes  and PersonalDetails Data Set: \\n')\n",
        "  for i in VehicleCrashes.columns:\n",
        "    for j in PersonalDetails.columns:\n",
        "            if i == j:\n",
        "                print(\"\\t\",i)\n",
        "                \n",
        "\n",
        "def VehicleCrashesandVehicleDetails():\n",
        "  print(\"\\nCommon Columns of  VehicleCrashes and VehicleDetails Data Set: \\n\")\n",
        "  for i in VehicleCrashes.columns:\n",
        "    for j in VehicleDetails.columns:\n",
        "        if i == j:\n",
        "            print(\"\\t\",i)\n",
        "            \n",
        "\n",
        "def PersonalDetailsandVehicleDetails():\n",
        "  print(\"\\nCommon Columns of PersonalDetails and VehicleDetails Data Set: \\n\")\n",
        "  for i in VehicleDetails.columns:\n",
        "          for j in PersonalDetails.columns:\n",
        "              if i == j:\n",
        "                  print(\"\\t\",i)\n",
        "                  \n",
        "            \n",
        "VehicleCrasheandPersonalDetails()\n",
        "VehicleCrashesandVehicleDetails()\n",
        "PersonalDetailsandVehicleDetails()\n"
      ],
      "id": "jZN7KIjjXLOf"
    },
    {
      "cell_type": "markdown",
      "metadata": {
        "id": "xJbDmrut3oD4"
      },
      "source": [
        "### Getting the Overview of Each Columns from every Data Sets, So that we can perform our Data Analysis Effectively"
      ],
      "id": "xJbDmrut3oD4"
    },
    {
      "cell_type": "code",
      "execution_count": 9,
      "metadata": {
        "colab": {
          "base_uri": "https://localhost:8080/"
        },
        "id": "i4bfinfgvlZZ",
        "outputId": "454654ab-4657-4e7d-8aad-ea7ecfb69e3e"
      },
      "outputs": [
        {
          "output_type": "stream",
          "name": "stdout",
          "text": [
            "(VehicleCrashes DataSet)\n",
            " Index(['YEAR', 'QUARTER', 'LIGHT_DESC', 'LIGHT_CODE', 'COUNTY_DESC',\n",
            "       'COUNTY_NO', 'MUNI_DESC', 'MUNI_CODE', 'JUNCTION_DESC', 'JUNCTION_CODE',\n",
            "       'COLLISION_TYPE_DESC', 'COLLISION_TYPE_CODE', 'SURF_COND_DESC',\n",
            "       'SURF_COND_CODE', 'LANE_DESC', 'LANE_CODE', 'RD_COND_DESC',\n",
            "       'RD_COND_CODE', 'RD_DIV_DESC', 'RD_DIV_CODE', 'FIX_OBJ_DESC',\n",
            "       'FIX_OBJ_CODE', 'REPORT_NO', 'REPORT_TYPE', 'WEATHER_DESC',\n",
            "       'WEATHER_CODE', 'ACC_DATE', 'ACC_TIME', 'LOC_CODE', 'SIGNAL_FLAG_DESC',\n",
            "       'SIGNAL_FLAG', 'C_M_ZONE_FLAG', 'AGENCY_CODE', 'AREA_CODE',\n",
            "       'HARM_EVENT_DESC1', 'HARM_EVENT_CODE1', 'HARM_EVENT_DESC2',\n",
            "       'HARM_EVENT_CODE2', 'RTE_NO', 'ROUTE_TYPE_CODE', 'RTE_SUFFIX',\n",
            "       'LOG_MILE', 'LOGMILE_DIR_FLAG_DESC', 'LOGMILE_DIR_FLAG',\n",
            "       'MAINROAD_NAME', 'DISTANCE', 'FEET_MILES_FLAG_DESC', 'FEET_MILES_FLAG',\n",
            "       'DISTANCE_DIR_FLAG', 'REFERENCE_NO', 'REFERENCE_TYPE_CODE',\n",
            "       'REFERENCE_SUFFIX', 'REFERENCE_ROAD_NAME', 'LATITUDE', 'LONGITUDE',\n",
            "       'LOCATION'],\n",
            "      dtype='object')\n",
            "===============================================================================\n",
            "\n",
            "(PersonalDetails DataSet)\n",
            " Index(['SEX_DESC', 'SEX_CODE', 'CONDITION_DESC', 'CONDITION_CODE',\n",
            "       'INJ_SEVER_DESC', 'INJ_SEVER_CODE', 'REPORT_NO', 'OCC_SEAT_POS_DESC',\n",
            "       'OCC_SEAT_POS_CODE', 'PED_VISIBLE_DESC', 'PED_VISIBLE_CODE',\n",
            "       'PED_OBEY_DESC', 'PED_OBEY_CODE', 'PED_TYPE_DESC', 'PED_TYPE_CODE',\n",
            "       'PED_LOCATION_CODE', 'MOVEMENT_DESC', 'MOVEMENT_CODE',\n",
            "       'PERSON_TYPE_DESC', 'PERSON_TYPE', 'ALCOHOL_TEST_DESC',\n",
            "       'ALCOHOL_TEST_CODE', 'ALCOHOL_TESTTYPE_DESC', 'ALCOHOL_TESTTYPE_CODE',\n",
            "       'DRUG_TEST_DESC', 'DRUG_TEST_CODE', 'DRUG_TESTRESULT_DESC',\n",
            "       'DRUG_TESTRESULT_CODE', 'BAC_CODE', 'FAULT_FLAG_DESC', 'FAULT_FLAG',\n",
            "       'EQUIP_PROB_DESC', 'EQUIP_PROB_CODE', 'SAF_EQUIP_DESC',\n",
            "       'SAF_EQUIP_CODE', 'EJECT_DESC', 'EJECT_CODE', 'DATE_OF_BIRTH',\n",
            "       'PERSON_ID', 'LICENSE_STATE_CODE', 'CLASS', 'CDL_FLAG_DESC', 'CDL_FLAG',\n",
            "       'VEHICLE_ID', 'EMS_UNIT_LABEL', 'AIRBAG_DEPLOYED', 'YEAR', 'QUARTER'],\n",
            "      dtype='object')\n",
            "===============================================================================\n",
            "\n",
            "(VehicleDetails DataSet)\n",
            " Index(['HARM_EVENT_DESC', 'HARM_EVENT_CODE', 'CONTI_DIRECTION_DESC',\n",
            "       'CONTI_DIRECTION_CODE', 'DAMAGE_DESC', 'DAMAGE_CODE', 'MOVEMENT_DESC',\n",
            "       'MOVEMENT_CODE', 'VIN_NO', 'REPORT_NO', 'CV_BODY_TYPE_DESC',\n",
            "       'CV_BODY_TYPE_CODE', 'VEH_YEAR', 'VEH_MAKE', 'VEH_MODEL',\n",
            "       'COMMERCIAL_FLAG_DESC', 'COMMERCIAL_FLAG', 'HZM_NUM',\n",
            "       'TOWED_AWAY_FLAG_DESC', 'TOWED_AWAY_FLAG', 'NUM_AXLES', 'GVW_DESC',\n",
            "       'GVW_CODE', 'GOING_DIRECTION_DESC', 'GOING_DIRECTION_CODE',\n",
            "       'BODY_TYPE_DESC', 'BODY_TYPE_CODE', 'DRIVERLESS_FLAG_DESC',\n",
            "       'DRIVERLESS_FLAG', 'FIRE_FLAG_DESC', 'FIRE_FLAG', 'PARKED_FLAG_DESC',\n",
            "       'PARKED_FLAG', 'SPEED_LIMIT', 'HIT_AND_RUN_FLAG_DESC',\n",
            "       'HIT_AND_RUN_FLAG', 'HAZMAT_SPILL_FLAG_DESC', 'HAZMAT_SPILL_FLAG',\n",
            "       'VEHICLE_ID', 'TOWED_VEHICLE_CONFIG_DESC', 'TOWED_VEHICLE_CONFIG_CODE',\n",
            "       'AREA_DAMAGED_CODE_IMP1', 'AREA_DAMAGED_CODE1', 'AREA_DAMAGED_CODE2',\n",
            "       'AREA_DAMAGED_CODE3', 'AREA_DAMAGED_CODE_MAIN_DESC',\n",
            "       'AREA_DAMAGED_CODE_MAIN', 'YEAR', 'QUARTER'],\n",
            "      dtype='object')\n"
          ]
        }
      ],
      "source": [
        "print(\"(VehicleCrashes DataSet)\\n\",VehicleCrashes.columns)\n",
        "print(\"===============================================================================\\n\")\n",
        "print(\"(PersonalDetails DataSet)\\n\",PersonalDetails.columns)\n",
        "print(\"===============================================================================\\n\")\n",
        "print(\"(VehicleDetails DataSet)\\n\",VehicleDetails.columns)"
      ],
      "id": "i4bfinfgvlZZ"
    },
    {
      "cell_type": "markdown",
      "metadata": {
        "id": "R6963oZOsF-F"
      },
      "source": [
        "Adding extra column ACCIDENT_DATETIME which will be the combination of ACC_DATE and ACC_TIME\n",
        "We could use this column in the future to get the overview of Accident happened at what Date,year,month, Time"
      ],
      "id": "R6963oZOsF-F"
    },
    {
      "cell_type": "code",
      "execution_count": 10,
      "metadata": {
        "id": "e46de344",
        "colab": {
          "base_uri": "https://localhost:8080/",
          "height": 246
        },
        "outputId": "5a312335-6c01-40f0-81f3-07da21ca8909"
      },
      "outputs": [
        {
          "output_type": "execute_result",
          "data": {
            "text/plain": [
              "   YEAR QUARTER LIGHT_DESC  LIGHT_CODE     COUNTY_DESC  COUNTY_NO  MUNI_DESC  \\\n",
              "0  2020      Q2   Daylight        1.00       Baltimore        3.0        NaN   \n",
              "1  2020      Q2        NaN        6.02  Baltimore City       24.0        NaN   \n",
              "\n",
              "   MUNI_CODE     JUNCTION_DESC  JUNCTION_CODE COLLISION_TYPE_DESC  \\\n",
              "0        NaN               NaN            NaN               Other   \n",
              "1        NaN  Non Intersection            1.0               Other   \n",
              "\n",
              "   COLLISION_TYPE_CODE SURF_COND_DESC  SURF_COND_CODE       LANE_DESC  \\\n",
              "0                   88            NaN             NaN             NaN   \n",
              "1                   88            Dry             2.0  Left Turn Lane   \n",
              "\n",
              "   LANE_CODE RD_COND_DESC  RD_COND_CODE         RD_DIV_DESC  RD_DIV_CODE  \\\n",
              "0        NaN          NaN           NaN                 NaN          NaN   \n",
              "1        2.0   No Defects           1.0  One-way Trafficway          2.0   \n",
              "\n",
              "     FIX_OBJ_DESC  FIX_OBJ_CODE   REPORT_NO            REPORT_TYPE  \\\n",
              "0  Not Applicable           0.0  AE58770052  Property Damage Crash   \n",
              "1      Other Pole          10.0  ADJ984001J           Injury Crash   \n",
              "\n",
              "     WEATHER_DESC  WEATHER_CODE  ACC_DATE  ACC_TIME LOC_CODE SIGNAL_FLAG_DESC  \\\n",
              "0  Not Applicable          0.00  20200618  15:15:00      NaN               No   \n",
              "1             NaN          7.01  20200430  06:39:00     1003              Yes   \n",
              "\n",
              "  SIGNAL_FLAG C_M_ZONE_FLAG AGENCY_CODE AREA_CODE HARM_EVENT_DESC1  \\\n",
              "0           N             N      BACOPD       UNK   Parked Vehicle   \n",
              "1           Y             N   BALTIMORE       UNK    Other Vehicle   \n",
              "\n",
              "   HARM_EVENT_CODE1 HARM_EVENT_DESC2  HARM_EVENT_CODE2  RTE_NO  \\\n",
              "0               2.0   Not Applicable               0.0     NaN   \n",
              "1               1.0    Other Vehicle               1.0     NaN   \n",
              "\n",
              "  ROUTE_TYPE_CODE RTE_SUFFIX  LOG_MILE LOGMILE_DIR_FLAG_DESC LOGMILE_DIR_FLAG  \\\n",
              "0             NaN        NaN       NaN                   NaN              NaN   \n",
              "1             NaN        NaN       0.0                   NaN              NaN   \n",
              "\n",
              "    MAINROAD_NAME  DISTANCE FEET_MILES_FLAG_DESC FEET_MILES_FLAG  \\\n",
              "0             NaN       NaN                  NaN             NaN   \n",
              "1  CHARLES STREET       2.0                Miles               M   \n",
              "\n",
              "  DISTANCE_DIR_FLAG  REFERENCE_NO REFERENCE_TYPE_CODE REFERENCE_SUFFIX  \\\n",
              "0               NaN           NaN                 NaN              NaN   \n",
              "1                 N           NaN                 NaN              NaN   \n",
              "\n",
              "  REFERENCE_ROAD_NAME   LATITUDE  LONGITUDE  \\\n",
              "0                 NaN  39.277263 -76.503693   \n",
              "1           NORTH AVE  39.311025 -76.616429   \n",
              "\n",
              "                                   LOCATION   ACCIDENT_DATETIME  \n",
              "0           POINT (-76.5036932 39.27726285) 2020-06-18 15:15:00  \n",
              "1  POINT (-76.616429453205 39.311024794431) 2020-04-30 06:39:00  "
            ],
            "text/html": [
              "\n",
              "  <div id=\"df-332eea95-6b8f-4624-acd5-7f64a2c9727a\">\n",
              "    <div class=\"colab-df-container\">\n",
              "      <div>\n",
              "<style scoped>\n",
              "    .dataframe tbody tr th:only-of-type {\n",
              "        vertical-align: middle;\n",
              "    }\n",
              "\n",
              "    .dataframe tbody tr th {\n",
              "        vertical-align: top;\n",
              "    }\n",
              "\n",
              "    .dataframe thead th {\n",
              "        text-align: right;\n",
              "    }\n",
              "</style>\n",
              "<table border=\"1\" class=\"dataframe\">\n",
              "  <thead>\n",
              "    <tr style=\"text-align: right;\">\n",
              "      <th></th>\n",
              "      <th>YEAR</th>\n",
              "      <th>QUARTER</th>\n",
              "      <th>LIGHT_DESC</th>\n",
              "      <th>LIGHT_CODE</th>\n",
              "      <th>COUNTY_DESC</th>\n",
              "      <th>COUNTY_NO</th>\n",
              "      <th>MUNI_DESC</th>\n",
              "      <th>MUNI_CODE</th>\n",
              "      <th>JUNCTION_DESC</th>\n",
              "      <th>JUNCTION_CODE</th>\n",
              "      <th>COLLISION_TYPE_DESC</th>\n",
              "      <th>COLLISION_TYPE_CODE</th>\n",
              "      <th>SURF_COND_DESC</th>\n",
              "      <th>SURF_COND_CODE</th>\n",
              "      <th>LANE_DESC</th>\n",
              "      <th>LANE_CODE</th>\n",
              "      <th>RD_COND_DESC</th>\n",
              "      <th>RD_COND_CODE</th>\n",
              "      <th>RD_DIV_DESC</th>\n",
              "      <th>RD_DIV_CODE</th>\n",
              "      <th>FIX_OBJ_DESC</th>\n",
              "      <th>FIX_OBJ_CODE</th>\n",
              "      <th>REPORT_NO</th>\n",
              "      <th>REPORT_TYPE</th>\n",
              "      <th>WEATHER_DESC</th>\n",
              "      <th>WEATHER_CODE</th>\n",
              "      <th>ACC_DATE</th>\n",
              "      <th>ACC_TIME</th>\n",
              "      <th>LOC_CODE</th>\n",
              "      <th>SIGNAL_FLAG_DESC</th>\n",
              "      <th>SIGNAL_FLAG</th>\n",
              "      <th>C_M_ZONE_FLAG</th>\n",
              "      <th>AGENCY_CODE</th>\n",
              "      <th>AREA_CODE</th>\n",
              "      <th>HARM_EVENT_DESC1</th>\n",
              "      <th>HARM_EVENT_CODE1</th>\n",
              "      <th>HARM_EVENT_DESC2</th>\n",
              "      <th>HARM_EVENT_CODE2</th>\n",
              "      <th>RTE_NO</th>\n",
              "      <th>ROUTE_TYPE_CODE</th>\n",
              "      <th>RTE_SUFFIX</th>\n",
              "      <th>LOG_MILE</th>\n",
              "      <th>LOGMILE_DIR_FLAG_DESC</th>\n",
              "      <th>LOGMILE_DIR_FLAG</th>\n",
              "      <th>MAINROAD_NAME</th>\n",
              "      <th>DISTANCE</th>\n",
              "      <th>FEET_MILES_FLAG_DESC</th>\n",
              "      <th>FEET_MILES_FLAG</th>\n",
              "      <th>DISTANCE_DIR_FLAG</th>\n",
              "      <th>REFERENCE_NO</th>\n",
              "      <th>REFERENCE_TYPE_CODE</th>\n",
              "      <th>REFERENCE_SUFFIX</th>\n",
              "      <th>REFERENCE_ROAD_NAME</th>\n",
              "      <th>LATITUDE</th>\n",
              "      <th>LONGITUDE</th>\n",
              "      <th>LOCATION</th>\n",
              "      <th>ACCIDENT_DATETIME</th>\n",
              "    </tr>\n",
              "  </thead>\n",
              "  <tbody>\n",
              "    <tr>\n",
              "      <th>0</th>\n",
              "      <td>2020</td>\n",
              "      <td>Q2</td>\n",
              "      <td>Daylight</td>\n",
              "      <td>1.00</td>\n",
              "      <td>Baltimore</td>\n",
              "      <td>3.0</td>\n",
              "      <td>NaN</td>\n",
              "      <td>NaN</td>\n",
              "      <td>NaN</td>\n",
              "      <td>NaN</td>\n",
              "      <td>Other</td>\n",
              "      <td>88</td>\n",
              "      <td>NaN</td>\n",
              "      <td>NaN</td>\n",
              "      <td>NaN</td>\n",
              "      <td>NaN</td>\n",
              "      <td>NaN</td>\n",
              "      <td>NaN</td>\n",
              "      <td>NaN</td>\n",
              "      <td>NaN</td>\n",
              "      <td>Not Applicable</td>\n",
              "      <td>0.0</td>\n",
              "      <td>AE58770052</td>\n",
              "      <td>Property Damage Crash</td>\n",
              "      <td>Not Applicable</td>\n",
              "      <td>0.00</td>\n",
              "      <td>20200618</td>\n",
              "      <td>15:15:00</td>\n",
              "      <td>NaN</td>\n",
              "      <td>No</td>\n",
              "      <td>N</td>\n",
              "      <td>N</td>\n",
              "      <td>BACOPD</td>\n",
              "      <td>UNK</td>\n",
              "      <td>Parked Vehicle</td>\n",
              "      <td>2.0</td>\n",
              "      <td>Not Applicable</td>\n",
              "      <td>0.0</td>\n",
              "      <td>NaN</td>\n",
              "      <td>NaN</td>\n",
              "      <td>NaN</td>\n",
              "      <td>NaN</td>\n",
              "      <td>NaN</td>\n",
              "      <td>NaN</td>\n",
              "      <td>NaN</td>\n",
              "      <td>NaN</td>\n",
              "      <td>NaN</td>\n",
              "      <td>NaN</td>\n",
              "      <td>NaN</td>\n",
              "      <td>NaN</td>\n",
              "      <td>NaN</td>\n",
              "      <td>NaN</td>\n",
              "      <td>NaN</td>\n",
              "      <td>39.277263</td>\n",
              "      <td>-76.503693</td>\n",
              "      <td>POINT (-76.5036932 39.27726285)</td>\n",
              "      <td>2020-06-18 15:15:00</td>\n",
              "    </tr>\n",
              "    <tr>\n",
              "      <th>1</th>\n",
              "      <td>2020</td>\n",
              "      <td>Q2</td>\n",
              "      <td>NaN</td>\n",
              "      <td>6.02</td>\n",
              "      <td>Baltimore City</td>\n",
              "      <td>24.0</td>\n",
              "      <td>NaN</td>\n",
              "      <td>NaN</td>\n",
              "      <td>Non Intersection</td>\n",
              "      <td>1.0</td>\n",
              "      <td>Other</td>\n",
              "      <td>88</td>\n",
              "      <td>Dry</td>\n",
              "      <td>2.0</td>\n",
              "      <td>Left Turn Lane</td>\n",
              "      <td>2.0</td>\n",
              "      <td>No Defects</td>\n",
              "      <td>1.0</td>\n",
              "      <td>One-way Trafficway</td>\n",
              "      <td>2.0</td>\n",
              "      <td>Other Pole</td>\n",
              "      <td>10.0</td>\n",
              "      <td>ADJ984001J</td>\n",
              "      <td>Injury Crash</td>\n",
              "      <td>NaN</td>\n",
              "      <td>7.01</td>\n",
              "      <td>20200430</td>\n",
              "      <td>06:39:00</td>\n",
              "      <td>1003</td>\n",
              "      <td>Yes</td>\n",
              "      <td>Y</td>\n",
              "      <td>N</td>\n",
              "      <td>BALTIMORE</td>\n",
              "      <td>UNK</td>\n",
              "      <td>Other Vehicle</td>\n",
              "      <td>1.0</td>\n",
              "      <td>Other Vehicle</td>\n",
              "      <td>1.0</td>\n",
              "      <td>NaN</td>\n",
              "      <td>NaN</td>\n",
              "      <td>NaN</td>\n",
              "      <td>0.0</td>\n",
              "      <td>NaN</td>\n",
              "      <td>NaN</td>\n",
              "      <td>CHARLES STREET</td>\n",
              "      <td>2.0</td>\n",
              "      <td>Miles</td>\n",
              "      <td>M</td>\n",
              "      <td>N</td>\n",
              "      <td>NaN</td>\n",
              "      <td>NaN</td>\n",
              "      <td>NaN</td>\n",
              "      <td>NORTH AVE</td>\n",
              "      <td>39.311025</td>\n",
              "      <td>-76.616429</td>\n",
              "      <td>POINT (-76.616429453205 39.311024794431)</td>\n",
              "      <td>2020-04-30 06:39:00</td>\n",
              "    </tr>\n",
              "  </tbody>\n",
              "</table>\n",
              "</div>\n",
              "      <button class=\"colab-df-convert\" onclick=\"convertToInteractive('df-332eea95-6b8f-4624-acd5-7f64a2c9727a')\"\n",
              "              title=\"Convert this dataframe to an interactive table.\"\n",
              "              style=\"display:none;\">\n",
              "        \n",
              "  <svg xmlns=\"http://www.w3.org/2000/svg\" height=\"24px\"viewBox=\"0 0 24 24\"\n",
              "       width=\"24px\">\n",
              "    <path d=\"M0 0h24v24H0V0z\" fill=\"none\"/>\n",
              "    <path d=\"M18.56 5.44l.94 2.06.94-2.06 2.06-.94-2.06-.94-.94-2.06-.94 2.06-2.06.94zm-11 1L8.5 8.5l.94-2.06 2.06-.94-2.06-.94L8.5 2.5l-.94 2.06-2.06.94zm10 10l.94 2.06.94-2.06 2.06-.94-2.06-.94-.94-2.06-.94 2.06-2.06.94z\"/><path d=\"M17.41 7.96l-1.37-1.37c-.4-.4-.92-.59-1.43-.59-.52 0-1.04.2-1.43.59L10.3 9.45l-7.72 7.72c-.78.78-.78 2.05 0 2.83L4 21.41c.39.39.9.59 1.41.59.51 0 1.02-.2 1.41-.59l7.78-7.78 2.81-2.81c.8-.78.8-2.07 0-2.86zM5.41 20L4 18.59l7.72-7.72 1.47 1.35L5.41 20z\"/>\n",
              "  </svg>\n",
              "      </button>\n",
              "      \n",
              "  <style>\n",
              "    .colab-df-container {\n",
              "      display:flex;\n",
              "      flex-wrap:wrap;\n",
              "      gap: 12px;\n",
              "    }\n",
              "\n",
              "    .colab-df-convert {\n",
              "      background-color: #E8F0FE;\n",
              "      border: none;\n",
              "      border-radius: 50%;\n",
              "      cursor: pointer;\n",
              "      display: none;\n",
              "      fill: #1967D2;\n",
              "      height: 32px;\n",
              "      padding: 0 0 0 0;\n",
              "      width: 32px;\n",
              "    }\n",
              "\n",
              "    .colab-df-convert:hover {\n",
              "      background-color: #E2EBFA;\n",
              "      box-shadow: 0px 1px 2px rgba(60, 64, 67, 0.3), 0px 1px 3px 1px rgba(60, 64, 67, 0.15);\n",
              "      fill: #174EA6;\n",
              "    }\n",
              "\n",
              "    [theme=dark] .colab-df-convert {\n",
              "      background-color: #3B4455;\n",
              "      fill: #D2E3FC;\n",
              "    }\n",
              "\n",
              "    [theme=dark] .colab-df-convert:hover {\n",
              "      background-color: #434B5C;\n",
              "      box-shadow: 0px 1px 3px 1px rgba(0, 0, 0, 0.15);\n",
              "      filter: drop-shadow(0px 1px 2px rgba(0, 0, 0, 0.3));\n",
              "      fill: #FFFFFF;\n",
              "    }\n",
              "  </style>\n",
              "\n",
              "      <script>\n",
              "        const buttonEl =\n",
              "          document.querySelector('#df-332eea95-6b8f-4624-acd5-7f64a2c9727a button.colab-df-convert');\n",
              "        buttonEl.style.display =\n",
              "          google.colab.kernel.accessAllowed ? 'block' : 'none';\n",
              "\n",
              "        async function convertToInteractive(key) {\n",
              "          const element = document.querySelector('#df-332eea95-6b8f-4624-acd5-7f64a2c9727a');\n",
              "          const dataTable =\n",
              "            await google.colab.kernel.invokeFunction('convertToInteractive',\n",
              "                                                     [key], {});\n",
              "          if (!dataTable) return;\n",
              "\n",
              "          const docLinkHtml = 'Like what you see? Visit the ' +\n",
              "            '<a target=\"_blank\" href=https://colab.research.google.com/notebooks/data_table.ipynb>data table notebook</a>'\n",
              "            + ' to learn more about interactive tables.';\n",
              "          element.innerHTML = '';\n",
              "          dataTable['output_type'] = 'display_data';\n",
              "          await google.colab.output.renderOutput(dataTable, element);\n",
              "          const docLink = document.createElement('div');\n",
              "          docLink.innerHTML = docLinkHtml;\n",
              "          element.appendChild(docLink);\n",
              "        }\n",
              "      </script>\n",
              "    </div>\n",
              "  </div>\n",
              "  "
            ]
          },
          "metadata": {},
          "execution_count": 10
        }
      ],
      "source": [
        "VehicleCrashes['ACCIDENT_DATETIME'] = pd.to_datetime(VehicleCrashes.ACC_DATE.astype(str)+' '+VehicleCrashes.ACC_TIME.astype(str))\n",
        "VehicleCrashes.head(2)"
      ],
      "id": "e46de344"
    },
    {
      "cell_type": "markdown",
      "source": [
        "# **Merging**"
      ],
      "metadata": {
        "id": "kgNoQdun4HsM"
      },
      "id": "kgNoQdun4HsM"
    },
    {
      "cell_type": "markdown",
      "metadata": {
        "id": "rPBJBwa2rFaQ"
      },
      "source": [
        "####Merging of PersonalDetails and VehicleDetails datasets of years 2020 and 2021"
      ],
      "id": "rPBJBwa2rFaQ"
    },
    {
      "cell_type": "code",
      "execution_count": 11,
      "metadata": {
        "colab": {
          "base_uri": "https://localhost:8080/"
        },
        "id": "o4Tg_SSq8_ok",
        "outputId": "93ab2f7e-3957-43bf-a6bc-97cc867096d5"
      },
      "outputs": [
        {
          "output_type": "execute_result",
          "data": {
            "text/plain": [
              "(688438, 91)"
            ]
          },
          "metadata": {},
          "execution_count": 11
        }
      ],
      "source": [
        "#Merging Vehicle details and Personal details datasets\n",
        "Vehicle_Personal_Details = pd.merge(VehicleDetails, PersonalDetails, how = 'outer', on = ['MOVEMENT_CODE', 'MOVEMENT_DESC', 'QUARTER', 'REPORT_NO','VEHICLE_ID', 'YEAR'])\n",
        "Vehicle_Personal_Details.shape"
      ],
      "id": "o4Tg_SSq8_ok"
    },
    {
      "cell_type": "markdown",
      "metadata": {
        "id": "UQ-L3R4Q0QZg"
      },
      "source": [
        "####Merging all three datasets: Vehicle Crashes, Vehicle Details and Personal Details to understand the relations and patterns of the data"
      ],
      "id": "UQ-L3R4Q0QZg"
    },
    {
      "cell_type": "code",
      "execution_count": 12,
      "metadata": {
        "colab": {
          "base_uri": "https://localhost:8080/",
          "height": 499
        },
        "id": "BI3VWiZd9fm0",
        "outputId": "5f69d4f9-b49e-4cc0-bf3f-b21efd0a0c9e"
      },
      "outputs": [
        {
          "output_type": "stream",
          "name": "stdout",
          "text": [
            "Shape of Merged data  :  (688442, 145)\n",
            "================================================\n"
          ]
        },
        {
          "output_type": "execute_result",
          "data": {
            "text/plain": [
              "  HARM_EVENT_DESC  HARM_EVENT_CODE CONTI_DIRECTION_DESC CONTI_DIRECTION_CODE  \\\n",
              "0   Other Vehicle              1.0                North                    N   \n",
              "1  Not Applicable              0.0                  NaN                  NaN   \n",
              "2             NaN              NaN                  NaN                  NaN   \n",
              "3   Other Vehicle              1.0                North                    N   \n",
              "\n",
              "   DAMAGE_DESC  DAMAGE_CODE          MOVEMENT_DESC  MOVEMENT_CODE  \\\n",
              "0      Unknown         99.0                Unknown           99.0   \n",
              "1   Functional          3.0                 Parked           10.0   \n",
              "2          NaN          NaN                    NaN            NaN   \n",
              "3  Superficial          2.0  Moving Constant Speed            1.0   \n",
              "\n",
              "              VIN_NO    REPORT_NO CV_BODY_TYPE_DESC  CV_BODY_TYPE_CODE  \\\n",
              "0                NaN   AE5057004X               NaN                NaN   \n",
              "1  1GNEL19X95B120644   AE5057004X               NaN                NaN   \n",
              "2                NaN   AE5057004X               NaN                NaN   \n",
              "3  NMTKHMBX0JR025092  MSP7221001P               NaN                NaN   \n",
              "\n",
              "   VEH_YEAR VEH_MAKE VEH_MODEL COMMERCIAL_FLAG_DESC COMMERCIAL_FLAG HZM_NUM  \\\n",
              "0       NaN  UNKNOWN   UNKNOWN                   No               N     NaN   \n",
              "1    2005.0    CHEVY     ASTRO                   No               N     NaN   \n",
              "2       NaN      NaN       NaN                  NaN             NaN     NaN   \n",
              "3    2018.0   TOYOTA     CAMRY                   No               N     NaN   \n",
              "\n",
              "  TOWED_AWAY_FLAG_DESC TOWED_AWAY_FLAG  NUM_AXLES GVW_DESC  GVW_CODE  \\\n",
              "0                   No               N        NaN      NaN       NaN   \n",
              "1                   No               N        NaN      NaN       NaN   \n",
              "2                  NaN             NaN        NaN      NaN       NaN   \n",
              "3                   No               N        NaN      NaN       NaN   \n",
              "\n",
              "  GOING_DIRECTION_DESC GOING_DIRECTION_CODE BODY_TYPE_DESC  BODY_TYPE_CODE  \\\n",
              "0                North                    N            NaN             NaN   \n",
              "1                  NaN                  NaN  Passenger Car             2.0   \n",
              "2                  NaN                  NaN            NaN             NaN   \n",
              "3                North                    N  Passenger Car             2.0   \n",
              "\n",
              "  DRIVERLESS_FLAG_DESC DRIVERLESS_FLAG FIRE_FLAG_DESC FIRE_FLAG  \\\n",
              "0                  NaN               U             No         N   \n",
              "1                  Yes               Y             No         N   \n",
              "2                  NaN             NaN            NaN       NaN   \n",
              "3                   No               N             No         N   \n",
              "\n",
              "  PARKED_FLAG_DESC PARKED_FLAG  SPEED_LIMIT HIT_AND_RUN_FLAG_DESC  \\\n",
              "0               No           N         25.0                   Yes   \n",
              "1              Yes           Y         25.0                    No   \n",
              "2              NaN         NaN          NaN                   NaN   \n",
              "3               No           N         55.0                    No   \n",
              "\n",
              "  HIT_AND_RUN_FLAG HAZMAT_SPILL_FLAG_DESC HAZMAT_SPILL_FLAG  \\\n",
              "0                Y                    NaN               NaN   \n",
              "1                N                    NaN               NaN   \n",
              "2              NaN                    NaN               NaN   \n",
              "3                N                    NaN               NaN   \n",
              "\n",
              "                             VEHICLE_ID TOWED_VEHICLE_CONFIG_DESC  \\\n",
              "0  47e2531d-8c69-470c-9198-502a46c7639e                   Unknown   \n",
              "1  546908c6-3c1d-4433-aff1-f613347f3aad            Not Applicable   \n",
              "2  47e2531d-8c69-470c-9198-502a46c7639e                       NaN   \n",
              "3  0dbd4a00-c7f2-4c34-b543-c2633fe0118f            Not Applicable   \n",
              "\n",
              "   TOWED_VEHICLE_CONFIG_CODE  AREA_DAMAGED_CODE_IMP1  AREA_DAMAGED_CODE1  \\\n",
              "0                       99.0                    11.0                10.0   \n",
              "1                        0.0                    10.0                 7.0   \n",
              "2                        NaN                     NaN                 NaN   \n",
              "3                        0.0                    12.0                 6.0   \n",
              "\n",
              "   AREA_DAMAGED_CODE2  AREA_DAMAGED_CODE3 AREA_DAMAGED_CODE_MAIN_DESC  \\\n",
              "0                11.0                12.0              Eleven o'clock   \n",
              "1                 8.0                10.0               Eight o'clock   \n",
              "2                 NaN                 NaN                         NaN   \n",
              "3                12.0                 NaN              Twelve o'clock   \n",
              "\n",
              "   AREA_DAMAGED_CODE_MAIN  YEAR QUARTER SEX_DESC SEX_CODE CONDITION_DESC  \\\n",
              "0                    11.0  2020      Q2      NaN      NaN            NaN   \n",
              "1                     8.0  2020      Q2      NaN      NaN            NaN   \n",
              "2                     NaN  2020      Q2      NaN      NaN        Unknown   \n",
              "3                    12.0  2020      Q2      NaN      NaN            NaN   \n",
              "\n",
              "   CONDITION_CODE INJ_SEVER_DESC  INJ_SEVER_CODE OCC_SEAT_POS_DESC  \\\n",
              "0             NaN            NaN             NaN               NaN   \n",
              "1             NaN            NaN             NaN               NaN   \n",
              "2            99.0      No Injury             1.0               NaN   \n",
              "3             NaN            NaN             NaN               NaN   \n",
              "\n",
              "   OCC_SEAT_POS_CODE PED_VISIBLE_DESC  PED_VISIBLE_CODE PED_OBEY_DESC  \\\n",
              "0                NaN              NaN               NaN           NaN   \n",
              "1                NaN              NaN               NaN           NaN   \n",
              "2                NaN              NaN               NaN           NaN   \n",
              "3                NaN              NaN               NaN           NaN   \n",
              "\n",
              "   PED_OBEY_CODE PED_TYPE_DESC  PED_TYPE_CODE  PED_LOCATION_CODE  \\\n",
              "0            NaN           NaN            NaN                NaN   \n",
              "1            NaN           NaN            NaN                NaN   \n",
              "2            NaN           NaN            NaN                NaN   \n",
              "3            NaN           NaN            NaN                NaN   \n",
              "\n",
              "  PERSON_TYPE_DESC PERSON_TYPE ALCOHOL_TEST_DESC  ALCOHOL_TEST_CODE  \\\n",
              "0              NaN         NaN               NaN                NaN   \n",
              "1              NaN         NaN               NaN                NaN   \n",
              "2           Driver           D    Not Applicable                0.0   \n",
              "3              NaN         NaN               NaN                NaN   \n",
              "\n",
              "  ALCOHOL_TESTTYPE_DESC  ALCOHOL_TESTTYPE_CODE  DRUG_TEST_DESC  \\\n",
              "0                   NaN                    NaN             NaN   \n",
              "1                   NaN                    NaN             NaN   \n",
              "2                   NaN                    NaN  Not Applicable   \n",
              "3                   NaN                    NaN             NaN   \n",
              "\n",
              "   DRUG_TEST_CODE DRUG_TESTRESULT_DESC DRUG_TESTRESULT_CODE  BAC_CODE  \\\n",
              "0             NaN                  NaN                  NaN       NaN   \n",
              "1             NaN                  NaN                  NaN       NaN   \n",
              "2             0.0                  NaN                  NaN       NaN   \n",
              "3             NaN                  NaN                  NaN       NaN   \n",
              "\n",
              "  FAULT_FLAG_DESC FAULT_FLAG EQUIP_PROB_DESC  EQUIP_PROB_CODE SAF_EQUIP_DESC  \\\n",
              "0             NaN        NaN             NaN              NaN            NaN   \n",
              "1             NaN        NaN             NaN              NaN            NaN   \n",
              "2            True          Y         Unknown             99.0        Unknown   \n",
              "3             NaN        NaN             NaN              NaN            NaN   \n",
              "\n",
              "   SAF_EQUIP_CODE EJECT_DESC  EJECT_CODE DATE_OF_BIRTH  \\\n",
              "0             NaN        NaN         NaN           NaN   \n",
              "1             NaN        NaN         NaN           NaN   \n",
              "2            99.0    Unknown        99.0           NaN   \n",
              "3             NaN        NaN         NaN           NaN   \n",
              "\n",
              "                              PERSON_ID LICENSE_STATE_CODE CLASS  \\\n",
              "0                                   NaN                NaN   NaN   \n",
              "1                                   NaN                NaN   NaN   \n",
              "2  af03961d-5577-4e69-8709-62b279c08bd7                NaN   NaN   \n",
              "3                                   NaN                NaN   NaN   \n",
              "\n",
              "  CDL_FLAG_DESC CDL_FLAG EMS_UNIT_LABEL  AIRBAG_DEPLOYED LIGHT_DESC  \\\n",
              "0           NaN      NaN            NaN              NaN   Daylight   \n",
              "1           NaN      NaN            NaN              NaN   Daylight   \n",
              "2         False    False            NaN              0.0   Daylight   \n",
              "3           NaN      NaN            NaN              NaN   Daylight   \n",
              "\n",
              "   LIGHT_CODE      COUNTY_DESC  COUNTY_NO  MUNI_DESC  MUNI_CODE  \\\n",
              "0         1.0        Baltimore        3.0        NaN        0.0   \n",
              "1         1.0        Baltimore        3.0        NaN        0.0   \n",
              "2         1.0        Baltimore        3.0        NaN        0.0   \n",
              "3         1.0  Prince George's       16.0        NaN       71.0   \n",
              "\n",
              "      JUNCTION_DESC  JUNCTION_CODE      COLLISION_TYPE_DESC  \\\n",
              "0  Non Intersection           1.00                    Other   \n",
              "1  Non Intersection           1.00                    Other   \n",
              "2  Non Intersection           1.00                    Other   \n",
              "3               NaN           5.01  Same Direction Rear End   \n",
              "\n",
              "   COLLISION_TYPE_CODE SURF_COND_DESC  SURF_COND_CODE        LANE_DESC  \\\n",
              "0                 88.0            Dry             2.0  Right Turn Lane   \n",
              "1                 88.0            Dry             2.0  Right Turn Lane   \n",
              "2                 88.0            Dry             2.0  Right Turn Lane   \n",
              "3                  3.0            Dry             2.0    Shoulder Area   \n",
              "\n",
              "   LANE_CODE RD_COND_DESC  RD_COND_CODE  \\\n",
              "0        1.0   No Defects           1.0   \n",
              "1        1.0   No Defects           1.0   \n",
              "2        1.0   No Defects           1.0   \n",
              "3        5.0   No Defects           1.0   \n",
              "\n",
              "                                 RD_DIV_DESC  RD_DIV_CODE    FIX_OBJ_DESC  \\\n",
              "0                       Two-way, Not Divided          1.0  Not Applicable   \n",
              "1                       Two-way, Not Divided          1.0  Not Applicable   \n",
              "2                       Two-way, Not Divided          1.0  Not Applicable   \n",
              "3  Two-way, Divided, Positive Median Barrier          4.0  Not Applicable   \n",
              "\n",
              "   FIX_OBJ_CODE            REPORT_TYPE    WEATHER_DESC  WEATHER_CODE  \\\n",
              "0           0.0  Property Damage Crash  Not Applicable          0.00   \n",
              "1           0.0  Property Damage Crash  Not Applicable          0.00   \n",
              "2           0.0  Property Damage Crash  Not Applicable          0.00   \n",
              "3           0.0           Injury Crash             NaN          6.01   \n",
              "\n",
              "     ACC_DATE  ACC_TIME LOC_CODE SIGNAL_FLAG_DESC SIGNAL_FLAG C_M_ZONE_FLAG  \\\n",
              "0  20200528.0  11:40:00      NaN               No           N             N   \n",
              "1  20200528.0  11:40:00      NaN               No           N             N   \n",
              "2  20200528.0  11:40:00      NaN               No           N             N   \n",
              "3  20200605.0  12:22:00      NaN               No           N             N   \n",
              "\n",
              "  AGENCY_CODE AREA_CODE HARM_EVENT_DESC1  HARM_EVENT_CODE1 HARM_EVENT_DESC2  \\\n",
              "0      BACOPD       UNK    Other Vehicle               1.0   Not Applicable   \n",
              "1      BACOPD       UNK    Other Vehicle               1.0   Not Applicable   \n",
              "2      BACOPD       UNK    Other Vehicle               1.0   Not Applicable   \n",
              "3         MSP       UNK    Other Vehicle               1.0   Not Applicable   \n",
              "\n",
              "   HARM_EVENT_CODE2  RTE_NO ROUTE_TYPE_CODE RTE_SUFFIX  LOG_MILE  \\\n",
              "0               0.0  3073.0              CO        NaN      0.06   \n",
              "1               0.0  3073.0              CO        NaN      0.06   \n",
              "2               0.0  3073.0              CO        NaN      0.06   \n",
              "3               0.0    95.0              IS        NaN     22.12   \n",
              "\n",
              "  LOGMILE_DIR_FLAG_DESC LOGMILE_DIR_FLAG    MAINROAD_NAME  DISTANCE  \\\n",
              "0                 North                N      DOLORES AVE     300.0   \n",
              "1                 North                N      DOLORES AVE     300.0   \n",
              "2                 North                N      DOLORES AVE     300.0   \n",
              "3                 North                N  CAPITAL BELTWAY       0.0   \n",
              "\n",
              "  FEET_MILES_FLAG_DESC FEET_MILES_FLAG DISTANCE_DIR_FLAG  REFERENCE_NO  \\\n",
              "0                 Feet               F                 N        3074.0   \n",
              "1                 Feet               F                 N        3074.0   \n",
              "2                 Feet               F                 N        3074.0   \n",
              "3                Miles               M                 N           0.0   \n",
              "\n",
              "  REFERENCE_TYPE_CODE REFERENCE_SUFFIX REFERENCE_ROAD_NAME   LATITUDE  \\\n",
              "0                  CO              NaN         BREWSTER ST  39.245577   \n",
              "1                  CO              NaN         BREWSTER ST  39.245577   \n",
              "2                  CO              NaN         BREWSTER ST  39.245577   \n",
              "3                  UU              NaN            EXIT #22  38.989139   \n",
              "\n",
              "   LONGITUDE                                  LOCATION   ACCIDENT_DATETIME  \n",
              "0 -76.702305  POINT (-76.702304848438 39.245576553452) 2020-05-28 11:40:00  \n",
              "1 -76.702305  POINT (-76.702304848438 39.245576553452) 2020-05-28 11:40:00  \n",
              "2 -76.702305  POINT (-76.702304848438 39.245576553452) 2020-05-28 11:40:00  \n",
              "3 -76.883444       POINT (-76.883443983333 38.9891389) 2020-06-05 12:22:00  "
            ],
            "text/html": [
              "\n",
              "  <div id=\"df-de1009ea-7953-4fb1-ade3-3e99b65441c5\">\n",
              "    <div class=\"colab-df-container\">\n",
              "      <div>\n",
              "<style scoped>\n",
              "    .dataframe tbody tr th:only-of-type {\n",
              "        vertical-align: middle;\n",
              "    }\n",
              "\n",
              "    .dataframe tbody tr th {\n",
              "        vertical-align: top;\n",
              "    }\n",
              "\n",
              "    .dataframe thead th {\n",
              "        text-align: right;\n",
              "    }\n",
              "</style>\n",
              "<table border=\"1\" class=\"dataframe\">\n",
              "  <thead>\n",
              "    <tr style=\"text-align: right;\">\n",
              "      <th></th>\n",
              "      <th>HARM_EVENT_DESC</th>\n",
              "      <th>HARM_EVENT_CODE</th>\n",
              "      <th>CONTI_DIRECTION_DESC</th>\n",
              "      <th>CONTI_DIRECTION_CODE</th>\n",
              "      <th>DAMAGE_DESC</th>\n",
              "      <th>DAMAGE_CODE</th>\n",
              "      <th>MOVEMENT_DESC</th>\n",
              "      <th>MOVEMENT_CODE</th>\n",
              "      <th>VIN_NO</th>\n",
              "      <th>REPORT_NO</th>\n",
              "      <th>CV_BODY_TYPE_DESC</th>\n",
              "      <th>CV_BODY_TYPE_CODE</th>\n",
              "      <th>VEH_YEAR</th>\n",
              "      <th>VEH_MAKE</th>\n",
              "      <th>VEH_MODEL</th>\n",
              "      <th>COMMERCIAL_FLAG_DESC</th>\n",
              "      <th>COMMERCIAL_FLAG</th>\n",
              "      <th>HZM_NUM</th>\n",
              "      <th>TOWED_AWAY_FLAG_DESC</th>\n",
              "      <th>TOWED_AWAY_FLAG</th>\n",
              "      <th>NUM_AXLES</th>\n",
              "      <th>GVW_DESC</th>\n",
              "      <th>GVW_CODE</th>\n",
              "      <th>GOING_DIRECTION_DESC</th>\n",
              "      <th>GOING_DIRECTION_CODE</th>\n",
              "      <th>BODY_TYPE_DESC</th>\n",
              "      <th>BODY_TYPE_CODE</th>\n",
              "      <th>DRIVERLESS_FLAG_DESC</th>\n",
              "      <th>DRIVERLESS_FLAG</th>\n",
              "      <th>FIRE_FLAG_DESC</th>\n",
              "      <th>FIRE_FLAG</th>\n",
              "      <th>PARKED_FLAG_DESC</th>\n",
              "      <th>PARKED_FLAG</th>\n",
              "      <th>SPEED_LIMIT</th>\n",
              "      <th>HIT_AND_RUN_FLAG_DESC</th>\n",
              "      <th>HIT_AND_RUN_FLAG</th>\n",
              "      <th>HAZMAT_SPILL_FLAG_DESC</th>\n",
              "      <th>HAZMAT_SPILL_FLAG</th>\n",
              "      <th>VEHICLE_ID</th>\n",
              "      <th>TOWED_VEHICLE_CONFIG_DESC</th>\n",
              "      <th>TOWED_VEHICLE_CONFIG_CODE</th>\n",
              "      <th>AREA_DAMAGED_CODE_IMP1</th>\n",
              "      <th>AREA_DAMAGED_CODE1</th>\n",
              "      <th>AREA_DAMAGED_CODE2</th>\n",
              "      <th>AREA_DAMAGED_CODE3</th>\n",
              "      <th>AREA_DAMAGED_CODE_MAIN_DESC</th>\n",
              "      <th>AREA_DAMAGED_CODE_MAIN</th>\n",
              "      <th>YEAR</th>\n",
              "      <th>QUARTER</th>\n",
              "      <th>SEX_DESC</th>\n",
              "      <th>SEX_CODE</th>\n",
              "      <th>CONDITION_DESC</th>\n",
              "      <th>CONDITION_CODE</th>\n",
              "      <th>INJ_SEVER_DESC</th>\n",
              "      <th>INJ_SEVER_CODE</th>\n",
              "      <th>OCC_SEAT_POS_DESC</th>\n",
              "      <th>OCC_SEAT_POS_CODE</th>\n",
              "      <th>PED_VISIBLE_DESC</th>\n",
              "      <th>PED_VISIBLE_CODE</th>\n",
              "      <th>PED_OBEY_DESC</th>\n",
              "      <th>PED_OBEY_CODE</th>\n",
              "      <th>PED_TYPE_DESC</th>\n",
              "      <th>PED_TYPE_CODE</th>\n",
              "      <th>PED_LOCATION_CODE</th>\n",
              "      <th>PERSON_TYPE_DESC</th>\n",
              "      <th>PERSON_TYPE</th>\n",
              "      <th>ALCOHOL_TEST_DESC</th>\n",
              "      <th>ALCOHOL_TEST_CODE</th>\n",
              "      <th>ALCOHOL_TESTTYPE_DESC</th>\n",
              "      <th>ALCOHOL_TESTTYPE_CODE</th>\n",
              "      <th>DRUG_TEST_DESC</th>\n",
              "      <th>DRUG_TEST_CODE</th>\n",
              "      <th>DRUG_TESTRESULT_DESC</th>\n",
              "      <th>DRUG_TESTRESULT_CODE</th>\n",
              "      <th>BAC_CODE</th>\n",
              "      <th>FAULT_FLAG_DESC</th>\n",
              "      <th>FAULT_FLAG</th>\n",
              "      <th>EQUIP_PROB_DESC</th>\n",
              "      <th>EQUIP_PROB_CODE</th>\n",
              "      <th>SAF_EQUIP_DESC</th>\n",
              "      <th>SAF_EQUIP_CODE</th>\n",
              "      <th>EJECT_DESC</th>\n",
              "      <th>EJECT_CODE</th>\n",
              "      <th>DATE_OF_BIRTH</th>\n",
              "      <th>PERSON_ID</th>\n",
              "      <th>LICENSE_STATE_CODE</th>\n",
              "      <th>CLASS</th>\n",
              "      <th>CDL_FLAG_DESC</th>\n",
              "      <th>CDL_FLAG</th>\n",
              "      <th>EMS_UNIT_LABEL</th>\n",
              "      <th>AIRBAG_DEPLOYED</th>\n",
              "      <th>LIGHT_DESC</th>\n",
              "      <th>LIGHT_CODE</th>\n",
              "      <th>COUNTY_DESC</th>\n",
              "      <th>COUNTY_NO</th>\n",
              "      <th>MUNI_DESC</th>\n",
              "      <th>MUNI_CODE</th>\n",
              "      <th>JUNCTION_DESC</th>\n",
              "      <th>JUNCTION_CODE</th>\n",
              "      <th>COLLISION_TYPE_DESC</th>\n",
              "      <th>COLLISION_TYPE_CODE</th>\n",
              "      <th>SURF_COND_DESC</th>\n",
              "      <th>SURF_COND_CODE</th>\n",
              "      <th>LANE_DESC</th>\n",
              "      <th>LANE_CODE</th>\n",
              "      <th>RD_COND_DESC</th>\n",
              "      <th>RD_COND_CODE</th>\n",
              "      <th>RD_DIV_DESC</th>\n",
              "      <th>RD_DIV_CODE</th>\n",
              "      <th>FIX_OBJ_DESC</th>\n",
              "      <th>FIX_OBJ_CODE</th>\n",
              "      <th>REPORT_TYPE</th>\n",
              "      <th>WEATHER_DESC</th>\n",
              "      <th>WEATHER_CODE</th>\n",
              "      <th>ACC_DATE</th>\n",
              "      <th>ACC_TIME</th>\n",
              "      <th>LOC_CODE</th>\n",
              "      <th>SIGNAL_FLAG_DESC</th>\n",
              "      <th>SIGNAL_FLAG</th>\n",
              "      <th>C_M_ZONE_FLAG</th>\n",
              "      <th>AGENCY_CODE</th>\n",
              "      <th>AREA_CODE</th>\n",
              "      <th>HARM_EVENT_DESC1</th>\n",
              "      <th>HARM_EVENT_CODE1</th>\n",
              "      <th>HARM_EVENT_DESC2</th>\n",
              "      <th>HARM_EVENT_CODE2</th>\n",
              "      <th>RTE_NO</th>\n",
              "      <th>ROUTE_TYPE_CODE</th>\n",
              "      <th>RTE_SUFFIX</th>\n",
              "      <th>LOG_MILE</th>\n",
              "      <th>LOGMILE_DIR_FLAG_DESC</th>\n",
              "      <th>LOGMILE_DIR_FLAG</th>\n",
              "      <th>MAINROAD_NAME</th>\n",
              "      <th>DISTANCE</th>\n",
              "      <th>FEET_MILES_FLAG_DESC</th>\n",
              "      <th>FEET_MILES_FLAG</th>\n",
              "      <th>DISTANCE_DIR_FLAG</th>\n",
              "      <th>REFERENCE_NO</th>\n",
              "      <th>REFERENCE_TYPE_CODE</th>\n",
              "      <th>REFERENCE_SUFFIX</th>\n",
              "      <th>REFERENCE_ROAD_NAME</th>\n",
              "      <th>LATITUDE</th>\n",
              "      <th>LONGITUDE</th>\n",
              "      <th>LOCATION</th>\n",
              "      <th>ACCIDENT_DATETIME</th>\n",
              "    </tr>\n",
              "  </thead>\n",
              "  <tbody>\n",
              "    <tr>\n",
              "      <th>0</th>\n",
              "      <td>Other Vehicle</td>\n",
              "      <td>1.0</td>\n",
              "      <td>North</td>\n",
              "      <td>N</td>\n",
              "      <td>Unknown</td>\n",
              "      <td>99.0</td>\n",
              "      <td>Unknown</td>\n",
              "      <td>99.0</td>\n",
              "      <td>NaN</td>\n",
              "      <td>AE5057004X</td>\n",
              "      <td>NaN</td>\n",
              "      <td>NaN</td>\n",
              "      <td>NaN</td>\n",
              "      <td>UNKNOWN</td>\n",
              "      <td>UNKNOWN</td>\n",
              "      <td>No</td>\n",
              "      <td>N</td>\n",
              "      <td>NaN</td>\n",
              "      <td>No</td>\n",
              "      <td>N</td>\n",
              "      <td>NaN</td>\n",
              "      <td>NaN</td>\n",
              "      <td>NaN</td>\n",
              "      <td>North</td>\n",
              "      <td>N</td>\n",
              "      <td>NaN</td>\n",
              "      <td>NaN</td>\n",
              "      <td>NaN</td>\n",
              "      <td>U</td>\n",
              "      <td>No</td>\n",
              "      <td>N</td>\n",
              "      <td>No</td>\n",
              "      <td>N</td>\n",
              "      <td>25.0</td>\n",
              "      <td>Yes</td>\n",
              "      <td>Y</td>\n",
              "      <td>NaN</td>\n",
              "      <td>NaN</td>\n",
              "      <td>47e2531d-8c69-470c-9198-502a46c7639e</td>\n",
              "      <td>Unknown</td>\n",
              "      <td>99.0</td>\n",
              "      <td>11.0</td>\n",
              "      <td>10.0</td>\n",
              "      <td>11.0</td>\n",
              "      <td>12.0</td>\n",
              "      <td>Eleven o'clock</td>\n",
              "      <td>11.0</td>\n",
              "      <td>2020</td>\n",
              "      <td>Q2</td>\n",
              "      <td>NaN</td>\n",
              "      <td>NaN</td>\n",
              "      <td>NaN</td>\n",
              "      <td>NaN</td>\n",
              "      <td>NaN</td>\n",
              "      <td>NaN</td>\n",
              "      <td>NaN</td>\n",
              "      <td>NaN</td>\n",
              "      <td>NaN</td>\n",
              "      <td>NaN</td>\n",
              "      <td>NaN</td>\n",
              "      <td>NaN</td>\n",
              "      <td>NaN</td>\n",
              "      <td>NaN</td>\n",
              "      <td>NaN</td>\n",
              "      <td>NaN</td>\n",
              "      <td>NaN</td>\n",
              "      <td>NaN</td>\n",
              "      <td>NaN</td>\n",
              "      <td>NaN</td>\n",
              "      <td>NaN</td>\n",
              "      <td>NaN</td>\n",
              "      <td>NaN</td>\n",
              "      <td>NaN</td>\n",
              "      <td>NaN</td>\n",
              "      <td>NaN</td>\n",
              "      <td>NaN</td>\n",
              "      <td>NaN</td>\n",
              "      <td>NaN</td>\n",
              "      <td>NaN</td>\n",
              "      <td>NaN</td>\n",
              "      <td>NaN</td>\n",
              "      <td>NaN</td>\n",
              "      <td>NaN</td>\n",
              "      <td>NaN</td>\n",
              "      <td>NaN</td>\n",
              "      <td>NaN</td>\n",
              "      <td>NaN</td>\n",
              "      <td>NaN</td>\n",
              "      <td>NaN</td>\n",
              "      <td>NaN</td>\n",
              "      <td>NaN</td>\n",
              "      <td>Daylight</td>\n",
              "      <td>1.0</td>\n",
              "      <td>Baltimore</td>\n",
              "      <td>3.0</td>\n",
              "      <td>NaN</td>\n",
              "      <td>0.0</td>\n",
              "      <td>Non Intersection</td>\n",
              "      <td>1.00</td>\n",
              "      <td>Other</td>\n",
              "      <td>88.0</td>\n",
              "      <td>Dry</td>\n",
              "      <td>2.0</td>\n",
              "      <td>Right Turn Lane</td>\n",
              "      <td>1.0</td>\n",
              "      <td>No Defects</td>\n",
              "      <td>1.0</td>\n",
              "      <td>Two-way, Not Divided</td>\n",
              "      <td>1.0</td>\n",
              "      <td>Not Applicable</td>\n",
              "      <td>0.0</td>\n",
              "      <td>Property Damage Crash</td>\n",
              "      <td>Not Applicable</td>\n",
              "      <td>0.00</td>\n",
              "      <td>20200528.0</td>\n",
              "      <td>11:40:00</td>\n",
              "      <td>NaN</td>\n",
              "      <td>No</td>\n",
              "      <td>N</td>\n",
              "      <td>N</td>\n",
              "      <td>BACOPD</td>\n",
              "      <td>UNK</td>\n",
              "      <td>Other Vehicle</td>\n",
              "      <td>1.0</td>\n",
              "      <td>Not Applicable</td>\n",
              "      <td>0.0</td>\n",
              "      <td>3073.0</td>\n",
              "      <td>CO</td>\n",
              "      <td>NaN</td>\n",
              "      <td>0.06</td>\n",
              "      <td>North</td>\n",
              "      <td>N</td>\n",
              "      <td>DOLORES AVE</td>\n",
              "      <td>300.0</td>\n",
              "      <td>Feet</td>\n",
              "      <td>F</td>\n",
              "      <td>N</td>\n",
              "      <td>3074.0</td>\n",
              "      <td>CO</td>\n",
              "      <td>NaN</td>\n",
              "      <td>BREWSTER ST</td>\n",
              "      <td>39.245577</td>\n",
              "      <td>-76.702305</td>\n",
              "      <td>POINT (-76.702304848438 39.245576553452)</td>\n",
              "      <td>2020-05-28 11:40:00</td>\n",
              "    </tr>\n",
              "    <tr>\n",
              "      <th>1</th>\n",
              "      <td>Not Applicable</td>\n",
              "      <td>0.0</td>\n",
              "      <td>NaN</td>\n",
              "      <td>NaN</td>\n",
              "      <td>Functional</td>\n",
              "      <td>3.0</td>\n",
              "      <td>Parked</td>\n",
              "      <td>10.0</td>\n",
              "      <td>1GNEL19X95B120644</td>\n",
              "      <td>AE5057004X</td>\n",
              "      <td>NaN</td>\n",
              "      <td>NaN</td>\n",
              "      <td>2005.0</td>\n",
              "      <td>CHEVY</td>\n",
              "      <td>ASTRO</td>\n",
              "      <td>No</td>\n",
              "      <td>N</td>\n",
              "      <td>NaN</td>\n",
              "      <td>No</td>\n",
              "      <td>N</td>\n",
              "      <td>NaN</td>\n",
              "      <td>NaN</td>\n",
              "      <td>NaN</td>\n",
              "      <td>NaN</td>\n",
              "      <td>NaN</td>\n",
              "      <td>Passenger Car</td>\n",
              "      <td>2.0</td>\n",
              "      <td>Yes</td>\n",
              "      <td>Y</td>\n",
              "      <td>No</td>\n",
              "      <td>N</td>\n",
              "      <td>Yes</td>\n",
              "      <td>Y</td>\n",
              "      <td>25.0</td>\n",
              "      <td>No</td>\n",
              "      <td>N</td>\n",
              "      <td>NaN</td>\n",
              "      <td>NaN</td>\n",
              "      <td>546908c6-3c1d-4433-aff1-f613347f3aad</td>\n",
              "      <td>Not Applicable</td>\n",
              "      <td>0.0</td>\n",
              "      <td>10.0</td>\n",
              "      <td>7.0</td>\n",
              "      <td>8.0</td>\n",
              "      <td>10.0</td>\n",
              "      <td>Eight o'clock</td>\n",
              "      <td>8.0</td>\n",
              "      <td>2020</td>\n",
              "      <td>Q2</td>\n",
              "      <td>NaN</td>\n",
              "      <td>NaN</td>\n",
              "      <td>NaN</td>\n",
              "      <td>NaN</td>\n",
              "      <td>NaN</td>\n",
              "      <td>NaN</td>\n",
              "      <td>NaN</td>\n",
              "      <td>NaN</td>\n",
              "      <td>NaN</td>\n",
              "      <td>NaN</td>\n",
              "      <td>NaN</td>\n",
              "      <td>NaN</td>\n",
              "      <td>NaN</td>\n",
              "      <td>NaN</td>\n",
              "      <td>NaN</td>\n",
              "      <td>NaN</td>\n",
              "      <td>NaN</td>\n",
              "      <td>NaN</td>\n",
              "      <td>NaN</td>\n",
              "      <td>NaN</td>\n",
              "      <td>NaN</td>\n",
              "      <td>NaN</td>\n",
              "      <td>NaN</td>\n",
              "      <td>NaN</td>\n",
              "      <td>NaN</td>\n",
              "      <td>NaN</td>\n",
              "      <td>NaN</td>\n",
              "      <td>NaN</td>\n",
              "      <td>NaN</td>\n",
              "      <td>NaN</td>\n",
              "      <td>NaN</td>\n",
              "      <td>NaN</td>\n",
              "      <td>NaN</td>\n",
              "      <td>NaN</td>\n",
              "      <td>NaN</td>\n",
              "      <td>NaN</td>\n",
              "      <td>NaN</td>\n",
              "      <td>NaN</td>\n",
              "      <td>NaN</td>\n",
              "      <td>NaN</td>\n",
              "      <td>NaN</td>\n",
              "      <td>NaN</td>\n",
              "      <td>Daylight</td>\n",
              "      <td>1.0</td>\n",
              "      <td>Baltimore</td>\n",
              "      <td>3.0</td>\n",
              "      <td>NaN</td>\n",
              "      <td>0.0</td>\n",
              "      <td>Non Intersection</td>\n",
              "      <td>1.00</td>\n",
              "      <td>Other</td>\n",
              "      <td>88.0</td>\n",
              "      <td>Dry</td>\n",
              "      <td>2.0</td>\n",
              "      <td>Right Turn Lane</td>\n",
              "      <td>1.0</td>\n",
              "      <td>No Defects</td>\n",
              "      <td>1.0</td>\n",
              "      <td>Two-way, Not Divided</td>\n",
              "      <td>1.0</td>\n",
              "      <td>Not Applicable</td>\n",
              "      <td>0.0</td>\n",
              "      <td>Property Damage Crash</td>\n",
              "      <td>Not Applicable</td>\n",
              "      <td>0.00</td>\n",
              "      <td>20200528.0</td>\n",
              "      <td>11:40:00</td>\n",
              "      <td>NaN</td>\n",
              "      <td>No</td>\n",
              "      <td>N</td>\n",
              "      <td>N</td>\n",
              "      <td>BACOPD</td>\n",
              "      <td>UNK</td>\n",
              "      <td>Other Vehicle</td>\n",
              "      <td>1.0</td>\n",
              "      <td>Not Applicable</td>\n",
              "      <td>0.0</td>\n",
              "      <td>3073.0</td>\n",
              "      <td>CO</td>\n",
              "      <td>NaN</td>\n",
              "      <td>0.06</td>\n",
              "      <td>North</td>\n",
              "      <td>N</td>\n",
              "      <td>DOLORES AVE</td>\n",
              "      <td>300.0</td>\n",
              "      <td>Feet</td>\n",
              "      <td>F</td>\n",
              "      <td>N</td>\n",
              "      <td>3074.0</td>\n",
              "      <td>CO</td>\n",
              "      <td>NaN</td>\n",
              "      <td>BREWSTER ST</td>\n",
              "      <td>39.245577</td>\n",
              "      <td>-76.702305</td>\n",
              "      <td>POINT (-76.702304848438 39.245576553452)</td>\n",
              "      <td>2020-05-28 11:40:00</td>\n",
              "    </tr>\n",
              "    <tr>\n",
              "      <th>2</th>\n",
              "      <td>NaN</td>\n",
              "      <td>NaN</td>\n",
              "      <td>NaN</td>\n",
              "      <td>NaN</td>\n",
              "      <td>NaN</td>\n",
              "      <td>NaN</td>\n",
              "      <td>NaN</td>\n",
              "      <td>NaN</td>\n",
              "      <td>NaN</td>\n",
              "      <td>AE5057004X</td>\n",
              "      <td>NaN</td>\n",
              "      <td>NaN</td>\n",
              "      <td>NaN</td>\n",
              "      <td>NaN</td>\n",
              "      <td>NaN</td>\n",
              "      <td>NaN</td>\n",
              "      <td>NaN</td>\n",
              "      <td>NaN</td>\n",
              "      <td>NaN</td>\n",
              "      <td>NaN</td>\n",
              "      <td>NaN</td>\n",
              "      <td>NaN</td>\n",
              "      <td>NaN</td>\n",
              "      <td>NaN</td>\n",
              "      <td>NaN</td>\n",
              "      <td>NaN</td>\n",
              "      <td>NaN</td>\n",
              "      <td>NaN</td>\n",
              "      <td>NaN</td>\n",
              "      <td>NaN</td>\n",
              "      <td>NaN</td>\n",
              "      <td>NaN</td>\n",
              "      <td>NaN</td>\n",
              "      <td>NaN</td>\n",
              "      <td>NaN</td>\n",
              "      <td>NaN</td>\n",
              "      <td>NaN</td>\n",
              "      <td>NaN</td>\n",
              "      <td>47e2531d-8c69-470c-9198-502a46c7639e</td>\n",
              "      <td>NaN</td>\n",
              "      <td>NaN</td>\n",
              "      <td>NaN</td>\n",
              "      <td>NaN</td>\n",
              "      <td>NaN</td>\n",
              "      <td>NaN</td>\n",
              "      <td>NaN</td>\n",
              "      <td>NaN</td>\n",
              "      <td>2020</td>\n",
              "      <td>Q2</td>\n",
              "      <td>NaN</td>\n",
              "      <td>NaN</td>\n",
              "      <td>Unknown</td>\n",
              "      <td>99.0</td>\n",
              "      <td>No Injury</td>\n",
              "      <td>1.0</td>\n",
              "      <td>NaN</td>\n",
              "      <td>NaN</td>\n",
              "      <td>NaN</td>\n",
              "      <td>NaN</td>\n",
              "      <td>NaN</td>\n",
              "      <td>NaN</td>\n",
              "      <td>NaN</td>\n",
              "      <td>NaN</td>\n",
              "      <td>NaN</td>\n",
              "      <td>Driver</td>\n",
              "      <td>D</td>\n",
              "      <td>Not Applicable</td>\n",
              "      <td>0.0</td>\n",
              "      <td>NaN</td>\n",
              "      <td>NaN</td>\n",
              "      <td>Not Applicable</td>\n",
              "      <td>0.0</td>\n",
              "      <td>NaN</td>\n",
              "      <td>NaN</td>\n",
              "      <td>NaN</td>\n",
              "      <td>True</td>\n",
              "      <td>Y</td>\n",
              "      <td>Unknown</td>\n",
              "      <td>99.0</td>\n",
              "      <td>Unknown</td>\n",
              "      <td>99.0</td>\n",
              "      <td>Unknown</td>\n",
              "      <td>99.0</td>\n",
              "      <td>NaN</td>\n",
              "      <td>af03961d-5577-4e69-8709-62b279c08bd7</td>\n",
              "      <td>NaN</td>\n",
              "      <td>NaN</td>\n",
              "      <td>False</td>\n",
              "      <td>False</td>\n",
              "      <td>NaN</td>\n",
              "      <td>0.0</td>\n",
              "      <td>Daylight</td>\n",
              "      <td>1.0</td>\n",
              "      <td>Baltimore</td>\n",
              "      <td>3.0</td>\n",
              "      <td>NaN</td>\n",
              "      <td>0.0</td>\n",
              "      <td>Non Intersection</td>\n",
              "      <td>1.00</td>\n",
              "      <td>Other</td>\n",
              "      <td>88.0</td>\n",
              "      <td>Dry</td>\n",
              "      <td>2.0</td>\n",
              "      <td>Right Turn Lane</td>\n",
              "      <td>1.0</td>\n",
              "      <td>No Defects</td>\n",
              "      <td>1.0</td>\n",
              "      <td>Two-way, Not Divided</td>\n",
              "      <td>1.0</td>\n",
              "      <td>Not Applicable</td>\n",
              "      <td>0.0</td>\n",
              "      <td>Property Damage Crash</td>\n",
              "      <td>Not Applicable</td>\n",
              "      <td>0.00</td>\n",
              "      <td>20200528.0</td>\n",
              "      <td>11:40:00</td>\n",
              "      <td>NaN</td>\n",
              "      <td>No</td>\n",
              "      <td>N</td>\n",
              "      <td>N</td>\n",
              "      <td>BACOPD</td>\n",
              "      <td>UNK</td>\n",
              "      <td>Other Vehicle</td>\n",
              "      <td>1.0</td>\n",
              "      <td>Not Applicable</td>\n",
              "      <td>0.0</td>\n",
              "      <td>3073.0</td>\n",
              "      <td>CO</td>\n",
              "      <td>NaN</td>\n",
              "      <td>0.06</td>\n",
              "      <td>North</td>\n",
              "      <td>N</td>\n",
              "      <td>DOLORES AVE</td>\n",
              "      <td>300.0</td>\n",
              "      <td>Feet</td>\n",
              "      <td>F</td>\n",
              "      <td>N</td>\n",
              "      <td>3074.0</td>\n",
              "      <td>CO</td>\n",
              "      <td>NaN</td>\n",
              "      <td>BREWSTER ST</td>\n",
              "      <td>39.245577</td>\n",
              "      <td>-76.702305</td>\n",
              "      <td>POINT (-76.702304848438 39.245576553452)</td>\n",
              "      <td>2020-05-28 11:40:00</td>\n",
              "    </tr>\n",
              "    <tr>\n",
              "      <th>3</th>\n",
              "      <td>Other Vehicle</td>\n",
              "      <td>1.0</td>\n",
              "      <td>North</td>\n",
              "      <td>N</td>\n",
              "      <td>Superficial</td>\n",
              "      <td>2.0</td>\n",
              "      <td>Moving Constant Speed</td>\n",
              "      <td>1.0</td>\n",
              "      <td>NMTKHMBX0JR025092</td>\n",
              "      <td>MSP7221001P</td>\n",
              "      <td>NaN</td>\n",
              "      <td>NaN</td>\n",
              "      <td>2018.0</td>\n",
              "      <td>TOYOTA</td>\n",
              "      <td>CAMRY</td>\n",
              "      <td>No</td>\n",
              "      <td>N</td>\n",
              "      <td>NaN</td>\n",
              "      <td>No</td>\n",
              "      <td>N</td>\n",
              "      <td>NaN</td>\n",
              "      <td>NaN</td>\n",
              "      <td>NaN</td>\n",
              "      <td>North</td>\n",
              "      <td>N</td>\n",
              "      <td>Passenger Car</td>\n",
              "      <td>2.0</td>\n",
              "      <td>No</td>\n",
              "      <td>N</td>\n",
              "      <td>No</td>\n",
              "      <td>N</td>\n",
              "      <td>No</td>\n",
              "      <td>N</td>\n",
              "      <td>55.0</td>\n",
              "      <td>No</td>\n",
              "      <td>N</td>\n",
              "      <td>NaN</td>\n",
              "      <td>NaN</td>\n",
              "      <td>0dbd4a00-c7f2-4c34-b543-c2633fe0118f</td>\n",
              "      <td>Not Applicable</td>\n",
              "      <td>0.0</td>\n",
              "      <td>12.0</td>\n",
              "      <td>6.0</td>\n",
              "      <td>12.0</td>\n",
              "      <td>NaN</td>\n",
              "      <td>Twelve o'clock</td>\n",
              "      <td>12.0</td>\n",
              "      <td>2020</td>\n",
              "      <td>Q2</td>\n",
              "      <td>NaN</td>\n",
              "      <td>NaN</td>\n",
              "      <td>NaN</td>\n",
              "      <td>NaN</td>\n",
              "      <td>NaN</td>\n",
              "      <td>NaN</td>\n",
              "      <td>NaN</td>\n",
              "      <td>NaN</td>\n",
              "      <td>NaN</td>\n",
              "      <td>NaN</td>\n",
              "      <td>NaN</td>\n",
              "      <td>NaN</td>\n",
              "      <td>NaN</td>\n",
              "      <td>NaN</td>\n",
              "      <td>NaN</td>\n",
              "      <td>NaN</td>\n",
              "      <td>NaN</td>\n",
              "      <td>NaN</td>\n",
              "      <td>NaN</td>\n",
              "      <td>NaN</td>\n",
              "      <td>NaN</td>\n",
              "      <td>NaN</td>\n",
              "      <td>NaN</td>\n",
              "      <td>NaN</td>\n",
              "      <td>NaN</td>\n",
              "      <td>NaN</td>\n",
              "      <td>NaN</td>\n",
              "      <td>NaN</td>\n",
              "      <td>NaN</td>\n",
              "      <td>NaN</td>\n",
              "      <td>NaN</td>\n",
              "      <td>NaN</td>\n",
              "      <td>NaN</td>\n",
              "      <td>NaN</td>\n",
              "      <td>NaN</td>\n",
              "      <td>NaN</td>\n",
              "      <td>NaN</td>\n",
              "      <td>NaN</td>\n",
              "      <td>NaN</td>\n",
              "      <td>NaN</td>\n",
              "      <td>NaN</td>\n",
              "      <td>NaN</td>\n",
              "      <td>Daylight</td>\n",
              "      <td>1.0</td>\n",
              "      <td>Prince George's</td>\n",
              "      <td>16.0</td>\n",
              "      <td>NaN</td>\n",
              "      <td>71.0</td>\n",
              "      <td>NaN</td>\n",
              "      <td>5.01</td>\n",
              "      <td>Same Direction Rear End</td>\n",
              "      <td>3.0</td>\n",
              "      <td>Dry</td>\n",
              "      <td>2.0</td>\n",
              "      <td>Shoulder Area</td>\n",
              "      <td>5.0</td>\n",
              "      <td>No Defects</td>\n",
              "      <td>1.0</td>\n",
              "      <td>Two-way, Divided, Positive Median Barrier</td>\n",
              "      <td>4.0</td>\n",
              "      <td>Not Applicable</td>\n",
              "      <td>0.0</td>\n",
              "      <td>Injury Crash</td>\n",
              "      <td>NaN</td>\n",
              "      <td>6.01</td>\n",
              "      <td>20200605.0</td>\n",
              "      <td>12:22:00</td>\n",
              "      <td>NaN</td>\n",
              "      <td>No</td>\n",
              "      <td>N</td>\n",
              "      <td>N</td>\n",
              "      <td>MSP</td>\n",
              "      <td>UNK</td>\n",
              "      <td>Other Vehicle</td>\n",
              "      <td>1.0</td>\n",
              "      <td>Not Applicable</td>\n",
              "      <td>0.0</td>\n",
              "      <td>95.0</td>\n",
              "      <td>IS</td>\n",
              "      <td>NaN</td>\n",
              "      <td>22.12</td>\n",
              "      <td>North</td>\n",
              "      <td>N</td>\n",
              "      <td>CAPITAL BELTWAY</td>\n",
              "      <td>0.0</td>\n",
              "      <td>Miles</td>\n",
              "      <td>M</td>\n",
              "      <td>N</td>\n",
              "      <td>0.0</td>\n",
              "      <td>UU</td>\n",
              "      <td>NaN</td>\n",
              "      <td>EXIT #22</td>\n",
              "      <td>38.989139</td>\n",
              "      <td>-76.883444</td>\n",
              "      <td>POINT (-76.883443983333 38.9891389)</td>\n",
              "      <td>2020-06-05 12:22:00</td>\n",
              "    </tr>\n",
              "  </tbody>\n",
              "</table>\n",
              "</div>\n",
              "      <button class=\"colab-df-convert\" onclick=\"convertToInteractive('df-de1009ea-7953-4fb1-ade3-3e99b65441c5')\"\n",
              "              title=\"Convert this dataframe to an interactive table.\"\n",
              "              style=\"display:none;\">\n",
              "        \n",
              "  <svg xmlns=\"http://www.w3.org/2000/svg\" height=\"24px\"viewBox=\"0 0 24 24\"\n",
              "       width=\"24px\">\n",
              "    <path d=\"M0 0h24v24H0V0z\" fill=\"none\"/>\n",
              "    <path d=\"M18.56 5.44l.94 2.06.94-2.06 2.06-.94-2.06-.94-.94-2.06-.94 2.06-2.06.94zm-11 1L8.5 8.5l.94-2.06 2.06-.94-2.06-.94L8.5 2.5l-.94 2.06-2.06.94zm10 10l.94 2.06.94-2.06 2.06-.94-2.06-.94-.94-2.06-.94 2.06-2.06.94z\"/><path d=\"M17.41 7.96l-1.37-1.37c-.4-.4-.92-.59-1.43-.59-.52 0-1.04.2-1.43.59L10.3 9.45l-7.72 7.72c-.78.78-.78 2.05 0 2.83L4 21.41c.39.39.9.59 1.41.59.51 0 1.02-.2 1.41-.59l7.78-7.78 2.81-2.81c.8-.78.8-2.07 0-2.86zM5.41 20L4 18.59l7.72-7.72 1.47 1.35L5.41 20z\"/>\n",
              "  </svg>\n",
              "      </button>\n",
              "      \n",
              "  <style>\n",
              "    .colab-df-container {\n",
              "      display:flex;\n",
              "      flex-wrap:wrap;\n",
              "      gap: 12px;\n",
              "    }\n",
              "\n",
              "    .colab-df-convert {\n",
              "      background-color: #E8F0FE;\n",
              "      border: none;\n",
              "      border-radius: 50%;\n",
              "      cursor: pointer;\n",
              "      display: none;\n",
              "      fill: #1967D2;\n",
              "      height: 32px;\n",
              "      padding: 0 0 0 0;\n",
              "      width: 32px;\n",
              "    }\n",
              "\n",
              "    .colab-df-convert:hover {\n",
              "      background-color: #E2EBFA;\n",
              "      box-shadow: 0px 1px 2px rgba(60, 64, 67, 0.3), 0px 1px 3px 1px rgba(60, 64, 67, 0.15);\n",
              "      fill: #174EA6;\n",
              "    }\n",
              "\n",
              "    [theme=dark] .colab-df-convert {\n",
              "      background-color: #3B4455;\n",
              "      fill: #D2E3FC;\n",
              "    }\n",
              "\n",
              "    [theme=dark] .colab-df-convert:hover {\n",
              "      background-color: #434B5C;\n",
              "      box-shadow: 0px 1px 3px 1px rgba(0, 0, 0, 0.15);\n",
              "      filter: drop-shadow(0px 1px 2px rgba(0, 0, 0, 0.3));\n",
              "      fill: #FFFFFF;\n",
              "    }\n",
              "  </style>\n",
              "\n",
              "      <script>\n",
              "        const buttonEl =\n",
              "          document.querySelector('#df-de1009ea-7953-4fb1-ade3-3e99b65441c5 button.colab-df-convert');\n",
              "        buttonEl.style.display =\n",
              "          google.colab.kernel.accessAllowed ? 'block' : 'none';\n",
              "\n",
              "        async function convertToInteractive(key) {\n",
              "          const element = document.querySelector('#df-de1009ea-7953-4fb1-ade3-3e99b65441c5');\n",
              "          const dataTable =\n",
              "            await google.colab.kernel.invokeFunction('convertToInteractive',\n",
              "                                                     [key], {});\n",
              "          if (!dataTable) return;\n",
              "\n",
              "          const docLinkHtml = 'Like what you see? Visit the ' +\n",
              "            '<a target=\"_blank\" href=https://colab.research.google.com/notebooks/data_table.ipynb>data table notebook</a>'\n",
              "            + ' to learn more about interactive tables.';\n",
              "          element.innerHTML = '';\n",
              "          dataTable['output_type'] = 'display_data';\n",
              "          await google.colab.output.renderOutput(dataTable, element);\n",
              "          const docLink = document.createElement('div');\n",
              "          docLink.innerHTML = docLinkHtml;\n",
              "          element.appendChild(docLink);\n",
              "        }\n",
              "      </script>\n",
              "    </div>\n",
              "  </div>\n",
              "  "
            ]
          },
          "metadata": {},
          "execution_count": 12
        }
      ],
      "source": [
        "Super_Merge = pd.merge(Vehicle_Personal_Details, VehicleCrashes, how = 'outer', on = ['QUARTER', 'REPORT_NO', 'YEAR'])\n",
        "print(f\"Shape of Merged data  : \", Super_Merge.shape)\n",
        "print(\"================================================\")\n",
        "Super_Merge.head(4)"
      ],
      "id": "BI3VWiZd9fm0"
    },
    {
      "cell_type": "markdown",
      "source": [
        "# **Data Cleaning**"
      ],
      "metadata": {
        "id": "wM4maOcZ4B-C"
      },
      "id": "wM4maOcZ4B-C"
    },
    {
      "cell_type": "markdown",
      "source": [
        "##Step 1: Removing of Redundant columns from the merged datasets of 2020 and 2021"
      ],
      "metadata": {
        "id": "MZLw7kXcce58"
      },
      "id": "MZLw7kXcce58"
    },
    {
      "cell_type": "code",
      "execution_count": 13,
      "metadata": {
        "id": "FVYwrWh1w_yc",
        "colab": {
          "base_uri": "https://localhost:8080/"
        },
        "outputId": "19cf2aeb-4535-49de-bdcf-8cc34657a414"
      },
      "outputs": [
        {
          "output_type": "stream",
          "name": "stdout",
          "text": [
            "Shape of Merged datasets with relevant data (688442, 43)\n",
            "==================================================================\n"
          ]
        }
      ],
      "source": [
        "## Removing the Redundant Columns and Selecting the columns which would be using  as per our story Analysis.\n",
        "\n",
        "Super_Merge_df = Super_Merge[['REPORT_NO','QUARTER','ACCIDENT_DATETIME','LOCATION','LATITUDE','LONGITUDE','MAINROAD_NAME','AGENCY_CODE','AREA_CODE','REPORT_TYPE','WEATHER_DESC','WEATHER_CODE','RD_DIV_DESC','RD_DIV_CODE','LANE_DESC','LANE_CODE','COLLISION_TYPE_DESC','COLLISION_TYPE_CODE','JUNCTION_DESC','JUNCTION_CODE','COUNTY_DESC','COUNTY_NO','LIGHT_DESC','LIGHT_CODE','DATE_OF_BIRTH','SEX_DESC','SEX_CODE','YEAR','AREA_DAMAGED_CODE_MAIN_DESC','AREA_DAMAGED_CODE_MAIN','SPEED_LIMIT','VEH_YEAR','VEH_MAKE','VEH_MODEL','PERSON_TYPE_DESC','SAF_EQUIP_DESC','LICENSE_STATE_CODE','EJECT_DESC','EQUIP_PROB_DESC','DRUG_TESTRESULT_DESC','DAMAGE_DESC','CONTI_DIRECTION_DESC','INJ_SEVER_CODE']]\n",
        "\n",
        "print(f\"Shape of Merged datasets with relevant data\", Super_Merge_df.shape)\n",
        "print(\"==================================================================\")\n",
        "#Super_Merge_df.head()"
      ],
      "id": "FVYwrWh1w_yc"
    },
    {
      "cell_type": "markdown",
      "source": [
        "## Step 2: Checking for Duplicate data and dropping the duplicate data from the merged datasets"
      ],
      "metadata": {
        "id": "cUFp_GVVcrdo"
      },
      "id": "cUFp_GVVcrdo"
    },
    {
      "cell_type": "code",
      "execution_count": 14,
      "metadata": {
        "colab": {
          "base_uri": "https://localhost:8080/"
        },
        "id": "TgimvMuLnlAk",
        "outputId": "4fbed96d-75c5-4b77-9e06-2b7486636c66"
      },
      "outputs": [
        {
          "output_type": "execute_result",
          "data": {
            "text/plain": [
              "False    687375\n",
              "True       1067\n",
              "dtype: int64"
            ]
          },
          "metadata": {},
          "execution_count": 14
        }
      ],
      "source": [
        "## Checking the Count Of Duplicate Values in the above data set\n",
        "\n",
        "Super_Merge_df.duplicated().value_counts()"
      ],
      "id": "TgimvMuLnlAk"
    },
    {
      "cell_type": "code",
      "execution_count": 15,
      "metadata": {
        "id": "3c_OkFooleBc"
      },
      "outputs": [],
      "source": [
        "## Dropping the Duplicate records\n",
        "Super_Merge_df = Super_Merge_df.drop_duplicates()"
      ],
      "id": "3c_OkFooleBc"
    },
    {
      "cell_type": "code",
      "execution_count": 16,
      "metadata": {
        "colab": {
          "base_uri": "https://localhost:8080/"
        },
        "id": "Vef0-7k_qMtC",
        "outputId": "ab92b080-9ef6-49ae-836b-e8bf043b87be"
      },
      "outputs": [
        {
          "output_type": "execute_result",
          "data": {
            "text/plain": [
              "False    687375\n",
              "dtype: int64"
            ]
          },
          "metadata": {},
          "execution_count": 16
        }
      ],
      "source": [
        "# After Removing the duplicates\n",
        "Super_Merge_df.duplicated().value_counts()"
      ],
      "id": "Vef0-7k_qMtC"
    },
    {
      "cell_type": "markdown",
      "source": [
        "##Step 3: Handling missing values for few columns from the merged datasets"
      ],
      "metadata": {
        "id": "OG3anCnndDcY"
      },
      "id": "OG3anCnndDcY"
    },
    {
      "cell_type": "code",
      "execution_count": 17,
      "metadata": {
        "colab": {
          "base_uri": "https://localhost:8080/"
        },
        "id": "PZpDORLkrBLY",
        "outputId": "b4e8e31b-3d8e-4dca-f736-c4c197333cf8"
      },
      "outputs": [
        {
          "output_type": "execute_result",
          "data": {
            "text/plain": [
              "NaN               685414\n",
              "Unknown             1063\n",
              "Not Applicable       579\n",
              "Positive             221\n",
              "Negative              98\n",
              "Name: DRUG_TESTRESULT_DESC, dtype: int64"
            ]
          },
          "metadata": {},
          "execution_count": 17
        }
      ],
      "source": [
        "## We will try to look it into the column 'DRUG_TESTRESULT_DESC'\n",
        "## There are many Nan Values\n",
        "\n",
        "Super_Merge_df.DRUG_TESTRESULT_DESC.value_counts(dropna = False)"
      ],
      "id": "PZpDORLkrBLY"
    },
    {
      "cell_type": "code",
      "execution_count": 18,
      "metadata": {
        "colab": {
          "base_uri": "https://localhost:8080/"
        },
        "id": "fOkTMhKGrymh",
        "outputId": "ce262de9-4598-49f8-ab17-fd8233d21e36"
      },
      "outputs": [
        {
          "output_type": "execute_result",
          "data": {
            "text/plain": [
              "Not Reported      685414\n",
              "Unknown             1063\n",
              "Not Applicable       579\n",
              "Positive             221\n",
              "Negative              98\n",
              "Name: DRUG_TESTRESULT_DESC, dtype: int64"
            ]
          },
          "metadata": {},
          "execution_count": 18
        }
      ],
      "source": [
        "#### Filling of missing values for Drug test results \n",
        "#### Nan with Not reported\n",
        "Super_Merge_df['DRUG_TESTRESULT_DESC'] = Super_Merge_df['DRUG_TESTRESULT_DESC'].fillna(\"Not Reported\")\n",
        "#### Now Nan values will be replaced\n",
        "\n",
        "Super_Merge_df.DRUG_TESTRESULT_DESC.value_counts(dropna = False)"
      ],
      "id": "fOkTMhKGrymh"
    },
    {
      "cell_type": "code",
      "execution_count": 19,
      "metadata": {
        "colab": {
          "base_uri": "https://localhost:8080/"
        },
        "id": "9j_woSjUm_eV",
        "outputId": "bb4a2cb3-6633-4fd4-9e17-fdacf940c38e"
      },
      "outputs": [
        {
          "output_type": "execute_result",
          "data": {
            "text/plain": [
              "Daylight          429367\n",
              "Dark Lights On    157334\n",
              "Not mentioned      41344\n",
              "Dark No Lights     37482\n",
              "Not Applicable     11923\n",
              "Unknown             7848\n",
              "Other               2077\n",
              "Name: LIGHT_DESC, dtype: int64"
            ]
          },
          "metadata": {},
          "execution_count": 19
        }
      ],
      "source": [
        "### Filling of missing values for light conditions \n",
        "#### Nan with Not mentioned\n",
        "Super_Merge_df['LIGHT_DESC'] = Super_Merge_df['LIGHT_DESC'].fillna(\"Not mentioned\")\n",
        "#### Now Nan values will be replaced\n",
        "\n",
        "Super_Merge_df.LIGHT_DESC.value_counts(dropna = False)"
      ],
      "id": "9j_woSjUm_eV"
    },
    {
      "cell_type": "code",
      "execution_count": 20,
      "metadata": {
        "colab": {
          "base_uri": "https://localhost:8080/"
        },
        "id": "lKRysGh1e61W",
        "outputId": "3cd6024a-6283-40da-89f7-5f6a466ad92e"
      },
      "outputs": [
        {
          "output_type": "execute_result",
          "data": {
            "text/plain": [
              "0.0       390501\n",
              "2016.0     22053\n",
              "2017.0     21183\n",
              "2015.0     20748\n",
              "2019.0     18827\n",
              "Name: VEH_YEAR, dtype: int64"
            ]
          },
          "metadata": {},
          "execution_count": 20
        }
      ],
      "source": [
        "##  'VEH_YEAR'\n",
        "#### Nan Values are replaced with o\n",
        "Super_Merge_df['VEH_YEAR'] = Super_Merge_df['VEH_YEAR'].fillna(0)\n",
        "\n",
        "Super_Merge_df.VEH_YEAR.value_counts(dropna = False).head()"
      ],
      "id": "lKRysGh1e61W"
    },
    {
      "cell_type": "markdown",
      "metadata": {
        "id": "wQBHjsBxyGfS"
      },
      "source": [
        "# **EDA (Exploratory Data Analysis)**\n"
      ],
      "id": "wQBHjsBxyGfS"
    },
    {
      "cell_type": "markdown",
      "source": [
        "Printing the first five rows of merged and cleaned datasets"
      ],
      "metadata": {
        "id": "7bP2HVEedXHw"
      },
      "id": "7bP2HVEedXHw"
    },
    {
      "cell_type": "code",
      "execution_count": 21,
      "metadata": {
        "colab": {
          "base_uri": "https://localhost:8080/",
          "height": 513
        },
        "id": "nFbfNG0x9hIT",
        "outputId": "1f3695b5-91ec-4317-d667-60fc2594625d"
      },
      "outputs": [
        {
          "output_type": "execute_result",
          "data": {
            "text/plain": [
              "     REPORT_NO QUARTER   ACCIDENT_DATETIME  \\\n",
              "0   AE5057004X      Q2 2020-05-28 11:40:00   \n",
              "1   AE5057004X      Q2 2020-05-28 11:40:00   \n",
              "2   AE5057004X      Q2 2020-05-28 11:40:00   \n",
              "3  MSP7221001P      Q2 2020-06-05 12:22:00   \n",
              "4  MSP7221001P      Q2 2020-06-05 12:22:00   \n",
              "\n",
              "                                   LOCATION   LATITUDE  LONGITUDE  \\\n",
              "0  POINT (-76.702304848438 39.245576553452)  39.245577 -76.702305   \n",
              "1  POINT (-76.702304848438 39.245576553452)  39.245577 -76.702305   \n",
              "2  POINT (-76.702304848438 39.245576553452)  39.245577 -76.702305   \n",
              "3       POINT (-76.883443983333 38.9891389)  38.989139 -76.883444   \n",
              "4       POINT (-76.883443983333 38.9891389)  38.989139 -76.883444   \n",
              "\n",
              "     MAINROAD_NAME AGENCY_CODE AREA_CODE            REPORT_TYPE  \\\n",
              "0      DOLORES AVE      BACOPD       UNK  Property Damage Crash   \n",
              "1      DOLORES AVE      BACOPD       UNK  Property Damage Crash   \n",
              "2      DOLORES AVE      BACOPD       UNK  Property Damage Crash   \n",
              "3  CAPITAL BELTWAY         MSP       UNK           Injury Crash   \n",
              "4  CAPITAL BELTWAY         MSP       UNK           Injury Crash   \n",
              "\n",
              "     WEATHER_DESC  WEATHER_CODE                                RD_DIV_DESC  \\\n",
              "0  Not Applicable          0.00                       Two-way, Not Divided   \n",
              "1  Not Applicable          0.00                       Two-way, Not Divided   \n",
              "2  Not Applicable          0.00                       Two-way, Not Divided   \n",
              "3             NaN          6.01  Two-way, Divided, Positive Median Barrier   \n",
              "4             NaN          6.01  Two-way, Divided, Positive Median Barrier   \n",
              "\n",
              "   RD_DIV_CODE        LANE_DESC  LANE_CODE      COLLISION_TYPE_DESC  \\\n",
              "0          1.0  Right Turn Lane        1.0                    Other   \n",
              "1          1.0  Right Turn Lane        1.0                    Other   \n",
              "2          1.0  Right Turn Lane        1.0                    Other   \n",
              "3          4.0    Shoulder Area        5.0  Same Direction Rear End   \n",
              "4          4.0    Shoulder Area        5.0  Same Direction Rear End   \n",
              "\n",
              "   COLLISION_TYPE_CODE     JUNCTION_DESC  JUNCTION_CODE      COUNTY_DESC  \\\n",
              "0                 88.0  Non Intersection           1.00        Baltimore   \n",
              "1                 88.0  Non Intersection           1.00        Baltimore   \n",
              "2                 88.0  Non Intersection           1.00        Baltimore   \n",
              "3                  3.0               NaN           5.01  Prince George's   \n",
              "4                  3.0               NaN           5.01  Prince George's   \n",
              "\n",
              "   COUNTY_NO LIGHT_DESC  LIGHT_CODE DATE_OF_BIRTH SEX_DESC SEX_CODE  YEAR  \\\n",
              "0        3.0   Daylight         1.0           NaN      NaN      NaN  2020   \n",
              "1        3.0   Daylight         1.0           NaN      NaN      NaN  2020   \n",
              "2        3.0   Daylight         1.0           NaN      NaN      NaN  2020   \n",
              "3       16.0   Daylight         1.0           NaN      NaN      NaN  2020   \n",
              "4       16.0   Daylight         1.0           NaN      NaN      NaN  2020   \n",
              "\n",
              "  AREA_DAMAGED_CODE_MAIN_DESC  AREA_DAMAGED_CODE_MAIN  SPEED_LIMIT  VEH_YEAR  \\\n",
              "0              Eleven o'clock                    11.0         25.0       0.0   \n",
              "1               Eight o'clock                     8.0         25.0    2005.0   \n",
              "2                         NaN                     NaN          NaN       0.0   \n",
              "3              Twelve o'clock                    12.0         55.0    2018.0   \n",
              "4              Twelve o'clock                    12.0         55.0    2017.0   \n",
              "\n",
              "  VEH_MAKE VEH_MODEL PERSON_TYPE_DESC SAF_EQUIP_DESC LICENSE_STATE_CODE  \\\n",
              "0  UNKNOWN   UNKNOWN              NaN            NaN                NaN   \n",
              "1    CHEVY     ASTRO              NaN            NaN                NaN   \n",
              "2      NaN       NaN           Driver        Unknown                NaN   \n",
              "3   TOYOTA     CAMRY              NaN            NaN                NaN   \n",
              "4   TOYOTA     RAV 4              NaN            NaN                NaN   \n",
              "\n",
              "  EJECT_DESC EQUIP_PROB_DESC DRUG_TESTRESULT_DESC  DAMAGE_DESC  \\\n",
              "0        NaN             NaN         Not Reported      Unknown   \n",
              "1        NaN             NaN         Not Reported   Functional   \n",
              "2    Unknown         Unknown         Not Reported          NaN   \n",
              "3        NaN             NaN         Not Reported  Superficial   \n",
              "4        NaN             NaN         Not Reported    Disabling   \n",
              "\n",
              "  CONTI_DIRECTION_DESC  INJ_SEVER_CODE  \n",
              "0                North             NaN  \n",
              "1                  NaN             NaN  \n",
              "2                  NaN             1.0  \n",
              "3                North             NaN  \n",
              "4                North             NaN  "
            ],
            "text/html": [
              "\n",
              "  <div id=\"df-faeed6a2-292c-4c55-ad7b-cc0b45bbadbc\">\n",
              "    <div class=\"colab-df-container\">\n",
              "      <div>\n",
              "<style scoped>\n",
              "    .dataframe tbody tr th:only-of-type {\n",
              "        vertical-align: middle;\n",
              "    }\n",
              "\n",
              "    .dataframe tbody tr th {\n",
              "        vertical-align: top;\n",
              "    }\n",
              "\n",
              "    .dataframe thead th {\n",
              "        text-align: right;\n",
              "    }\n",
              "</style>\n",
              "<table border=\"1\" class=\"dataframe\">\n",
              "  <thead>\n",
              "    <tr style=\"text-align: right;\">\n",
              "      <th></th>\n",
              "      <th>REPORT_NO</th>\n",
              "      <th>QUARTER</th>\n",
              "      <th>ACCIDENT_DATETIME</th>\n",
              "      <th>LOCATION</th>\n",
              "      <th>LATITUDE</th>\n",
              "      <th>LONGITUDE</th>\n",
              "      <th>MAINROAD_NAME</th>\n",
              "      <th>AGENCY_CODE</th>\n",
              "      <th>AREA_CODE</th>\n",
              "      <th>REPORT_TYPE</th>\n",
              "      <th>WEATHER_DESC</th>\n",
              "      <th>WEATHER_CODE</th>\n",
              "      <th>RD_DIV_DESC</th>\n",
              "      <th>RD_DIV_CODE</th>\n",
              "      <th>LANE_DESC</th>\n",
              "      <th>LANE_CODE</th>\n",
              "      <th>COLLISION_TYPE_DESC</th>\n",
              "      <th>COLLISION_TYPE_CODE</th>\n",
              "      <th>JUNCTION_DESC</th>\n",
              "      <th>JUNCTION_CODE</th>\n",
              "      <th>COUNTY_DESC</th>\n",
              "      <th>COUNTY_NO</th>\n",
              "      <th>LIGHT_DESC</th>\n",
              "      <th>LIGHT_CODE</th>\n",
              "      <th>DATE_OF_BIRTH</th>\n",
              "      <th>SEX_DESC</th>\n",
              "      <th>SEX_CODE</th>\n",
              "      <th>YEAR</th>\n",
              "      <th>AREA_DAMAGED_CODE_MAIN_DESC</th>\n",
              "      <th>AREA_DAMAGED_CODE_MAIN</th>\n",
              "      <th>SPEED_LIMIT</th>\n",
              "      <th>VEH_YEAR</th>\n",
              "      <th>VEH_MAKE</th>\n",
              "      <th>VEH_MODEL</th>\n",
              "      <th>PERSON_TYPE_DESC</th>\n",
              "      <th>SAF_EQUIP_DESC</th>\n",
              "      <th>LICENSE_STATE_CODE</th>\n",
              "      <th>EJECT_DESC</th>\n",
              "      <th>EQUIP_PROB_DESC</th>\n",
              "      <th>DRUG_TESTRESULT_DESC</th>\n",
              "      <th>DAMAGE_DESC</th>\n",
              "      <th>CONTI_DIRECTION_DESC</th>\n",
              "      <th>INJ_SEVER_CODE</th>\n",
              "    </tr>\n",
              "  </thead>\n",
              "  <tbody>\n",
              "    <tr>\n",
              "      <th>0</th>\n",
              "      <td>AE5057004X</td>\n",
              "      <td>Q2</td>\n",
              "      <td>2020-05-28 11:40:00</td>\n",
              "      <td>POINT (-76.702304848438 39.245576553452)</td>\n",
              "      <td>39.245577</td>\n",
              "      <td>-76.702305</td>\n",
              "      <td>DOLORES AVE</td>\n",
              "      <td>BACOPD</td>\n",
              "      <td>UNK</td>\n",
              "      <td>Property Damage Crash</td>\n",
              "      <td>Not Applicable</td>\n",
              "      <td>0.00</td>\n",
              "      <td>Two-way, Not Divided</td>\n",
              "      <td>1.0</td>\n",
              "      <td>Right Turn Lane</td>\n",
              "      <td>1.0</td>\n",
              "      <td>Other</td>\n",
              "      <td>88.0</td>\n",
              "      <td>Non Intersection</td>\n",
              "      <td>1.00</td>\n",
              "      <td>Baltimore</td>\n",
              "      <td>3.0</td>\n",
              "      <td>Daylight</td>\n",
              "      <td>1.0</td>\n",
              "      <td>NaN</td>\n",
              "      <td>NaN</td>\n",
              "      <td>NaN</td>\n",
              "      <td>2020</td>\n",
              "      <td>Eleven o'clock</td>\n",
              "      <td>11.0</td>\n",
              "      <td>25.0</td>\n",
              "      <td>0.0</td>\n",
              "      <td>UNKNOWN</td>\n",
              "      <td>UNKNOWN</td>\n",
              "      <td>NaN</td>\n",
              "      <td>NaN</td>\n",
              "      <td>NaN</td>\n",
              "      <td>NaN</td>\n",
              "      <td>NaN</td>\n",
              "      <td>Not Reported</td>\n",
              "      <td>Unknown</td>\n",
              "      <td>North</td>\n",
              "      <td>NaN</td>\n",
              "    </tr>\n",
              "    <tr>\n",
              "      <th>1</th>\n",
              "      <td>AE5057004X</td>\n",
              "      <td>Q2</td>\n",
              "      <td>2020-05-28 11:40:00</td>\n",
              "      <td>POINT (-76.702304848438 39.245576553452)</td>\n",
              "      <td>39.245577</td>\n",
              "      <td>-76.702305</td>\n",
              "      <td>DOLORES AVE</td>\n",
              "      <td>BACOPD</td>\n",
              "      <td>UNK</td>\n",
              "      <td>Property Damage Crash</td>\n",
              "      <td>Not Applicable</td>\n",
              "      <td>0.00</td>\n",
              "      <td>Two-way, Not Divided</td>\n",
              "      <td>1.0</td>\n",
              "      <td>Right Turn Lane</td>\n",
              "      <td>1.0</td>\n",
              "      <td>Other</td>\n",
              "      <td>88.0</td>\n",
              "      <td>Non Intersection</td>\n",
              "      <td>1.00</td>\n",
              "      <td>Baltimore</td>\n",
              "      <td>3.0</td>\n",
              "      <td>Daylight</td>\n",
              "      <td>1.0</td>\n",
              "      <td>NaN</td>\n",
              "      <td>NaN</td>\n",
              "      <td>NaN</td>\n",
              "      <td>2020</td>\n",
              "      <td>Eight o'clock</td>\n",
              "      <td>8.0</td>\n",
              "      <td>25.0</td>\n",
              "      <td>2005.0</td>\n",
              "      <td>CHEVY</td>\n",
              "      <td>ASTRO</td>\n",
              "      <td>NaN</td>\n",
              "      <td>NaN</td>\n",
              "      <td>NaN</td>\n",
              "      <td>NaN</td>\n",
              "      <td>NaN</td>\n",
              "      <td>Not Reported</td>\n",
              "      <td>Functional</td>\n",
              "      <td>NaN</td>\n",
              "      <td>NaN</td>\n",
              "    </tr>\n",
              "    <tr>\n",
              "      <th>2</th>\n",
              "      <td>AE5057004X</td>\n",
              "      <td>Q2</td>\n",
              "      <td>2020-05-28 11:40:00</td>\n",
              "      <td>POINT (-76.702304848438 39.245576553452)</td>\n",
              "      <td>39.245577</td>\n",
              "      <td>-76.702305</td>\n",
              "      <td>DOLORES AVE</td>\n",
              "      <td>BACOPD</td>\n",
              "      <td>UNK</td>\n",
              "      <td>Property Damage Crash</td>\n",
              "      <td>Not Applicable</td>\n",
              "      <td>0.00</td>\n",
              "      <td>Two-way, Not Divided</td>\n",
              "      <td>1.0</td>\n",
              "      <td>Right Turn Lane</td>\n",
              "      <td>1.0</td>\n",
              "      <td>Other</td>\n",
              "      <td>88.0</td>\n",
              "      <td>Non Intersection</td>\n",
              "      <td>1.00</td>\n",
              "      <td>Baltimore</td>\n",
              "      <td>3.0</td>\n",
              "      <td>Daylight</td>\n",
              "      <td>1.0</td>\n",
              "      <td>NaN</td>\n",
              "      <td>NaN</td>\n",
              "      <td>NaN</td>\n",
              "      <td>2020</td>\n",
              "      <td>NaN</td>\n",
              "      <td>NaN</td>\n",
              "      <td>NaN</td>\n",
              "      <td>0.0</td>\n",
              "      <td>NaN</td>\n",
              "      <td>NaN</td>\n",
              "      <td>Driver</td>\n",
              "      <td>Unknown</td>\n",
              "      <td>NaN</td>\n",
              "      <td>Unknown</td>\n",
              "      <td>Unknown</td>\n",
              "      <td>Not Reported</td>\n",
              "      <td>NaN</td>\n",
              "      <td>NaN</td>\n",
              "      <td>1.0</td>\n",
              "    </tr>\n",
              "    <tr>\n",
              "      <th>3</th>\n",
              "      <td>MSP7221001P</td>\n",
              "      <td>Q2</td>\n",
              "      <td>2020-06-05 12:22:00</td>\n",
              "      <td>POINT (-76.883443983333 38.9891389)</td>\n",
              "      <td>38.989139</td>\n",
              "      <td>-76.883444</td>\n",
              "      <td>CAPITAL BELTWAY</td>\n",
              "      <td>MSP</td>\n",
              "      <td>UNK</td>\n",
              "      <td>Injury Crash</td>\n",
              "      <td>NaN</td>\n",
              "      <td>6.01</td>\n",
              "      <td>Two-way, Divided, Positive Median Barrier</td>\n",
              "      <td>4.0</td>\n",
              "      <td>Shoulder Area</td>\n",
              "      <td>5.0</td>\n",
              "      <td>Same Direction Rear End</td>\n",
              "      <td>3.0</td>\n",
              "      <td>NaN</td>\n",
              "      <td>5.01</td>\n",
              "      <td>Prince George's</td>\n",
              "      <td>16.0</td>\n",
              "      <td>Daylight</td>\n",
              "      <td>1.0</td>\n",
              "      <td>NaN</td>\n",
              "      <td>NaN</td>\n",
              "      <td>NaN</td>\n",
              "      <td>2020</td>\n",
              "      <td>Twelve o'clock</td>\n",
              "      <td>12.0</td>\n",
              "      <td>55.0</td>\n",
              "      <td>2018.0</td>\n",
              "      <td>TOYOTA</td>\n",
              "      <td>CAMRY</td>\n",
              "      <td>NaN</td>\n",
              "      <td>NaN</td>\n",
              "      <td>NaN</td>\n",
              "      <td>NaN</td>\n",
              "      <td>NaN</td>\n",
              "      <td>Not Reported</td>\n",
              "      <td>Superficial</td>\n",
              "      <td>North</td>\n",
              "      <td>NaN</td>\n",
              "    </tr>\n",
              "    <tr>\n",
              "      <th>4</th>\n",
              "      <td>MSP7221001P</td>\n",
              "      <td>Q2</td>\n",
              "      <td>2020-06-05 12:22:00</td>\n",
              "      <td>POINT (-76.883443983333 38.9891389)</td>\n",
              "      <td>38.989139</td>\n",
              "      <td>-76.883444</td>\n",
              "      <td>CAPITAL BELTWAY</td>\n",
              "      <td>MSP</td>\n",
              "      <td>UNK</td>\n",
              "      <td>Injury Crash</td>\n",
              "      <td>NaN</td>\n",
              "      <td>6.01</td>\n",
              "      <td>Two-way, Divided, Positive Median Barrier</td>\n",
              "      <td>4.0</td>\n",
              "      <td>Shoulder Area</td>\n",
              "      <td>5.0</td>\n",
              "      <td>Same Direction Rear End</td>\n",
              "      <td>3.0</td>\n",
              "      <td>NaN</td>\n",
              "      <td>5.01</td>\n",
              "      <td>Prince George's</td>\n",
              "      <td>16.0</td>\n",
              "      <td>Daylight</td>\n",
              "      <td>1.0</td>\n",
              "      <td>NaN</td>\n",
              "      <td>NaN</td>\n",
              "      <td>NaN</td>\n",
              "      <td>2020</td>\n",
              "      <td>Twelve o'clock</td>\n",
              "      <td>12.0</td>\n",
              "      <td>55.0</td>\n",
              "      <td>2017.0</td>\n",
              "      <td>TOYOTA</td>\n",
              "      <td>RAV 4</td>\n",
              "      <td>NaN</td>\n",
              "      <td>NaN</td>\n",
              "      <td>NaN</td>\n",
              "      <td>NaN</td>\n",
              "      <td>NaN</td>\n",
              "      <td>Not Reported</td>\n",
              "      <td>Disabling</td>\n",
              "      <td>North</td>\n",
              "      <td>NaN</td>\n",
              "    </tr>\n",
              "  </tbody>\n",
              "</table>\n",
              "</div>\n",
              "      <button class=\"colab-df-convert\" onclick=\"convertToInteractive('df-faeed6a2-292c-4c55-ad7b-cc0b45bbadbc')\"\n",
              "              title=\"Convert this dataframe to an interactive table.\"\n",
              "              style=\"display:none;\">\n",
              "        \n",
              "  <svg xmlns=\"http://www.w3.org/2000/svg\" height=\"24px\"viewBox=\"0 0 24 24\"\n",
              "       width=\"24px\">\n",
              "    <path d=\"M0 0h24v24H0V0z\" fill=\"none\"/>\n",
              "    <path d=\"M18.56 5.44l.94 2.06.94-2.06 2.06-.94-2.06-.94-.94-2.06-.94 2.06-2.06.94zm-11 1L8.5 8.5l.94-2.06 2.06-.94-2.06-.94L8.5 2.5l-.94 2.06-2.06.94zm10 10l.94 2.06.94-2.06 2.06-.94-2.06-.94-.94-2.06-.94 2.06-2.06.94z\"/><path d=\"M17.41 7.96l-1.37-1.37c-.4-.4-.92-.59-1.43-.59-.52 0-1.04.2-1.43.59L10.3 9.45l-7.72 7.72c-.78.78-.78 2.05 0 2.83L4 21.41c.39.39.9.59 1.41.59.51 0 1.02-.2 1.41-.59l7.78-7.78 2.81-2.81c.8-.78.8-2.07 0-2.86zM5.41 20L4 18.59l7.72-7.72 1.47 1.35L5.41 20z\"/>\n",
              "  </svg>\n",
              "      </button>\n",
              "      \n",
              "  <style>\n",
              "    .colab-df-container {\n",
              "      display:flex;\n",
              "      flex-wrap:wrap;\n",
              "      gap: 12px;\n",
              "    }\n",
              "\n",
              "    .colab-df-convert {\n",
              "      background-color: #E8F0FE;\n",
              "      border: none;\n",
              "      border-radius: 50%;\n",
              "      cursor: pointer;\n",
              "      display: none;\n",
              "      fill: #1967D2;\n",
              "      height: 32px;\n",
              "      padding: 0 0 0 0;\n",
              "      width: 32px;\n",
              "    }\n",
              "\n",
              "    .colab-df-convert:hover {\n",
              "      background-color: #E2EBFA;\n",
              "      box-shadow: 0px 1px 2px rgba(60, 64, 67, 0.3), 0px 1px 3px 1px rgba(60, 64, 67, 0.15);\n",
              "      fill: #174EA6;\n",
              "    }\n",
              "\n",
              "    [theme=dark] .colab-df-convert {\n",
              "      background-color: #3B4455;\n",
              "      fill: #D2E3FC;\n",
              "    }\n",
              "\n",
              "    [theme=dark] .colab-df-convert:hover {\n",
              "      background-color: #434B5C;\n",
              "      box-shadow: 0px 1px 3px 1px rgba(0, 0, 0, 0.15);\n",
              "      filter: drop-shadow(0px 1px 2px rgba(0, 0, 0, 0.3));\n",
              "      fill: #FFFFFF;\n",
              "    }\n",
              "  </style>\n",
              "\n",
              "      <script>\n",
              "        const buttonEl =\n",
              "          document.querySelector('#df-faeed6a2-292c-4c55-ad7b-cc0b45bbadbc button.colab-df-convert');\n",
              "        buttonEl.style.display =\n",
              "          google.colab.kernel.accessAllowed ? 'block' : 'none';\n",
              "\n",
              "        async function convertToInteractive(key) {\n",
              "          const element = document.querySelector('#df-faeed6a2-292c-4c55-ad7b-cc0b45bbadbc');\n",
              "          const dataTable =\n",
              "            await google.colab.kernel.invokeFunction('convertToInteractive',\n",
              "                                                     [key], {});\n",
              "          if (!dataTable) return;\n",
              "\n",
              "          const docLinkHtml = 'Like what you see? Visit the ' +\n",
              "            '<a target=\"_blank\" href=https://colab.research.google.com/notebooks/data_table.ipynb>data table notebook</a>'\n",
              "            + ' to learn more about interactive tables.';\n",
              "          element.innerHTML = '';\n",
              "          dataTable['output_type'] = 'display_data';\n",
              "          await google.colab.output.renderOutput(dataTable, element);\n",
              "          const docLink = document.createElement('div');\n",
              "          docLink.innerHTML = docLinkHtml;\n",
              "          element.appendChild(docLink);\n",
              "        }\n",
              "      </script>\n",
              "    </div>\n",
              "  </div>\n",
              "  "
            ]
          },
          "metadata": {},
          "execution_count": 21
        }
      ],
      "source": [
        "#Getting the Top 5 records to explore the data set\n",
        "Super_Merge_df.head()"
      ],
      "id": "nFbfNG0x9hIT"
    },
    {
      "cell_type": "code",
      "execution_count": 22,
      "metadata": {
        "colab": {
          "base_uri": "https://localhost:8080/"
        },
        "id": "APndWIQYMUfT",
        "outputId": "0446b72a-6691-4a29-b99d-5fb5b42466ae"
      },
      "outputs": [
        {
          "output_type": "stream",
          "name": "stdout",
          "text": [
            "<class 'pandas.core.frame.DataFrame'>\n",
            "Int64Index: 687375 entries, 0 to 688441\n",
            "Data columns (total 43 columns):\n",
            " #   Column                       Non-Null Count   Dtype         \n",
            "---  ------                       --------------   -----         \n",
            " 0   REPORT_NO                    687375 non-null  object        \n",
            " 1   QUARTER                      687375 non-null  object        \n",
            " 2   ACCIDENT_DATETIME            687369 non-null  datetime64[ns]\n",
            " 3   LOCATION                     687369 non-null  object        \n",
            " 4   LATITUDE                     687369 non-null  float64       \n",
            " 5   LONGITUDE                    687369 non-null  float64       \n",
            " 6   MAINROAD_NAME                633555 non-null  object        \n",
            " 7   AGENCY_CODE                  687369 non-null  object        \n",
            " 8   AREA_CODE                    687369 non-null  object        \n",
            " 9   REPORT_TYPE                  687369 non-null  object        \n",
            " 10  WEATHER_DESC                 158592 non-null  object        \n",
            " 11  WEATHER_CODE                 687369 non-null  float64       \n",
            " 12  RD_DIV_DESC                  629935 non-null  object        \n",
            " 13  RD_DIV_CODE                  633559 non-null  float64       \n",
            " 14  LANE_DESC                    546688 non-null  object        \n",
            " 15  LANE_CODE                    546688 non-null  float64       \n",
            " 16  COLLISION_TYPE_DESC          687369 non-null  object        \n",
            " 17  COLLISION_TYPE_CODE          687369 non-null  float64       \n",
            " 18  JUNCTION_DESC                600707 non-null  object        \n",
            " 19  JUNCTION_CODE                633559 non-null  float64       \n",
            " 20  COUNTY_DESC                  687351 non-null  object        \n",
            " 21  COUNTY_NO                    687351 non-null  float64       \n",
            " 22  LIGHT_DESC                   687375 non-null  object        \n",
            " 23  LIGHT_CODE                   687369 non-null  float64       \n",
            " 24  DATE_OF_BIRTH                336271 non-null  object        \n",
            " 25  SEX_DESC                     336992 non-null  object        \n",
            " 26  SEX_CODE                     336992 non-null  object        \n",
            " 27  YEAR                         687375 non-null  int64         \n",
            " 28  AREA_DAMAGED_CODE_MAIN_DESC  313779 non-null  object        \n",
            " 29  AREA_DAMAGED_CODE_MAIN       313779 non-null  float64       \n",
            " 30  SPEED_LIMIT                  316330 non-null  float64       \n",
            " 31  VEH_YEAR                     687375 non-null  float64       \n",
            " 32  VEH_MAKE                     316302 non-null  object        \n",
            " 33  VEH_MODEL                    316207 non-null  object        \n",
            " 34  PERSON_TYPE_DESC             371041 non-null  object        \n",
            " 35  SAF_EQUIP_DESC               371041 non-null  object        \n",
            " 36  LICENSE_STATE_CODE           254200 non-null  object        \n",
            " 37  EJECT_DESC                   364643 non-null  object        \n",
            " 38  EQUIP_PROB_DESC              364643 non-null  object        \n",
            " 39  DRUG_TESTRESULT_DESC         687375 non-null  object        \n",
            " 40  DAMAGE_DESC                  316330 non-null  object        \n",
            " 41  CONTI_DIRECTION_DESC         280796 non-null  object        \n",
            " 42  INJ_SEVER_CODE               371041 non-null  float64       \n",
            "dtypes: datetime64[ns](1), float64(13), int64(1), object(28)\n",
            "memory usage: 230.7+ MB\n"
          ]
        }
      ],
      "source": [
        "## Concise summary of a DataFrame.\n",
        "##  info related to datatypes, null value etc\n",
        "Super_Merge_df.info(verbose=True)"
      ],
      "id": "APndWIQYMUfT"
    },
    {
      "cell_type": "markdown",
      "metadata": {
        "id": "a_-ZCnnrTeEW"
      },
      "source": [
        "#### Created datasets to analyze data seperately for years 2020 and 2021"
      ],
      "id": "a_-ZCnnrTeEW"
    },
    {
      "cell_type": "code",
      "execution_count": 23,
      "metadata": {
        "id": "A_Xo7DK5TtdF"
      },
      "outputs": [],
      "source": [
        "year_2020 = Super_Merge_df[Super_Merge_df.YEAR == 2020]\n",
        "year_2021 = Super_Merge_df[Super_Merge_df.YEAR == 2021]"
      ],
      "id": "A_Xo7DK5TtdF"
    },
    {
      "cell_type": "markdown",
      "metadata": {
        "id": "bVd642VpySx0"
      },
      "source": [
        "**Heat map for null values**"
      ],
      "id": "bVd642VpySx0"
    },
    {
      "cell_type": "markdown",
      "source": [
        "Vizualizing all the null values after merging and data cleaning, to check the reliability of columns."
      ],
      "metadata": {
        "id": "0tcbG8t0djwF"
      },
      "id": "0tcbG8t0djwF"
    },
    {
      "cell_type": "code",
      "execution_count": 24,
      "metadata": {
        "colab": {
          "base_uri": "https://localhost:8080/",
          "height": 891
        },
        "id": "_QPbstjtMUit",
        "outputId": "adba6e52-ffc6-4b0c-a7a7-d916905b0879"
      },
      "outputs": [
        {
          "output_type": "execute_result",
          "data": {
            "text/plain": [
              "<matplotlib.axes._subplots.AxesSubplot at 0x7efe1cf28610>"
            ]
          },
          "metadata": {},
          "execution_count": 24
        },
        {
          "output_type": "display_data",
          "data": {
            "text/plain": [
              "<Figure size 1440x864 with 2 Axes>"
            ],
            "image/png": "[encoded data removed]"
          },
          "metadata": {
            "needs_background": "light"
          }
        }
      ],
      "source": [
        "#Some columns are having missing values\n",
        "#color with blacks are having least numbr of null values and white color with more null values\n",
        "plt.figure(figsize=(20,12))\n",
        "sns.heatmap(Super_Merge_df.isnull(), yticklabels=False)"
      ],
      "id": "_QPbstjtMUit"
    },
    {
      "cell_type": "markdown",
      "metadata": {
        "id": "JljVbnzYoV1r"
      },
      "source": [
        "**From the trends in data, 2020 and 2021 years had Lowest number of crashes. So, we will be exploring more from the 2020 and 2021 data**\n",
        "**Note: Only for this we have used VehicleCrashes Dataset. BUT for our entire Project we will be using all the three data sets**\n",
        "\n",
        "From the pattern, 2020 and 2021 recorded less number of crashes"
      ],
      "id": "JljVbnzYoV1r"
    },
    {
      "cell_type": "code",
      "execution_count": 25,
      "metadata": {
        "colab": {
          "base_uri": "https://localhost:8080/",
          "height": 468
        },
        "id": "cLaJV5weoinW",
        "outputId": "f737c61d-c7e4-44fa-8229-d53a24b50d6f"
      },
      "outputs": [
        {
          "output_type": "display_data",
          "data": {
            "text/plain": [
              "<Figure size 1296x432 with 1 Axes>"
            ],
            "image/png": "[encoded data removed]"
          },
          "metadata": {
            "needs_background": "light"
          }
        }
      ],
      "source": [
        "plt.figure(figsize=(18,6))\n",
        "ax = sns.countplot(data=VehicleCrashes_df,x='YEAR',order = VehicleCrashes_df['YEAR'].value_counts().index)\n",
        "ax.set_xticklabels(ax.get_xticklabels(), rotation=90)\n",
        "ax.set_title('\\nVehicle crashes in the past 7 years in Maryland USA\\n', fontsize=20);\n",
        "plt.show()"
      ],
      "id": "cLaJV5weoinW"
    },
    {
      "cell_type": "markdown",
      "metadata": {
        "id": "T45vIGys0veh"
      },
      "source": [
        "# **In sights:**\n",
        "\n",
        "\n"
      ],
      "id": "T45vIGys0veh"
    },
    {
      "cell_type": "markdown",
      "source": [
        "##Location Analysis"
      ],
      "metadata": {
        "id": "JjqUGKa8QAJt"
      },
      "id": "JjqUGKa8QAJt"
    },
    {
      "cell_type": "code",
      "execution_count": 26,
      "metadata": {
        "colab": {
          "base_uri": "https://localhost:8080/",
          "height": 925
        },
        "id": "44NzSD3o1dhQ",
        "outputId": "db58eb8c-0b9b-4f38-d3e8-ca738b33a3bf"
      },
      "outputs": [
        {
          "output_type": "display_data",
          "data": {
            "text/plain": [
              "<Figure size 1152x288 with 1 Axes>"
            ],
            "image/png": "[encoded data removed]"
          },
          "metadata": {
            "needs_background": "light"
          }
        },
        {
          "output_type": "display_data",
          "data": {
            "text/plain": [
              "<Figure size 1152x288 with 2 Axes>"
            ],
            "image/png": "[encoded data removed]"
          },
          "metadata": {
            "needs_background": "light"
          }
        },
        {
          "output_type": "display_data",
          "data": {
            "text/plain": [
              "<Figure size 1152x288 with 2 Axes>"
            ],
            "image/png": "[encoded data removed]"
          },
          "metadata": {
            "needs_background": "light"
          }
        }
      ],
      "source": [
        "\n",
        "#1) Accidents happened in the year '2020 and 2021'\n",
        "plt.figure(figsize=(16,4))\n",
        "ax = sns.countplot(data=Super_Merge_df,x='COUNTY_DESC',order = Super_Merge_df['COUNTY_DESC'].value_counts().index)\n",
        "ax.set_xticklabels(ax.get_xticklabels(), rotation=90)\n",
        "ax.set_title('Accidents in different Counties in 2020 and 2021')\n",
        "plt.show()\n",
        "\n",
        "#2)  Accidents happened in the year '2020' and  Accidents happened in the year '2021' --'SEPARATELY'\n",
        "fig, ax =plt.subplots(1,2,tight_layout=True,figsize=(16,4))\n",
        "ax1 = sns.countplot(data=year_2020,x='COUNTY_DESC', ax=ax[0],order = year_2020['COUNTY_DESC'].value_counts().index)\n",
        "ax1.set_xticklabels(ax1.get_xticklabels(), rotation=90)\n",
        "ax1.set_title('Accidents in different Counties in 2020')\n",
        "\n",
        "ax2 = sns.countplot(data=year_2021,x='COUNTY_DESC', ax=ax[1],order = year_2021['COUNTY_DESC'].value_counts().index)\n",
        "ax2.set_xticklabels(ax2.get_xticklabels(), rotation=90)\n",
        "ax2.set_title('Accidents in different Counties in 2021')\n",
        "\n",
        "fig.show()\n",
        "\n",
        "#3) Accidents happened in the year '2020' and  Accidents happened in the year '2021' --'SEPARATELY'  -- Based on 'SEX'\n",
        "fig, ax =plt.subplots(1,2,tight_layout=True,figsize=(16,4))\n",
        "ax1 = sns.countplot(data=year_2020,x='COUNTY_DESC', hue='SEX_DESC',ax=ax[0],order = year_2020['COUNTY_DESC'].value_counts().index)\n",
        "ax1.set_xticklabels(ax1.get_xticklabels(), rotation=90)\n",
        "ax1.set_title('Accidents in different Counties in 2020')\n",
        "\n",
        "ax2 = sns.countplot(data=year_2021,x='COUNTY_DESC', hue='SEX_DESC', ax=ax[1],order = year_2021['COUNTY_DESC'].value_counts().index)\n",
        "ax2.set_xticklabels(ax2.get_xticklabels(), rotation=90)\n",
        "ax2.set_title('Accidents in different Counties in 2021')\n",
        "\n",
        "fig.show()"
      ],
      "id": "44NzSD3o1dhQ"
    },
    {
      "cell_type": "markdown",
      "source": [
        "According to Maryland demographics even though Montgomery county is the highest populous county in maryland in terms of crashes it is ranked 4th. Where as Prince Georgias and Kent are ranked as highest and lowest number of accident crashes respectively. Kent is the lowest populus county in the Maryland, it might be the reason for less number of accidents in that county\n",
        "Reference: https://www.maryland-demographics.com/counties_by_population\n",
        "\n",
        "Also we can notice that most of the accidents are happened with Males in almost every counties."
      ],
      "metadata": {
        "id": "yg6QabvtWZ0I"
      },
      "id": "yg6QabvtWZ0I"
    },
    {
      "cell_type": "code",
      "source": [
        "plt.figure(figsize=(16,4))\n",
        "new_var = Super_Merge_df.groupby(['COUNTY_DESC','WEATHER_DESC']).filter(lambda x: (x[\"WEATHER_DESC\"] == \"Raining\").any())\n",
        "countywise_rain = new_var.groupby(['COUNTY_DESC','WEATHER_DESC']).size().sort_values(ascending = False)\n",
        "countywise_rain\n",
        "countywise_rain.plot(kind = \"bar\",width=0.9, xlabel = 'County Desc', ylabel = 'Accidents',title = \"County wise crashes when Raining\")\n",
        "\n",
        "plt.show()"
      ],
      "metadata": {
        "colab": {
          "base_uri": "https://localhost:8080/",
          "height": 415
        },
        "id": "UJvGB3k--LGL",
        "outputId": "5552ba4e-1da3-4379-a5c5-e15b0c3e19e4"
      },
      "id": "UJvGB3k--LGL",
      "execution_count": 27,
      "outputs": [
        {
          "output_type": "display_data",
          "data": {
            "text/plain": [
              "<Figure size 1152x288 with 1 Axes>"
            ],
            "image/png": "[encoded data removed]"
          },
          "metadata": {
            "needs_background": "light"
          }
        }
      ]
    },
    {
      "cell_type": "markdown",
      "source": [
        "##Minimum speed limit recorded for crashes is '0'; maximum is '75' from years 2020 and 2021"
      ],
      "metadata": {
        "id": "3iBl8_WvASPi"
      },
      "id": "3iBl8_WvASPi"
    },
    {
      "cell_type": "code",
      "execution_count": 28,
      "metadata": {
        "colab": {
          "base_uri": "https://localhost:8080/",
          "height": 300
        },
        "id": "033406f1",
        "outputId": "a92c1dd0-9a13-4d27-9e1a-8db70b2ecdbe"
      },
      "outputs": [
        {
          "output_type": "execute_result",
          "data": {
            "text/plain": [
              "            LATITUDE      LONGITUDE   WEATHER_CODE    RD_DIV_CODE  \\\n",
              "count  687369.000000  687369.000000  687369.000000  633559.000000   \n",
              "mean       39.137282     -76.735715       6.017284       4.742219   \n",
              "std         0.310405       0.463484       8.829202      13.935665   \n",
              "min        37.000000     -79.989756       0.000000       0.000000   \n",
              "25%        38.968636     -76.929862       6.010000       1.000000   \n",
              "50%        39.219000     -76.707674       6.010000       3.000000   \n",
              "75%        39.339528     -76.571791       6.010000       4.000000   \n",
              "max        39.994802     -75.000747      99.000000      99.000000   \n",
              "\n",
              "           LANE_CODE  COLLISION_TYPE_CODE  JUNCTION_CODE      COUNTY_NO  \\\n",
              "count  546688.000000        687369.000000  633559.000000  687351.000000   \n",
              "mean        1.525184            20.594782       2.694113      12.995577   \n",
              "std         0.818516            30.206445      10.057648       7.879731   \n",
              "min         1.000000             0.000000       0.000000       1.000000   \n",
              "25%         1.000000             3.000000       1.000000       3.000000   \n",
              "50%         1.000000             8.000000       1.000000      15.000000   \n",
              "75%         2.000000            17.000000       2.000000      18.000000   \n",
              "max        12.000000            99.000000      99.000000      24.000000   \n",
              "\n",
              "          LIGHT_CODE           YEAR  AREA_DAMAGED_CODE_MAIN    SPEED_LIMIT  \\\n",
              "count  687369.000000  687375.000000           313779.000000  316330.000000   \n",
              "mean        3.300926    2020.454087               12.722397      33.358439   \n",
              "std        11.418491       0.497888               19.380157      16.140948   \n",
              "min         0.000000    2020.000000                1.000000       0.000000   \n",
              "25%         1.000000    2020.000000                6.000000      25.000000   \n",
              "50%         1.000000    2020.000000               11.000000      35.000000   \n",
              "75%         3.000000    2021.000000               12.000000      45.000000   \n",
              "max        99.000000    2021.000000               99.000000      75.000000   \n",
              "\n",
              "            VEH_YEAR  INJ_SEVER_CODE  \n",
              "count  687375.000000   371041.000000  \n",
              "mean      869.682929        1.274385  \n",
              "std      1001.347143        0.654720  \n",
              "min         0.000000        1.000000  \n",
              "25%         0.000000        1.000000  \n",
              "50%         0.000000        1.000000  \n",
              "75%      2011.000000        1.000000  \n",
              "max      9999.000000        5.000000  "
            ],
            "text/html": [
              "\n",
              "  <div id=\"df-7586cde1-b3d2-4318-8d5c-4cd854cde9ed\">\n",
              "    <div class=\"colab-df-container\">\n",
              "      <div>\n",
              "<style scoped>\n",
              "    .dataframe tbody tr th:only-of-type {\n",
              "        vertical-align: middle;\n",
              "    }\n",
              "\n",
              "    .dataframe tbody tr th {\n",
              "        vertical-align: top;\n",
              "    }\n",
              "\n",
              "    .dataframe thead th {\n",
              "        text-align: right;\n",
              "    }\n",
              "</style>\n",
              "<table border=\"1\" class=\"dataframe\">\n",
              "  <thead>\n",
              "    <tr style=\"text-align: right;\">\n",
              "      <th></th>\n",
              "      <th>LATITUDE</th>\n",
              "      <th>LONGITUDE</th>\n",
              "      <th>WEATHER_CODE</th>\n",
              "      <th>RD_DIV_CODE</th>\n",
              "      <th>LANE_CODE</th>\n",
              "      <th>COLLISION_TYPE_CODE</th>\n",
              "      <th>JUNCTION_CODE</th>\n",
              "      <th>COUNTY_NO</th>\n",
              "      <th>LIGHT_CODE</th>\n",
              "      <th>YEAR</th>\n",
              "      <th>AREA_DAMAGED_CODE_MAIN</th>\n",
              "      <th>SPEED_LIMIT</th>\n",
              "      <th>VEH_YEAR</th>\n",
              "      <th>INJ_SEVER_CODE</th>\n",
              "    </tr>\n",
              "  </thead>\n",
              "  <tbody>\n",
              "    <tr>\n",
              "      <th>count</th>\n",
              "      <td>687369.000000</td>\n",
              "      <td>687369.000000</td>\n",
              "      <td>687369.000000</td>\n",
              "      <td>633559.000000</td>\n",
              "      <td>546688.000000</td>\n",
              "      <td>687369.000000</td>\n",
              "      <td>633559.000000</td>\n",
              "      <td>687351.000000</td>\n",
              "      <td>687369.000000</td>\n",
              "      <td>687375.000000</td>\n",
              "      <td>313779.000000</td>\n",
              "      <td>316330.000000</td>\n",
              "      <td>687375.000000</td>\n",
              "      <td>371041.000000</td>\n",
              "    </tr>\n",
              "    <tr>\n",
              "      <th>mean</th>\n",
              "      <td>39.137282</td>\n",
              "      <td>-76.735715</td>\n",
              "      <td>6.017284</td>\n",
              "      <td>4.742219</td>\n",
              "      <td>1.525184</td>\n",
              "      <td>20.594782</td>\n",
              "      <td>2.694113</td>\n",
              "      <td>12.995577</td>\n",
              "      <td>3.300926</td>\n",
              "      <td>2020.454087</td>\n",
              "      <td>12.722397</td>\n",
              "      <td>33.358439</td>\n",
              "      <td>869.682929</td>\n",
              "      <td>1.274385</td>\n",
              "    </tr>\n",
              "    <tr>\n",
              "      <th>std</th>\n",
              "      <td>0.310405</td>\n",
              "      <td>0.463484</td>\n",
              "      <td>8.829202</td>\n",
              "      <td>13.935665</td>\n",
              "      <td>0.818516</td>\n",
              "      <td>30.206445</td>\n",
              "      <td>10.057648</td>\n",
              "      <td>7.879731</td>\n",
              "      <td>11.418491</td>\n",
              "      <td>0.497888</td>\n",
              "      <td>19.380157</td>\n",
              "      <td>16.140948</td>\n",
              "      <td>1001.347143</td>\n",
              "      <td>0.654720</td>\n",
              "    </tr>\n",
              "    <tr>\n",
              "      <th>min</th>\n",
              "      <td>37.000000</td>\n",
              "      <td>-79.989756</td>\n",
              "      <td>0.000000</td>\n",
              "      <td>0.000000</td>\n",
              "      <td>1.000000</td>\n",
              "      <td>0.000000</td>\n",
              "      <td>0.000000</td>\n",
              "      <td>1.000000</td>\n",
              "      <td>0.000000</td>\n",
              "      <td>2020.000000</td>\n",
              "      <td>1.000000</td>\n",
              "      <td>0.000000</td>\n",
              "      <td>0.000000</td>\n",
              "      <td>1.000000</td>\n",
              "    </tr>\n",
              "    <tr>\n",
              "      <th>25%</th>\n",
              "      <td>38.968636</td>\n",
              "      <td>-76.929862</td>\n",
              "      <td>6.010000</td>\n",
              "      <td>1.000000</td>\n",
              "      <td>1.000000</td>\n",
              "      <td>3.000000</td>\n",
              "      <td>1.000000</td>\n",
              "      <td>3.000000</td>\n",
              "      <td>1.000000</td>\n",
              "      <td>2020.000000</td>\n",
              "      <td>6.000000</td>\n",
              "      <td>25.000000</td>\n",
              "      <td>0.000000</td>\n",
              "      <td>1.000000</td>\n",
              "    </tr>\n",
              "    <tr>\n",
              "      <th>50%</th>\n",
              "      <td>39.219000</td>\n",
              "      <td>-76.707674</td>\n",
              "      <td>6.010000</td>\n",
              "      <td>3.000000</td>\n",
              "      <td>1.000000</td>\n",
              "      <td>8.000000</td>\n",
              "      <td>1.000000</td>\n",
              "      <td>15.000000</td>\n",
              "      <td>1.000000</td>\n",
              "      <td>2020.000000</td>\n",
              "      <td>11.000000</td>\n",
              "      <td>35.000000</td>\n",
              "      <td>0.000000</td>\n",
              "      <td>1.000000</td>\n",
              "    </tr>\n",
              "    <tr>\n",
              "      <th>75%</th>\n",
              "      <td>39.339528</td>\n",
              "      <td>-76.571791</td>\n",
              "      <td>6.010000</td>\n",
              "      <td>4.000000</td>\n",
              "      <td>2.000000</td>\n",
              "      <td>17.000000</td>\n",
              "      <td>2.000000</td>\n",
              "      <td>18.000000</td>\n",
              "      <td>3.000000</td>\n",
              "      <td>2021.000000</td>\n",
              "      <td>12.000000</td>\n",
              "      <td>45.000000</td>\n",
              "      <td>2011.000000</td>\n",
              "      <td>1.000000</td>\n",
              "    </tr>\n",
              "    <tr>\n",
              "      <th>max</th>\n",
              "      <td>39.994802</td>\n",
              "      <td>-75.000747</td>\n",
              "      <td>99.000000</td>\n",
              "      <td>99.000000</td>\n",
              "      <td>12.000000</td>\n",
              "      <td>99.000000</td>\n",
              "      <td>99.000000</td>\n",
              "      <td>24.000000</td>\n",
              "      <td>99.000000</td>\n",
              "      <td>2021.000000</td>\n",
              "      <td>99.000000</td>\n",
              "      <td>75.000000</td>\n",
              "      <td>9999.000000</td>\n",
              "      <td>5.000000</td>\n",
              "    </tr>\n",
              "  </tbody>\n",
              "</table>\n",
              "</div>\n",
              "      <button class=\"colab-df-convert\" onclick=\"convertToInteractive('df-7586cde1-b3d2-4318-8d5c-4cd854cde9ed')\"\n",
              "              title=\"Convert this dataframe to an interactive table.\"\n",
              "              style=\"display:none;\">\n",
              "        \n",
              "  <svg xmlns=\"http://www.w3.org/2000/svg\" height=\"24px\"viewBox=\"0 0 24 24\"\n",
              "       width=\"24px\">\n",
              "    <path d=\"M0 0h24v24H0V0z\" fill=\"none\"/>\n",
              "    <path d=\"M18.56 5.44l.94 2.06.94-2.06 2.06-.94-2.06-.94-.94-2.06-.94 2.06-2.06.94zm-11 1L8.5 8.5l.94-2.06 2.06-.94-2.06-.94L8.5 2.5l-.94 2.06-2.06.94zm10 10l.94 2.06.94-2.06 2.06-.94-2.06-.94-.94-2.06-.94 2.06-2.06.94z\"/><path d=\"M17.41 7.96l-1.37-1.37c-.4-.4-.92-.59-1.43-.59-.52 0-1.04.2-1.43.59L10.3 9.45l-7.72 7.72c-.78.78-.78 2.05 0 2.83L4 21.41c.39.39.9.59 1.41.59.51 0 1.02-.2 1.41-.59l7.78-7.78 2.81-2.81c.8-.78.8-2.07 0-2.86zM5.41 20L4 18.59l7.72-7.72 1.47 1.35L5.41 20z\"/>\n",
              "  </svg>\n",
              "      </button>\n",
              "      \n",
              "  <style>\n",
              "    .colab-df-container {\n",
              "      display:flex;\n",
              "      flex-wrap:wrap;\n",
              "      gap: 12px;\n",
              "    }\n",
              "\n",
              "    .colab-df-convert {\n",
              "      background-color: #E8F0FE;\n",
              "      border: none;\n",
              "      border-radius: 50%;\n",
              "      cursor: pointer;\n",
              "      display: none;\n",
              "      fill: #1967D2;\n",
              "      height: 32px;\n",
              "      padding: 0 0 0 0;\n",
              "      width: 32px;\n",
              "    }\n",
              "\n",
              "    .colab-df-convert:hover {\n",
              "      background-color: #E2EBFA;\n",
              "      box-shadow: 0px 1px 2px rgba(60, 64, 67, 0.3), 0px 1px 3px 1px rgba(60, 64, 67, 0.15);\n",
              "      fill: #174EA6;\n",
              "    }\n",
              "\n",
              "    [theme=dark] .colab-df-convert {\n",
              "      background-color: #3B4455;\n",
              "      fill: #D2E3FC;\n",
              "    }\n",
              "\n",
              "    [theme=dark] .colab-df-convert:hover {\n",
              "      background-color: #434B5C;\n",
              "      box-shadow: 0px 1px 3px 1px rgba(0, 0, 0, 0.15);\n",
              "      filter: drop-shadow(0px 1px 2px rgba(0, 0, 0, 0.3));\n",
              "      fill: #FFFFFF;\n",
              "    }\n",
              "  </style>\n",
              "\n",
              "      <script>\n",
              "        const buttonEl =\n",
              "          document.querySelector('#df-7586cde1-b3d2-4318-8d5c-4cd854cde9ed button.colab-df-convert');\n",
              "        buttonEl.style.display =\n",
              "          google.colab.kernel.accessAllowed ? 'block' : 'none';\n",
              "\n",
              "        async function convertToInteractive(key) {\n",
              "          const element = document.querySelector('#df-7586cde1-b3d2-4318-8d5c-4cd854cde9ed');\n",
              "          const dataTable =\n",
              "            await google.colab.kernel.invokeFunction('convertToInteractive',\n",
              "                                                     [key], {});\n",
              "          if (!dataTable) return;\n",
              "\n",
              "          const docLinkHtml = 'Like what you see? Visit the ' +\n",
              "            '<a target=\"_blank\" href=https://colab.research.google.com/notebooks/data_table.ipynb>data table notebook</a>'\n",
              "            + ' to learn more about interactive tables.';\n",
              "          element.innerHTML = '';\n",
              "          dataTable['output_type'] = 'display_data';\n",
              "          await google.colab.output.renderOutput(dataTable, element);\n",
              "          const docLink = document.createElement('div');\n",
              "          docLink.innerHTML = docLinkHtml;\n",
              "          element.appendChild(docLink);\n",
              "        }\n",
              "      </script>\n",
              "    </div>\n",
              "  </div>\n",
              "  "
            ]
          },
          "metadata": {},
          "execution_count": 28
        }
      ],
      "source": [
        "#Understanding the patterns of minimum, maximum, standard deviation and mean of the data\n",
        "Super_Merge_df.describe()"
      ],
      "id": "033406f1"
    },
    {
      "cell_type": "markdown",
      "source": [
        "##Crashes Distribution on weather in years 2020 and 2021:\n",
        "\"Raining\" is the weather that recorded many accidents. while the lowest is recorded in \"Blow sand soil, dirt\""
      ],
      "metadata": {
        "id": "NUP7zm71id-h"
      },
      "id": "NUP7zm71id-h"
    },
    {
      "cell_type": "code",
      "execution_count": 29,
      "metadata": {
        "colab": {
          "base_uri": "https://localhost:8080/",
          "height": 622
        },
        "id": "ffXFWfbioE64",
        "outputId": "c8dc4aa5-bae5-45a6-ac16-29161ebfc25b"
      },
      "outputs": [
        {
          "output_type": "display_data",
          "data": {
            "text/plain": [
              "<Figure size 1440x720 with 1 Axes>"
            ],
            "image/png": "[encoded data removed]"
          },
          "metadata": {
            "needs_background": "light"
          }
        }
      ],
      "source": [
        "#Crashes Distribution on weather in years 2020 and 2021\n",
        "f,ax=plt.subplots(1,1,figsize=(20,10))\n",
        "sns.countplot(Super_Merge_df['WEATHER_DESC'],ax=ax,order=Super_Merge_df['WEATHER_DESC'].value_counts().index)\n",
        "plt.yticks(np.arange(0, max(Super_Merge_df['WEATHER_DESC'].value_counts().values)+5000, 5000))\n",
        "ax.set_title('Crashes Distribution on weather in years 2020 and 2021')\n",
        "plt.show()"
      ],
      "id": "ffXFWfbioE64"
    },
    {
      "cell_type": "markdown",
      "metadata": {
        "id": "zIx0E33dg2co"
      },
      "source": [
        "##Number of accidents occuried at various counties due to weather conditions"
      ],
      "id": "zIx0E33dg2co"
    },
    {
      "cell_type": "code",
      "execution_count": 30,
      "metadata": {
        "colab": {
          "base_uri": "https://localhost:8080/",
          "height": 370
        },
        "id": "yBrOUIJHxpFD",
        "outputId": "8aee292a-293d-4481-bae6-3cf7a60b7d58"
      },
      "outputs": [
        {
          "output_type": "display_data",
          "data": {
            "text/plain": [
              "<Figure size 1080x360 with 1 Axes>"
            ],
            "image/png": "[encoded data removed]"
          },
          "metadata": {
            "needs_background": "light"
          }
        }
      ],
      "source": [
        "#relational plot for County and weather conditions\n",
        "dz = sns.relplot(x=\"WEATHER_DESC\", y=\"COUNTY_DESC\",  kind=\"line\",height = 5, aspect = 3, data=Super_Merge_df)"
      ],
      "id": "yBrOUIJHxpFD"
    },
    {
      "cell_type": "markdown",
      "source": [
        "## Quarterly Analysis of Accidents in Rainy Weather"
      ],
      "metadata": {
        "id": "VdgS6KmsjIHt"
      },
      "id": "VdgS6KmsjIHt"
    },
    {
      "cell_type": "code",
      "source": [
        "#categorical variables in each quarters for the year 2020 and 2021\n",
        "\n",
        "year_2020_quarter = year_2020.QUARTER.value_counts()\n",
        "year_2021_quarter = year_2021.QUARTER.value_counts()\n",
        "\n",
        "\n",
        "\n",
        "\n",
        "\n",
        "#1,2,tight_layout=True,figsize=(18,6)\n",
        "fig  = plt.figure()\n",
        "fig2 = plt.figure()\n",
        "\n",
        "plt.subplot(1,2,1)\n",
        "plt.bar(year_2020_quarter.index, year_2020_quarter.values, width=0.2, color='b', align='center')\n",
        "\n",
        "plt.title(\"Reported accidents in 2020.\")\n",
        "plt.yticks(np.arange(0, max(year_2021_quarter.values)+10000, 10000))\n",
        "plt.xlabel('Quarters')\n",
        "plt.ylabel('Accidents Reported')\n",
        "\n",
        "plt.subplot(1,2,2)\n",
        "plt.bar(year_2021_quarter.index, year_2021_quarter.values, width=-0.2, color='orange', align='center')\n",
        "plt.title(\"Reported accidents in 2021.\")\n",
        "plt.yticks(np.arange(0, max(year_2021_quarter.values)+10000, 10000))\n",
        "plt.xlabel('Quarters')\n",
        "plt.ylabel('Accidents Reported')\n",
        "\n",
        "plt.tight_layout()\n",
        "plt.show()\n",
        "\n",
        "#Q1 of 2021 had way less crashes than the other two quarters\n",
        "#Way less crashes in Q2 of 2020 than the other quarters"
      ],
      "metadata": {
        "colab": {
          "base_uri": "https://localhost:8080/",
          "height": 314
        },
        "id": "RrOnRhK11sWj",
        "outputId": "5faabb9f-09fb-41e2-e742-48e087ca725e"
      },
      "id": "RrOnRhK11sWj",
      "execution_count": 31,
      "outputs": [
        {
          "output_type": "display_data",
          "data": {
            "text/plain": [
              "<Figure size 432x288 with 0 Axes>"
            ]
          },
          "metadata": {}
        },
        {
          "output_type": "display_data",
          "data": {
            "text/plain": [
              "<Figure size 432x288 with 2 Axes>"
            ],
            "image/png": "[encoded data removed]"
          },
          "metadata": {
            "needs_background": "light"
          }
        }
      ]
    },
    {
      "cell_type": "code",
      "execution_count": 32,
      "metadata": {
        "colab": {
          "base_uri": "https://localhost:8080/",
          "height": 441
        },
        "id": "iH89oL-SuN9F",
        "outputId": "c6b065af-cb6e-43ee-fdab-280e8f138248"
      },
      "outputs": [
        {
          "output_type": "display_data",
          "data": {
            "text/plain": [
              "<Figure size 1296x432 with 2 Axes>"
            ],
            "image/png": "[encoded data removed]"
          },
          "metadata": {
            "needs_background": "light"
          }
        }
      ],
      "source": [
        "#categorical variables in each quarters for the year 2020 and 2021\n",
        "\n",
        "fig, ax = plt.subplots(1,2,tight_layout=True,figsize=(18,6))\n",
        "\n",
        "ax1 = sns.countplot(data=year_2020,x='QUARTER', hue='WEATHER_DESC',ax=ax[0],order = year_2020['QUARTER'].value_counts().index)\n",
        "ax1.set_xticklabels(ax1.get_xticklabels(), rotation=0)\n",
        "ax1.set_title('Weather in Different Quarters in 2020')\n",
        "ax1.legend(loc = 'upper right', title = 'WEATHER_DESC' )\n",
        "\n",
        "ax1.set_xlabel('Quarters')\n",
        "ax1.set_ylabel('Accidents Reported')\n",
        "\n",
        "ax2 = sns.countplot(data=year_2021,x='QUARTER', hue='WEATHER_DESC', ax=ax[1],order = year_2021['QUARTER'].value_counts().index)\n",
        "ax2.set_xticklabels(ax2.get_xticklabels(), rotation=0)\n",
        "ax2.set_title('Weather in Different Quarters in 2021')\n",
        "ax2.set_xlabel('Quarters')\n",
        "ax2.set_ylabel('Accidents Reported')\n",
        "\n",
        "\n",
        "fig.show()"
      ],
      "id": "iH89oL-SuN9F"
    },
    {
      "cell_type": "markdown",
      "metadata": {
        "id": "lnkQxKxfLiCC"
      },
      "source": [
        "Note how much higher the Q1 2020 rainfall accidents reported are compared to the Q3 and Q4 \n",
        "\n",
        "Q1 2020 had less reports, but the amount of reports based on rainfall were much higher than the other quarters (almost a difference of 2000 compared to Q3/Q4 and 7000 compared to Q2)"
      ],
      "id": "lnkQxKxfLiCC"
    },
    {
      "cell_type": "code",
      "execution_count": 33,
      "metadata": {
        "colab": {
          "base_uri": "https://localhost:8080/"
        },
        "id": "PCfgh1Ycu0FO",
        "outputId": "237889c6-b209-49b5-bd0f-6a0f7058eb49"
      },
      "outputs": [
        {
          "output_type": "execute_result",
          "data": {
            "text/plain": [
              "QUARTER  WEATHER_DESC\n",
              "Q1       Raining         16223\n",
              "Q3       Raining         13582\n",
              "Q4       Raining         13562\n",
              "Q2       Raining          9033\n",
              "dtype: int64"
            ]
          },
          "metadata": {},
          "execution_count": 33
        }
      ],
      "source": [
        "#2020\n",
        "\n",
        "new_var = year_2020.groupby(['QUARTER','WEATHER_DESC']).filter(lambda x: (x[\"WEATHER_DESC\"] == \"Raining\").any())\n",
        "year_2020_weather_quarter = new_var.groupby(['QUARTER','WEATHER_DESC']).size().sort_values(ascending = False)\n",
        "year_2020_weather_quarter"
      ],
      "id": "PCfgh1Ycu0FO"
    },
    {
      "cell_type": "code",
      "execution_count": 34,
      "metadata": {
        "colab": {
          "base_uri": "https://localhost:8080/"
        },
        "id": "HcukJ_6Cu27U",
        "outputId": "22da7dea-7f94-4fc1-9cf4-b123918375b8"
      },
      "outputs": [
        {
          "output_type": "execute_result",
          "data": {
            "text/plain": [
              "QUARTER  WEATHER_DESC\n",
              "Q2       Raining         11915\n",
              "Q3       Raining         11072\n",
              "Q1       Raining          8312\n",
              "dtype: int64"
            ]
          },
          "metadata": {},
          "execution_count": 34
        }
      ],
      "source": [
        "#2021\n",
        "\n",
        "new_var = year_2021.groupby(['QUARTER','WEATHER_DESC']).filter(lambda x: (x[\"WEATHER_DESC\"] == \"Raining\").any())\n",
        "year_2021_weather_quarter = new_var.groupby(['QUARTER','WEATHER_DESC']).size().sort_values(ascending = False)\n",
        "\n",
        "year_2021_weather_quarter\n",
        "\n",
        "#2000 more rain accidents in Q2 2021 than Q2 2020"
      ],
      "id": "HcukJ_6Cu27U"
    },
    {
      "cell_type": "markdown",
      "metadata": {
        "id": "d_nR4YPHurRR"
      },
      "source": [
        " Fatalities in the year when the condition is \"Raining\" in each quarters for the year 2020"
      ],
      "id": "d_nR4YPHurRR"
    },
    {
      "cell_type": "code",
      "execution_count": 35,
      "metadata": {
        "colab": {
          "base_uri": "https://localhost:8080/",
          "height": 295
        },
        "id": "QO5A0rLaum9X",
        "outputId": "ec7eacdc-3690-4972-ee14-8567728b288b"
      },
      "outputs": [
        {
          "output_type": "display_data",
          "data": {
            "text/plain": [
              "<Figure size 432x288 with 1 Axes>"
            ],
            "image/png": "[encoded data removed]"
          },
          "metadata": {
            "needs_background": "light"
          }
        }
      ],
      "source": [
        "#2020\n",
        "\n",
        "new_var = year_2020.groupby(['QUARTER','INJ_SEVER_CODE']).filter(lambda x: (x[\"WEATHER_DESC\"] == \"Raining\").any() and (x[\"INJ_SEVER_CODE\"] == 5.0).any())\n",
        "year_2020_weather_quarter_injuries = new_var.groupby(['QUARTER','INJ_SEVER_CODE']).size()\n",
        "year_2020_weather_quarter_injuries.plot(kind = \"bar\", xlabel = \"Quarter\", ylabel = 'Fatalities',title = \"2020 Fatalities in each Quarter (only when Raining)\")\n",
        "plt.yticks(np.arange(0, max(year_2020_weather_quarter_injuries)+1, 10))\n",
        "plt.xticks([0,1,2,3],['Q1','Q2','Q3','Q4'], rotation=0)\n",
        "plt.show()\n",
        "#Weird quarter 1 of 2020 had a large quantity of rain, but not many fatalities what gives?"
      ],
      "id": "QO5A0rLaum9X"
    },
    {
      "cell_type": "markdown",
      "metadata": {
        "id": "lJkyr3IFvpBb"
      },
      "source": [
        "###More fatalities than Q3 than Q4:\n",
        "Quarter 3 and Quarter 4 recorded many number of fatalities for the year 2020 and 2021 when the weather condition is \"Raining\""
      ],
      "id": "lJkyr3IFvpBb"
    },
    {
      "cell_type": "code",
      "execution_count": 36,
      "metadata": {
        "colab": {
          "base_uri": "https://localhost:8080/",
          "height": 295
        },
        "id": "eR9YVBuIviuf",
        "outputId": "5c920cd2-4226-4dd9-f0bf-86e349c6c4a4"
      },
      "outputs": [
        {
          "output_type": "display_data",
          "data": {
            "text/plain": [
              "<Figure size 432x288 with 1 Axes>"
            ],
            "image/png": "[encoded data removed]"
          },
          "metadata": {
            "needs_background": "light"
          }
        }
      ],
      "source": [
        "new_var = year_2020.groupby(['QUARTER','INJ_SEVER_CODE','LIGHT_DESC']).filter(lambda x: (x[\"WEATHER_DESC\"] == \"Raining\").any() and (x[\"INJ_SEVER_CODE\"] == 5.0).any() and (x[\"LIGHT_DESC\"] != 'Daylight').any())\n",
        "new_var = new_var.groupby(['QUARTER','INJ_SEVER_CODE','LIGHT_DESC']).size().sort_values(ascending = True)\n",
        "\n",
        "\n",
        "Q1_dark = new_var['Q1'][5.0][\"Dark No Lights\"] + new_var['Q1'][5.0][\"Dark Lights On\"]\n",
        "Q2_dark = new_var['Q2'][5.0][\"Dark Lights On\"]\n",
        "Q3_dark = new_var['Q3'][5.0][\"Dark No Lights\"] + new_var['Q3'][5.0][\"Dark Lights On\"]\n",
        "Q4_dark = new_var['Q4'][5.0][\"Dark No Lights\"] + new_var['Q4'][5.0][\"Dark Lights On\"]\n",
        "\n",
        "data = [['Q1', Q1_dark ],['Q2', Q2_dark ], ['Q3', Q3_dark ], ['Q4', Q4_dark ]]\n",
        "\n",
        "new_df = pd.DataFrame(data, columns = ['Quarter', 'Fatalities'])\n",
        "\n",
        "plt.bar(new_df.Quarter.values,new_df.Fatalities.values)\n",
        "plt.xlabel('Quarters')\n",
        "plt.ylabel('Fatalities')\n",
        "plt.title('2020 Quarterly Fatalities (Dark/Raining)')\n",
        "plt.yticks(np.arange(0,max(new_df.Fatalities.values),5))\n",
        "\n",
        "plt.show()"
      ],
      "id": "eR9YVBuIviuf"
    },
    {
      "cell_type": "markdown",
      "source": [
        "# **Insight Summary**"
      ],
      "metadata": {
        "id": "TMAk_CAG4zcX"
      },
      "id": "TMAk_CAG4zcX"
    },
    {
      "cell_type": "markdown",
      "source": [
        "**Location Analysis**\n",
        "\n",
        "The counties where there was more rainfall had more crashes, a clear indication of how weather in this rain has an impact on crashes."
      ],
      "metadata": {
        "id": "r_b07b-2aKlF"
      },
      "id": "r_b07b-2aKlF"
    },
    {
      "cell_type": "markdown",
      "source": [
        "**Minimum and maximum speedlimit for crashes**\n",
        "\n",
        "We would in general think that most crashes happen under high speeds but it is interesting to note that it is not always the case."
      ],
      "metadata": {
        "id": "a9HFI1nKbuzZ"
      },
      "id": "a9HFI1nKbuzZ"
    },
    {
      "cell_type": "markdown",
      "source": [
        "**Crashes distribution on weather**\n",
        "\n",
        "Adding to the location analysis, in maryland as a whole there were more crashes when the weather was \"raining\" and least when it was \"Blow sand soil, dirt\""
      ],
      "metadata": {
        "id": "LAZE03-TckAP"
      },
      "id": "LAZE03-TckAP"
    },
    {
      "cell_type": "markdown",
      "source": [
        "**Quaterly Analysis of Crashes under rain**\n",
        "\n",
        "\n",
        "\n",
        "*   Q1 2020, Q2 2020, and Q3 2020 were close in terms of total number of accidents\n",
        "*   Q2 2020 was very low compared to the other 3 quarters (probably due to th pandemic)\n",
        "\n",
        "*   Q4 2020 was missing since the year hasn't ended yet, and they publish the data once it ends\n",
        " \n",
        "\n",
        "\n",
        "\n",
        "\n",
        "\n",
        "\n",
        "\n",
        "\n"
      ],
      "metadata": {
        "id": "RYJOulCqdVTG"
      },
      "id": "RYJOulCqdVTG"
    },
    {
      "cell_type": "markdown",
      "source": [
        "**Quarterly Analysis of Accidents in Rainy Weather**\n",
        "*   Q1 2020 had much more rain accidents than the other 3 quarters\n",
        "*   Q1 2020 should have more fatalities than the other 3 quarters in 2020 correct?\n",
        "\n"
      ],
      "metadata": {
        "id": "n8GPQDnKDx1Z"
      },
      "id": "n8GPQDnKDx1Z"
    },
    {
      "cell_type": "markdown",
      "source": [
        "**Fatalities when the condition is \"Raining\" in each quarters for the year 2020**\n",
        "\n",
        "\n",
        "\n",
        "*   Q3 and Q4 2020 had much more fatalities than Q1 2020\n",
        "*   Although Q1 2020 had much more accidents in the rain, Q3 and Q4 2020 had way more fatalities\n",
        "*   Could another attribute in the table have an impact on fatalities?\n",
        "\n",
        "\n",
        "\n"
      ],
      "metadata": {
        "id": "7ww75wNKdn6q"
      },
      "id": "7ww75wNKdn6q"
    },
    {
      "cell_type": "markdown",
      "source": [
        "**Quarterly Fatalities when the condition is Raining and Night time in 2020**\n",
        "*   Q3 and Q4 2020 much higher than Q1 2020 once again\n",
        "*   Raining and Night time pattern the same as the fatality table, meaning that rain and night time driving go hand in hand\n",
        "*   Two dangerous conditions making fatalities rise is a problem, needs to be adressed\n",
        "\n",
        "\n",
        "\n"
      ],
      "metadata": {
        "id": "e4cVhxTkEf9H"
      },
      "id": "e4cVhxTkEf9H"
    },
    {
      "cell_type": "markdown",
      "source": [
        "# **Reasoning and Conclusion**"
      ],
      "metadata": {
        "id": "98UtvPrveZFy"
      },
      "id": "98UtvPrveZFy"
    },
    {
      "cell_type": "markdown",
      "source": [
        "\n",
        "\n",
        "\n",
        "*   Pandemic's influence on total number of accident reports.\n",
        "*   Maryland's dominant weather under crashes being rain.\n",
        "\n",
        "\n",
        "*   Rainy weather is not an outright cause for driving related deaths.\n",
        "*   Rainy weather's lethality when paired with driving at night.\n",
        "\n",
        "*   Possible influence from summer break in Q3.\n",
        "*   Possible influence from the holidays (Halloween, Thanksgiving, Christmas) in Q4.\n",
        "\n",
        "\n",
        "\n",
        "\n",
        "\n",
        "\n",
        "\n",
        "\n"
      ],
      "metadata": {
        "id": "w6QYGofoAmzM"
      },
      "id": "w6QYGofoAmzM"
    }
  ],
  "metadata": {
    "colab": {
      "collapsed_sections": [],
      "name": "TeamCapricorn_Sri_Bhanu_Gundu.ipynb",
      "provenance": []
    },
    "kernelspec": {
      "display_name": "Python 3",
      "language": "python",
      "name": "python3"
    },
    "language_info": {
      "codemirror_mode": {
        "name": "ipython",
        "version": 3
      },
      "file_extension": ".py",
      "mimetype": "text/x-python",
      "name": "python",
      "nbconvert_exporter": "python",
      "pygments_lexer": "ipython3",
      "version": "3.8.8"
    }
  },
  "nbformat": 4,
  "nbformat_minor": 5
}