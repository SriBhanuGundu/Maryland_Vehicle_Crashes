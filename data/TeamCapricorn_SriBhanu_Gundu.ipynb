{
 "cells": [
  {
   "cell_type": "markdown",
   "id": "Wl9dxbyrjGEY",
   "metadata": {
    "id": "Wl9dxbyrjGEY"
   },
   "source": [
    "##**Weather's Dangerous Impact on Accidents in maryland**\n",
    "\n",
    "\n",
    "1.  ADD an Image--?\n",
    "\n"
   ]
  },
  {
   "cell_type": "markdown",
   "id": "Y6IAGiZ_37im",
   "metadata": {
    "id": "Y6IAGiZ_37im"
   },
   "source": [
    "# **Data Preprocessing**"
   ]
  },
  {
   "cell_type": "markdown",
   "id": "cm74tCtS1aqm",
   "metadata": {
    "id": "cm74tCtS1aqm"
   },
   "source": [
    "##**Importing Libraries**"
   ]
  },
  {
   "cell_type": "code",
   "execution_count": 1,
   "id": "f62f2850",
   "metadata": {
    "id": "f62f2850"
   },
   "outputs": [],
   "source": [
    "#Data Manipulation\n",
    "import pandas as pd\n",
    "#Artithmetic Calculations\n",
    "import numpy as np\n",
    "#Data Visualization\n",
    "import seaborn as sns\n",
    "import matplotlib.pyplot as plt\n",
    "\n",
    "#Display all Columns \n",
    "pd.pandas.set_option('display.max_columns',None)\n",
    "#Display all Rows\n",
    "pd.pandas.set_option('display.max_rows',None)\n",
    "#Ignore warnings\n",
    "import warnings\n",
    "warnings.filterwarnings(\"ignore\")\n"
   ]
  },
  {
   "cell_type": "markdown",
   "id": "6c6105a9",
   "metadata": {
    "id": "6c6105a9"
   },
   "source": [
    "##**Loading DataSets**"
   ]
  },
  {
   "cell_type": "code",
   "execution_count": null,
   "id": "87e68d30",
   "metadata": {
    "id": "87e68d30"
   },
   "outputs": [],
   "source": [
    "VehicleCrashes_df = pd.read_csv(\"https://media.githubusercontent.com/media/kwrigh8176/DATA601DATA/main/Maryland_Statewide_Vehicle_Crashes.csv\",low_memory=False)\n",
    "\n",
    "PersonalDetails_df = pd.read_csv(\"https://media.githubusercontent.com/media/kwrigh8176/DATA601DATA/main/Maryland_Statewide_Vehicle_Crashes_-_Person_Details__Anonymized.csv\",low_memory=False)\n",
    "\n",
    "VehicleDetails_df =  pd.read_csv(\"https://media.githubusercontent.com/media/kwrigh8176/DATA601DATA/main/Maryland_Statewide_Vehicle_Crashes_-_Vehicle_Details.csv\",low_memory=False)\n"
   ]
  },
  {
   "cell_type": "code",
   "execution_count": null,
   "id": "be4ab629",
   "metadata": {
    "colab": {
     "base_uri": "https://localhost:8080/"
    },
    "id": "be4ab629",
    "outputId": "c5b4a787-e417-4bdd-9e8c-a8458cfa70c8"
   },
   "outputs": [],
   "source": [
    "print(f\"Shape of VehicleCrashes_df  : \",VehicleCrashes_df.shape)\n",
    "print(f\"Shape of PersonalDetails_df : \",PersonalDetails_df.shape)\n",
    "print(f\"Shape of VehicleDetails_df  : \",VehicleDetails_df.shape)"
   ]
  },
  {
   "cell_type": "markdown",
   "id": "nfuFfyYnx6_o",
   "metadata": {
    "id": "nfuFfyYnx6_o"
   },
   "source": [
    "##These are the three Data sets we will be working which contains Records of the year 2020 and 2021\n",
    "Filtering the years 2020 and 2021 patterns from all the datasets to understand the pattern of crashes, causes and reasons of crashes"
   ]
  },
  {
   "cell_type": "code",
   "execution_count": null,
   "id": "IpX6aCYTxlp_",
   "metadata": {
    "id": "IpX6aCYTxlp_"
   },
   "outputs": [],
   "source": [
    "#It takes only those rows which have 2020 and 2021 in column 'YEAR'\n",
    "#Filtering based on the years 2020 and 2021\n",
    "VehicleCrashes = VehicleCrashes_df[VehicleCrashes_df['YEAR'].isin([2020,2021])]  \n",
    "\n",
    "PersonalDetails = PersonalDetails_df[PersonalDetails_df['YEAR'].isin([2020,2021])]\n",
    "\n",
    "VehicleDetails = VehicleDetails_df[VehicleDetails_df['YEAR'].isin([2020,2021])]"
   ]
  },
  {
   "cell_type": "markdown",
   "id": "6liSf8m_boqK",
   "metadata": {
    "id": "6liSf8m_boqK"
   },
   "source": [
    "Printing the shape of the datasets after extracting only 2020 and 2021 data"
   ]
  },
  {
   "cell_type": "code",
   "execution_count": null,
   "id": "2thS9FC2xlxG",
   "metadata": {
    "colab": {
     "base_uri": "https://localhost:8080/"
    },
    "id": "2thS9FC2xlxG",
    "outputId": "65ec79dc-1cdd-4d47-e930-95b5ab9aa55e"
   },
   "outputs": [],
   "source": [
    "print(f\"Shape of VehicleCrashes  : \",VehicleCrashes.shape)\n",
    "print(f\"Shape of PersonalDetails : \",PersonalDetails.shape)\n",
    "print(f\"Shape of VehicleDetails  : \",VehicleDetails.shape)"
   ]
  },
  {
   "cell_type": "markdown",
   "id": "PMDF7gEkb0Pw",
   "metadata": {
    "id": "PMDF7gEkb0Pw"
   },
   "source": [
    "##Checking for the null values in the datasets of 2020 and 2021"
   ]
  },
  {
   "cell_type": "code",
   "execution_count": null,
   "id": "4WondFEdJt5L",
   "metadata": {
    "colab": {
     "base_uri": "https://localhost:8080/"
    },
    "id": "4WondFEdJt5L",
    "outputId": "f18f08af-dfeb-4732-953f-7f6274c3f60a"
   },
   "outputs": [],
   "source": [
    "print(VehicleCrashes.isnull().sum())\n",
    "print(\"==================================================\")\n",
    "print(PersonalDetails.isnull().sum())\n",
    "\n",
    "print(\"==================================================\")\n",
    "print(VehicleDetails.isnull().sum())"
   ]
  },
  {
   "cell_type": "markdown",
   "id": "59a45331",
   "metadata": {
    "id": "59a45331"
   },
   "source": [
    "\n",
    "## Capitalising column names from all datasets"
   ]
  },
  {
   "cell_type": "markdown",
   "id": "1JoVNhdNvW4N",
   "metadata": {
    "id": "1JoVNhdNvW4N"
   },
   "source": [
    "*  After exploring we come to know that,Every Column in all Three Data Sets is in CAPITAL Except 'Quarter' is small in PersonalDetails and VehicleDetails Data Sets. \n",
    "*   To simplify and to avoid any case sensitive and syntax issues we will be capitalizing all the columns to capitals\n",
    "*   So we will Capitalize only Quarter Column"
   ]
  },
  {
   "cell_type": "code",
   "execution_count": null,
   "id": "NmL58tg7vO0b",
   "metadata": {
    "id": "NmL58tg7vO0b"
   },
   "outputs": [],
   "source": [
    "PersonalDetails = PersonalDetails.rename({'Quarter':'QUARTER'},axis = 1)\n",
    "VehicleDetails = VehicleDetails.rename({'Quarter':'QUARTER'},axis =1)\n"
   ]
  },
  {
   "cell_type": "markdown",
   "id": "_4NsJGPXv6mO",
   "metadata": {
    "id": "_4NsJGPXv6mO"
   },
   "source": [
    "## Checking Common Columns"
   ]
  },
  {
   "cell_type": "code",
   "execution_count": null,
   "id": "jZN7KIjjXLOf",
   "metadata": {
    "colab": {
     "base_uri": "https://localhost:8080/"
    },
    "id": "jZN7KIjjXLOf",
    "outputId": "ec470f4a-46fc-42f8-f3e5-cd29bf95f7fe"
   },
   "outputs": [],
   "source": [
    "def VehicleCrasheandPersonalDetails():\n",
    "  print('Common Columns of VehicleCrashes  and PersonalDetails Data Set: \\n')\n",
    "  for i in VehicleCrashes.columns:\n",
    "    for j in PersonalDetails.columns:\n",
    "            if i == j:\n",
    "                print(\"\\t\",i)\n",
    "                \n",
    "\n",
    "def VehicleCrashesandVehicleDetails():\n",
    "  print(\"\\nCommon Columns of  VehicleCrashes and VehicleDetails Data Set: \\n\")\n",
    "  for i in VehicleCrashes.columns:\n",
    "    for j in VehicleDetails.columns:\n",
    "        if i == j:\n",
    "            print(\"\\t\",i)\n",
    "            \n",
    "\n",
    "def PersonalDetailsandVehicleDetails():\n",
    "  print(\"\\nCommon Columns of PersonalDetails and VehicleDetails Data Set: \\n\")\n",
    "  for i in VehicleDetails.columns:\n",
    "          for j in PersonalDetails.columns:\n",
    "              if i == j:\n",
    "                  print(\"\\t\",i)\n",
    "                  \n",
    "            \n",
    "VehicleCrasheandPersonalDetails()\n",
    "VehicleCrashesandVehicleDetails()\n",
    "PersonalDetailsandVehicleDetails()\n"
   ]
  },
  {
   "cell_type": "markdown",
   "id": "xJbDmrut3oD4",
   "metadata": {
    "id": "xJbDmrut3oD4"
   },
   "source": [
    "### Getting the Overview of Each Columns from every Data Sets, So that we can perform our Data Analysis Effectively"
   ]
  },
  {
   "cell_type": "code",
   "execution_count": null,
   "id": "i4bfinfgvlZZ",
   "metadata": {
    "colab": {
     "base_uri": "https://localhost:8080/"
    },
    "id": "i4bfinfgvlZZ",
    "outputId": "5fd4eb97-18f0-4623-fdfe-acb0c6494a75"
   },
   "outputs": [],
   "source": [
    "print(\"(VehicleCrashes DataSet)\\n\",VehicleCrashes.columns)\n",
    "print(\"===============================================================================\\n\")\n",
    "print(\"(PersonalDetails DataSet)\\n\",PersonalDetails.columns)\n",
    "print(\"===============================================================================\\n\")\n",
    "print(\"(VehicleDetails DataSet)\\n\",VehicleDetails.columns)"
   ]
  },
  {
   "cell_type": "markdown",
   "id": "R6963oZOsF-F",
   "metadata": {
    "id": "R6963oZOsF-F"
   },
   "source": [
    "Adding extra column ACCIDENT_DATETIME which will be the combination of ACC_DATE and ACC_TIME\n",
    "We could use this column in the future to get the overview of Accident happened at what Date,year,month, Time"
   ]
  },
  {
   "cell_type": "code",
   "execution_count": null,
   "id": "e46de344",
   "metadata": {
    "colab": {
     "base_uri": "https://localhost:8080/",
     "height": 246
    },
    "id": "e46de344",
    "outputId": "e806efa3-3f58-43ac-f77d-f44cc3e629f3"
   },
   "outputs": [],
   "source": [
    "VehicleCrashes['ACCIDENT_DATETIME'] = pd.to_datetime(VehicleCrashes.ACC_DATE.astype(str)+' '+VehicleCrashes.ACC_TIME.astype(str))\n",
    "VehicleCrashes.head(2)"
   ]
  },
  {
   "cell_type": "markdown",
   "id": "kgNoQdun4HsM",
   "metadata": {
    "id": "kgNoQdun4HsM"
   },
   "source": [
    "# **Merging**"
   ]
  },
  {
   "cell_type": "markdown",
   "id": "rPBJBwa2rFaQ",
   "metadata": {
    "id": "rPBJBwa2rFaQ"
   },
   "source": [
    "####Merging of PersonalDetails and VehicleDetails datasets of years 2020 and 2021"
   ]
  },
  {
   "cell_type": "code",
   "execution_count": null,
   "id": "o4Tg_SSq8_ok",
   "metadata": {
    "colab": {
     "base_uri": "https://localhost:8080/"
    },
    "id": "o4Tg_SSq8_ok",
    "outputId": "a541386b-3daf-4579-aedf-42d6fce88d72"
   },
   "outputs": [],
   "source": [
    "#Merging Vehicle details and Personal details datasets\n",
    "Vehicle_Personal_Details = pd.merge(VehicleDetails, PersonalDetails, how = 'outer', on = ['MOVEMENT_CODE', 'MOVEMENT_DESC', 'QUARTER', 'REPORT_NO','VEHICLE_ID', 'YEAR'])\n",
    "Vehicle_Personal_Details.shape"
   ]
  },
  {
   "cell_type": "markdown",
   "id": "UQ-L3R4Q0QZg",
   "metadata": {
    "id": "UQ-L3R4Q0QZg"
   },
   "source": [
    "####Merging all three datasets: Vehicle Crashes, Vehicle Details and Personal Details to understand the relations and patterns of the data"
   ]
  },
  {
   "cell_type": "code",
   "execution_count": null,
   "id": "BI3VWiZd9fm0",
   "metadata": {
    "colab": {
     "base_uri": "https://localhost:8080/",
     "height": 501
    },
    "id": "BI3VWiZd9fm0",
    "outputId": "55627228-dd8d-44cf-d3dd-61d6281001fb"
   },
   "outputs": [],
   "source": [
    "Super_Merge = pd.merge(Vehicle_Personal_Details, VehicleCrashes, how = 'outer', on = ['QUARTER', 'REPORT_NO', 'YEAR'])\n",
    "print(f\"Shape of Merged data  : \", Super_Merge.shape)\n",
    "print(\"================================================\")\n",
    "Super_Merge.head(4)"
   ]
  },
  {
   "cell_type": "markdown",
   "id": "wM4maOcZ4B-C",
   "metadata": {
    "id": "wM4maOcZ4B-C"
   },
   "source": [
    "# **Data Cleaning**"
   ]
  },
  {
   "cell_type": "markdown",
   "id": "MZLw7kXcce58",
   "metadata": {
    "id": "MZLw7kXcce58"
   },
   "source": [
    "##Step 1: Removing of Redundant columns from the merged datasets of 2020 and 2021"
   ]
  },
  {
   "cell_type": "code",
   "execution_count": null,
   "id": "FVYwrWh1w_yc",
   "metadata": {
    "colab": {
     "base_uri": "https://localhost:8080/"
    },
    "id": "FVYwrWh1w_yc",
    "outputId": "b37715c1-3afa-471f-d764-9b0c9ff64506"
   },
   "outputs": [],
   "source": [
    "## Removing the Redundant Columns and Selecting the columns which would be using  as per our story Analysis.\n",
    "\n",
    "Super_Merge_df = Super_Merge[['REPORT_NO','QUARTER','ACCIDENT_DATETIME','LOCATION','LATITUDE','LONGITUDE','MAINROAD_NAME','AGENCY_CODE','AREA_CODE','REPORT_TYPE','WEATHER_DESC','WEATHER_CODE','RD_DIV_DESC','RD_DIV_CODE','LANE_DESC','LANE_CODE','COLLISION_TYPE_DESC','COLLISION_TYPE_CODE','JUNCTION_DESC','JUNCTION_CODE','COUNTY_DESC','COUNTY_NO','LIGHT_DESC','LIGHT_CODE','DATE_OF_BIRTH','SEX_DESC','SEX_CODE','YEAR','AREA_DAMAGED_CODE_MAIN_DESC','AREA_DAMAGED_CODE_MAIN','SPEED_LIMIT','VEH_YEAR','VEH_MAKE','VEH_MODEL','PERSON_TYPE_DESC','SAF_EQUIP_DESC','LICENSE_STATE_CODE','EJECT_DESC','EQUIP_PROB_DESC','DRUG_TESTRESULT_DESC','DAMAGE_DESC','CONTI_DIRECTION_DESC','INJ_SEVER_CODE']]\n",
    "\n",
    "print(f\"Shape of Merged datasets with relevant data\", Super_Merge_df.shape)\n",
    "print(\"==================================================================\")\n",
    "#Super_Merge_df.head()"
   ]
  },
  {
   "cell_type": "markdown",
   "id": "cUFp_GVVcrdo",
   "metadata": {
    "id": "cUFp_GVVcrdo"
   },
   "source": [
    "## Step 2: Checking for Duplicate data and dropping the duplicate data from the merged datasets"
   ]
  },
  {
   "cell_type": "code",
   "execution_count": null,
   "id": "TgimvMuLnlAk",
   "metadata": {
    "colab": {
     "base_uri": "https://localhost:8080/"
    },
    "id": "TgimvMuLnlAk",
    "outputId": "9e87ab9f-2ffb-49e8-c27a-611ac8cef633"
   },
   "outputs": [],
   "source": [
    "## Checking the Count Of Duplicate Values in the above data set\n",
    "\n",
    "Super_Merge_df.duplicated().value_counts()"
   ]
  },
  {
   "cell_type": "code",
   "execution_count": null,
   "id": "3c_OkFooleBc",
   "metadata": {
    "id": "3c_OkFooleBc"
   },
   "outputs": [],
   "source": [
    "## Dropping the Duplicate records\n",
    "Super_Merge_df = Super_Merge_df.drop_duplicates()"
   ]
  },
  {
   "cell_type": "code",
   "execution_count": null,
   "id": "Vef0-7k_qMtC",
   "metadata": {
    "colab": {
     "base_uri": "https://localhost:8080/"
    },
    "id": "Vef0-7k_qMtC",
    "outputId": "c45432de-b8b8-4ba1-decf-6d646327bfa9"
   },
   "outputs": [],
   "source": [
    "# After Removing the duplicates\n",
    "Super_Merge_df.duplicated().value_counts()"
   ]
  },
  {
   "cell_type": "markdown",
   "id": "OG3anCnndDcY",
   "metadata": {
    "id": "OG3anCnndDcY"
   },
   "source": [
    "##Step 3: Handling missing values for few columns from the merged datasets"
   ]
  },
  {
   "cell_type": "code",
   "execution_count": null,
   "id": "PZpDORLkrBLY",
   "metadata": {
    "colab": {
     "base_uri": "https://localhost:8080/"
    },
    "id": "PZpDORLkrBLY",
    "outputId": "c4531e3f-6179-4c6f-a65f-70f0ab2a3680"
   },
   "outputs": [],
   "source": [
    "## We will try to look it into the column 'DRUG_TESTRESULT_DESC'\n",
    "## There are many Nan Values\n",
    "\n",
    "Super_Merge_df.DRUG_TESTRESULT_DESC.value_counts(dropna = False)"
   ]
  },
  {
   "cell_type": "code",
   "execution_count": null,
   "id": "fOkTMhKGrymh",
   "metadata": {
    "colab": {
     "base_uri": "https://localhost:8080/"
    },
    "id": "fOkTMhKGrymh",
    "outputId": "9f262f56-0358-4491-c8bb-c4cdd5e98cb5"
   },
   "outputs": [],
   "source": [
    "#### Filling of missing values for Drug test results \n",
    "#### Nan with Not reported\n",
    "Super_Merge_df['DRUG_TESTRESULT_DESC'] = Super_Merge_df['DRUG_TESTRESULT_DESC'].fillna(\"Not Reported\")\n",
    "#### Now Nan values will be replaced\n",
    "\n",
    "Super_Merge_df.DRUG_TESTRESULT_DESC.value_counts(dropna = False)"
   ]
  },
  {
   "cell_type": "code",
   "execution_count": null,
   "id": "9j_woSjUm_eV",
   "metadata": {
    "colab": {
     "base_uri": "https://localhost:8080/"
    },
    "id": "9j_woSjUm_eV",
    "outputId": "413d9bd1-6ec7-4e73-b820-0fccb8b9fe49"
   },
   "outputs": [],
   "source": [
    "### Filling of missing values for light conditions \n",
    "#### Nan with Not mentioned\n",
    "Super_Merge_df['LIGHT_DESC'] = Super_Merge_df['LIGHT_DESC'].fillna(\"Not mentioned\")\n",
    "#### Now Nan values will be replaced\n",
    "\n",
    "Super_Merge_df.LIGHT_DESC.value_counts(dropna = False)"
   ]
  },
  {
   "cell_type": "code",
   "execution_count": null,
   "id": "lKRysGh1e61W",
   "metadata": {
    "colab": {
     "base_uri": "https://localhost:8080/"
    },
    "id": "lKRysGh1e61W",
    "outputId": "a6a31092-351e-4b07-be87-90b38282795a"
   },
   "outputs": [],
   "source": [
    "##  'VEH_YEAR'\n",
    "#### Nan Values are replaced with o\n",
    "Super_Merge_df['VEH_YEAR'] = Super_Merge_df['VEH_YEAR'].fillna(0)\n",
    "\n",
    "Super_Merge_df.VEH_YEAR.value_counts(dropna = False).head()"
   ]
  },
  {
   "cell_type": "markdown",
   "id": "wQBHjsBxyGfS",
   "metadata": {
    "id": "wQBHjsBxyGfS"
   },
   "source": [
    "# **EDA (Exploratory Data Analysis)**\n"
   ]
  },
  {
   "cell_type": "markdown",
   "id": "7bP2HVEedXHw",
   "metadata": {
    "id": "7bP2HVEedXHw"
   },
   "source": [
    "Printing the first five rows of merged and cleaned datasets"
   ]
  },
  {
   "cell_type": "code",
   "execution_count": null,
   "id": "nFbfNG0x9hIT",
   "metadata": {
    "colab": {
     "base_uri": "https://localhost:8080/",
     "height": 513
    },
    "id": "nFbfNG0x9hIT",
    "outputId": "f318c12e-339b-4c26-f161-76be5fc4cc83"
   },
   "outputs": [],
   "source": [
    "#Getting the Top 5 records to explore the data set\n",
    "Super_Merge_df.head()"
   ]
  },
  {
   "cell_type": "code",
   "execution_count": null,
   "id": "APndWIQYMUfT",
   "metadata": {
    "colab": {
     "base_uri": "https://localhost:8080/"
    },
    "id": "APndWIQYMUfT",
    "outputId": "7284c438-31dc-4a70-ac2f-11fa4e164e02"
   },
   "outputs": [],
   "source": [
    "## Concise summary of a DataFrame.\n",
    "##  info related to datatypes, null value etc\n",
    "Super_Merge_df.info(verbose=True)"
   ]
  },
  {
   "cell_type": "markdown",
   "id": "a_-ZCnnrTeEW",
   "metadata": {
    "id": "a_-ZCnnrTeEW"
   },
   "source": [
    "#### Created datasets to analyze data seperately for years 2020 and 2021"
   ]
  },
  {
   "cell_type": "code",
   "execution_count": null,
   "id": "A_Xo7DK5TtdF",
   "metadata": {
    "id": "A_Xo7DK5TtdF"
   },
   "outputs": [],
   "source": [
    "year_2020 = Super_Merge_df[Super_Merge_df.YEAR == 2020]\n",
    "year_2021 = Super_Merge_df[Super_Merge_df.YEAR == 2021]"
   ]
  },
  {
   "cell_type": "markdown",
   "id": "bVd642VpySx0",
   "metadata": {
    "id": "bVd642VpySx0"
   },
   "source": [
    "**Heat map for null values**"
   ]
  },
  {
   "cell_type": "markdown",
   "id": "0tcbG8t0djwF",
   "metadata": {
    "id": "0tcbG8t0djwF"
   },
   "source": [
    "Vizualizing all the null values after merging and data cleaning, to check the reliability of columns."
   ]
  },
  {
   "cell_type": "code",
   "execution_count": null,
   "id": "_QPbstjtMUit",
   "metadata": {
    "colab": {
     "base_uri": "https://localhost:8080/",
     "height": 892
    },
    "id": "_QPbstjtMUit",
    "outputId": "1a4b5b34-2f5b-48af-aad4-76b80ee5a39b"
   },
   "outputs": [],
   "source": [
    "#Some columns are having missing values\n",
    "#color with blacks are having least numbr of null values and white color with more null values\n",
    "plt.figure(figsize=(20,12))\n",
    "sns.heatmap(Super_Merge_df.isnull(), yticklabels=False)"
   ]
  },
  {
   "cell_type": "markdown",
   "id": "JljVbnzYoV1r",
   "metadata": {
    "id": "JljVbnzYoV1r"
   },
   "source": [
    "**From the trends in data, 2020 and 2021 years had Lowest number of crashes. So, we will be exploring more from the 2020 and 2021 data**\n",
    "**Note: Only for this we have used VehicleCrashes Dataset. BUT for our entire Project we will be using all the three data sets**\n",
    "\n",
    "From the pattern, 2020 and 2021 recorded less number of crashes"
   ]
  },
  {
   "cell_type": "code",
   "execution_count": null,
   "id": "cLaJV5weoinW",
   "metadata": {
    "colab": {
     "base_uri": "https://localhost:8080/",
     "height": 468
    },
    "id": "cLaJV5weoinW",
    "outputId": "e16680f6-efd9-4a0b-ad01-536610ea6a6e"
   },
   "outputs": [],
   "source": [
    "plt.figure(figsize=(18,6))\n",
    "ax = sns.countplot(data=VehicleCrashes_df,x='YEAR',order = VehicleCrashes_df['YEAR'].value_counts().index)\n",
    "ax.set_xticklabels(ax.get_xticklabels(), rotation=90)\n",
    "ax.set_title('\\nVehicle crashes in the past 7 years in Maryland USA\\n', fontsize=20);\n",
    "plt.show()"
   ]
  },
  {
   "cell_type": "markdown",
   "id": "T45vIGys0veh",
   "metadata": {
    "id": "T45vIGys0veh"
   },
   "source": [
    "# **In sights:**\n",
    "\n",
    "\n"
   ]
  },
  {
   "cell_type": "markdown",
   "id": "JjqUGKa8QAJt",
   "metadata": {
    "id": "JjqUGKa8QAJt"
   },
   "source": [
    "##Location Analysis"
   ]
  },
  {
   "cell_type": "code",
   "execution_count": null,
   "id": "44NzSD3o1dhQ",
   "metadata": {
    "colab": {
     "base_uri": "https://localhost:8080/",
     "height": 365
    },
    "id": "44NzSD3o1dhQ",
    "outputId": "a776deeb-6caa-4d0e-8c22-bece73c08d80"
   },
   "outputs": [],
   "source": [
    "\n",
    "## 1) Accidents happened in the year '2020 and 2021'\n",
    "plt.figure(figsize=(16,4))\n",
    "ax = sns.countplot(data=Super_Merge_df,x='COUNTY_DESC',order = Super_Merge_df['COUNTY_DESC'].value_counts().index)\n",
    "ax.set_xticklabels(ax.get_xticklabels(), rotation=90)\n",
    "ax.set_title('Accidents in different Counties in 2020 and 2021')\n",
    "plt.show()"
   ]
  },
  {
   "cell_type": "markdown",
   "id": "yg6QabvtWZ0I",
   "metadata": {
    "id": "yg6QabvtWZ0I"
   },
   "source": [
    "According to Maryland demographics even though Montgomery county is the highest populous county in maryland in terms of crashes it is ranked 4th.\n",
    "Reference: https://www.maryland-demographics.com/counties_by_population"
   ]
  },
  {
   "cell_type": "code",
   "execution_count": null,
   "id": "WSUJ_AYnYLRh",
   "metadata": {
    "colab": {
     "base_uri": "https://localhost:8080/"
    },
    "id": "WSUJ_AYnYLRh",
    "outputId": "977b57c3-0618-47c8-8bea-ce6f36f8a8a2"
   },
   "outputs": [],
   "source": [
    "new_var = Super_Merge_df.groupby(['COUNTY_DESC','WEATHER_DESC']).filter(lambda x: (x[\"WEATHER_DESC\"] == \"Raining\").any())\n",
    "countywise_rain = new_var.groupby(['COUNTY_DESC','WEATHER_DESC']).size().sort_values(ascending = False)\n",
    "countywise_rain\n"
   ]
  },
  {
   "cell_type": "markdown",
   "id": "3iBl8_WvASPi",
   "metadata": {
    "id": "3iBl8_WvASPi"
   },
   "source": [
    "##Minimum speed limit recorded for crashes is '0'; maximum is '75' from years 2020 and 2021"
   ]
  },
  {
   "cell_type": "code",
   "execution_count": null,
   "id": "033406f1",
   "metadata": {
    "colab": {
     "base_uri": "https://localhost:8080/",
     "height": 364
    },
    "id": "033406f1",
    "outputId": "ae9431ad-6fec-498e-f482-b695ab3a6419"
   },
   "outputs": [],
   "source": [
    "#Understanding the patterns of minimum, maximum, standard deviation and mean of the data\n",
    "Super_Merge_df.describe()"
   ]
  },
  {
   "cell_type": "markdown",
   "id": "NUP7zm71id-h",
   "metadata": {
    "id": "NUP7zm71id-h"
   },
   "source": [
    "##Crashes Distribution on weather in years 2020 and 2021:\n",
    "\"Raining\" is the weather that recorded many accidents. while the lowest is recorded in \"Blow sand soil, dirt\""
   ]
  },
  {
   "cell_type": "code",
   "execution_count": null,
   "id": "ffXFWfbioE64",
   "metadata": {
    "colab": {
     "base_uri": "https://localhost:8080/",
     "height": 622
    },
    "id": "ffXFWfbioE64",
    "outputId": "9527ce4c-18fe-4164-be96-fa5016504dd7"
   },
   "outputs": [],
   "source": [
    "#Crashes Distribution on weather in years 2020 and 2021\n",
    "f,ax=plt.subplots(1,1,figsize=(20,10))\n",
    "sns.countplot(Super_Merge_df['WEATHER_DESC'],ax=ax,order=Super_Merge_df['WEATHER_DESC'].value_counts().index)\n",
    "plt.yticks(np.arange(0, max(Super_Merge_df['WEATHER_DESC'].value_counts().values)+5000, 5000))\n",
    "ax.set_title('Crashes Distribution on weather in years 2020 and 2021')\n",
    "plt.show()"
   ]
  },
  {
   "cell_type": "markdown",
   "id": "zIx0E33dg2co",
   "metadata": {
    "id": "zIx0E33dg2co"
   },
   "source": [
    "##Number of accidents occuried at various counties due to weather conditions"
   ]
  },
  {
   "cell_type": "code",
   "execution_count": null,
   "id": "yBrOUIJHxpFD",
   "metadata": {
    "colab": {
     "base_uri": "https://localhost:8080/",
     "height": 370
    },
    "id": "yBrOUIJHxpFD",
    "outputId": "e18f28d0-8dc5-41d8-e652-7719ab242266"
   },
   "outputs": [],
   "source": [
    "#relational plot for County and weather conditions\n",
    "dz = sns.relplot(x=\"WEATHER_DESC\", y=\"COUNTY_DESC\",  kind=\"line\",height = 5, aspect = 3, data=Super_Merge_df)"
   ]
  },
  {
   "cell_type": "markdown",
   "id": "VdgS6KmsjIHt",
   "metadata": {
    "id": "VdgS6KmsjIHt"
   },
   "source": [
    "## Quarterly Analysis of Accidents in Rainy Weather"
   ]
  },
  {
   "cell_type": "code",
   "execution_count": null,
   "id": "RrOnRhK11sWj",
   "metadata": {
    "colab": {
     "base_uri": "https://localhost:8080/",
     "height": 316
    },
    "id": "RrOnRhK11sWj",
    "outputId": "f9c746e8-741e-403c-ec7d-f088a1b2be18"
   },
   "outputs": [],
   "source": [
    "#categorical variables in each quarters for the year 2020 and 2021\n",
    "\n",
    "year_2020_quarter = year_2020.QUARTER.value_counts()\n",
    "year_2021_quarter = year_2021.QUARTER.value_counts()\n",
    "\n",
    "\n",
    "\n",
    "\n",
    "\n",
    "#1,2,tight_layout=True,figsize=(18,6)\n",
    "fig  = plt.figure()\n",
    "fig2  =plt.figure()\n",
    "\n",
    "plt.subplot(1,2,1)\n",
    "plt.bar(year_2020_quarter.index, year_2020_quarter.values, width=0.2, color='b', align='center')\n",
    "\n",
    "plt.title(\"Reported accidents in 2020.\")\n",
    "plt.yticks(np.arange(0, max(year_2021_quarter.values)+10000, 10000))\n",
    "plt.xlabel('Quarters')\n",
    "plt.ylabel('Accidents Reported')\n",
    "\n",
    "plt.subplot(1,2,2)\n",
    "plt.bar(year_2021_quarter.index, year_2021_quarter.values, width=-0.2, color='orange', align='center')\n",
    "plt.title(\"Reported accidents in 2021.\")\n",
    "plt.yticks(np.arange(0, max(year_2021_quarter.values)+10000, 10000))\n",
    "plt.xlabel('Quarters')\n",
    "plt.ylabel('Accidents Reported')\n",
    "\n",
    "plt.tight_layout()\n",
    "plt.show()\n",
    "\n",
    "#Q1 of 2021 had way less crashes than the other two quarters\n",
    "#Way less crashes in Q2 of 2020 than the other quarters"
   ]
  },
  {
   "cell_type": "code",
   "execution_count": null,
   "id": "iH89oL-SuN9F",
   "metadata": {
    "colab": {
     "base_uri": "https://localhost:8080/",
     "height": 441
    },
    "id": "iH89oL-SuN9F",
    "outputId": "d8940133-6ce5-4b58-a375-01dee171aa39"
   },
   "outputs": [],
   "source": [
    "#categorical variables in each quarters for the year 2020 and 2021\n",
    "\n",
    "fig, ax = plt.subplots(1,2,tight_layout=True,figsize=(18,6))\n",
    "\n",
    "ax1 = sns.countplot(data=year_2020,x='QUARTER', hue='WEATHER_DESC',ax=ax[0],order = year_2020['QUARTER'].value_counts().index)\n",
    "ax1.set_xticklabels(ax1.get_xticklabels(), rotation=0)\n",
    "ax1.set_title('Weather in Different Quarters in 2020')\n",
    "ax1.legend(loc = 'upper right', title = 'WEATHER_DESC' )\n",
    "\n",
    "ax1.set_xlabel('Quarters')\n",
    "ax1.set_ylabel('Accidents Reported')\n",
    "\n",
    "ax2 = sns.countplot(data=year_2021,x='QUARTER', hue='WEATHER_DESC', ax=ax[1],order = year_2021['QUARTER'].value_counts().index)\n",
    "ax2.set_xticklabels(ax2.get_xticklabels(), rotation=0)\n",
    "ax2.set_title('Weather in Different Quarters in 2021')\n",
    "ax2.set_xlabel('Quarters')\n",
    "ax2.set_ylabel('Accidents Reported')\n",
    "\n",
    "\n",
    "fig.show()"
   ]
  },
  {
   "cell_type": "markdown",
   "id": "lnkQxKxfLiCC",
   "metadata": {
    "id": "lnkQxKxfLiCC"
   },
   "source": [
    "Note how much higher the Q1 2020 rainfall accidents reported are compared to the Q3 and Q4 \n",
    "\n",
    "Q1 2020 had less reports, but the amount of reports based on rainfall were much higher than the other quarters (almost a difference of 2000 compared to Q3/Q4 and 7000 compared to Q2)"
   ]
  },
  {
   "cell_type": "code",
   "execution_count": null,
   "id": "PCfgh1Ycu0FO",
   "metadata": {
    "colab": {
     "base_uri": "https://localhost:8080/"
    },
    "id": "PCfgh1Ycu0FO",
    "outputId": "d78e207c-a518-498b-bc37-44f75e4dbcfa"
   },
   "outputs": [],
   "source": [
    "#2020\n",
    "\n",
    "new_var = year_2020.groupby(['QUARTER','WEATHER_DESC']).filter(lambda x: (x[\"WEATHER_DESC\"] == \"Raining\").any())\n",
    "year_2020_weather_quarter = new_var.groupby(['QUARTER','WEATHER_DESC']).size().sort_values(ascending = False)\n",
    "year_2020_weather_quarter"
   ]
  },
  {
   "cell_type": "code",
   "execution_count": null,
   "id": "HcukJ_6Cu27U",
   "metadata": {
    "colab": {
     "base_uri": "https://localhost:8080/"
    },
    "id": "HcukJ_6Cu27U",
    "outputId": "69d7c107-e223-4664-9091-2576477a47c1"
   },
   "outputs": [],
   "source": [
    "#2021\n",
    "\n",
    "new_var = year_2021.groupby(['QUARTER','WEATHER_DESC']).filter(lambda x: (x[\"WEATHER_DESC\"] == \"Raining\").any())\n",
    "year_2021_weather_quarter = new_var.groupby(['QUARTER','WEATHER_DESC']).size().sort_values(ascending = False)\n",
    "\n",
    "year_2021_weather_quarter\n",
    "\n",
    "#2000 more rain accidents in Q2 2021 than Q2 2020"
   ]
  },
  {
   "cell_type": "markdown",
   "id": "d_nR4YPHurRR",
   "metadata": {
    "id": "d_nR4YPHurRR"
   },
   "source": [
    "## Fatalities in the year when the condition is \"Raining\" in each quarters for the year 2020"
   ]
  },
  {
   "cell_type": "code",
   "execution_count": null,
   "id": "QO5A0rLaum9X",
   "metadata": {
    "colab": {
     "base_uri": "https://localhost:8080/",
     "height": 295
    },
    "id": "QO5A0rLaum9X",
    "outputId": "1729c6d4-45fa-45ab-d5ae-32fa7deb0118"
   },
   "outputs": [],
   "source": [
    "#2020\n",
    "\n",
    "new_var = year_2020.groupby(['QUARTER','INJ_SEVER_CODE']).filter(lambda x: (x[\"WEATHER_DESC\"] == \"Raining\").any() and (x[\"INJ_SEVER_CODE\"] == 5.0).any())\n",
    "year_2020_weather_quarter_injuries = new_var.groupby(['QUARTER','INJ_SEVER_CODE']).size()\n",
    "year_2020_weather_quarter_injuries.plot(kind = \"bar\", xlabel = \"Quarter\", ylabel = 'Fatalities',title = \"2020 Fatalities in each Quarter (only when Raining)\")\n",
    "plt.yticks(np.arange(0, max(year_2020_weather_quarter_injuries)+1, 10))\n",
    "plt.xticks([0,1,2,3],['Q1','Q2','Q3','Q4'], rotation=0)\n",
    "plt.show()\n",
    "#Weird quarter 1 of 2020 had a large quantity of rain, but not many fatalities what gives?"
   ]
  },
  {
   "cell_type": "markdown",
   "id": "lJkyr3IFvpBb",
   "metadata": {
    "id": "lJkyr3IFvpBb"
   },
   "source": [
    "###More fatalities than Q3 than Q4:\n",
    "Quarter 3 and Quarter 4 recorded many number of fatalities for the year 2020 and 2021 when the weather condition is \"Raining\""
   ]
  },
  {
   "cell_type": "code",
   "execution_count": null,
   "id": "eR9YVBuIviuf",
   "metadata": {
    "colab": {
     "base_uri": "https://localhost:8080/",
     "height": 295
    },
    "id": "eR9YVBuIviuf",
    "outputId": "0f1bccde-0f3b-4011-d15c-42b5db0549b4"
   },
   "outputs": [],
   "source": [
    "new_var = year_2020.groupby(['QUARTER','INJ_SEVER_CODE','LIGHT_DESC']).filter(lambda x: (x[\"WEATHER_DESC\"] == \"Raining\").any() and (x[\"INJ_SEVER_CODE\"] == 5.0).any() and (x[\"LIGHT_DESC\"] != 'Daylight').any())\n",
    "new_var = new_var.groupby(['QUARTER','INJ_SEVER_CODE','LIGHT_DESC']).size().sort_values(ascending = True)\n",
    "\n",
    "\n",
    "Q1_dark = new_var['Q1'][5.0][\"Dark No Lights\"] + new_var['Q1'][5.0][\"Dark Lights On\"]\n",
    "Q2_dark = new_var['Q2'][5.0][\"Dark Lights On\"]\n",
    "Q3_dark = new_var['Q3'][5.0][\"Dark No Lights\"] + new_var['Q3'][5.0][\"Dark Lights On\"]\n",
    "Q4_dark = new_var['Q4'][5.0][\"Dark No Lights\"] + new_var['Q4'][5.0][\"Dark Lights On\"]\n",
    "\n",
    "data = [['Q1', Q1_dark ],['Q2', Q2_dark ], ['Q3', Q3_dark ], ['Q4', Q4_dark ]]\n",
    "\n",
    "new_df = pd.DataFrame(data, columns = ['Quarter', 'Fatalities'])\n",
    "\n",
    "plt.bar(new_df.Quarter.values,new_df.Fatalities.values)\n",
    "plt.xlabel('Quarters')\n",
    "plt.ylabel('Fatalities')\n",
    "plt.title('2020 Quarterly Fatalities (Dark/Raining)')\n",
    "plt.yticks(np.arange(0,max(new_df.Fatalities.values),5))\n",
    "\n",
    "plt.show()"
   ]
  },
  {
   "cell_type": "markdown",
   "id": "TMAk_CAG4zcX",
   "metadata": {
    "id": "TMAk_CAG4zcX"
   },
   "source": [
    "# **Insight Summary**"
   ]
  },
  {
   "cell_type": "markdown",
   "id": "r_b07b-2aKlF",
   "metadata": {
    "id": "r_b07b-2aKlF"
   },
   "source": [
    "**Location Analysis**\n",
    "\n",
    "The counties where there was more rainfall had more crashes, a clear indication of how weather in this rain has an impact on crashes."
   ]
  },
  {
   "cell_type": "markdown",
   "id": "a9HFI1nKbuzZ",
   "metadata": {
    "id": "a9HFI1nKbuzZ"
   },
   "source": [
    "**Minimum and maximum speedlimit for crashes**\n",
    "\n",
    "We would in general think that most crashes happen under high speeds but it is interesting to note that it is not always the case."
   ]
  },
  {
   "cell_type": "markdown",
   "id": "LAZE03-TckAP",
   "metadata": {
    "id": "LAZE03-TckAP"
   },
   "source": [
    "**Crashes distribution on weather**\n",
    "\n",
    "Adding to the location analysis, in maryland as a whole there were more crashes when the weather was \"raining\" and least when it was \"Blow sand soil, dirt\""
   ]
  },
  {
   "cell_type": "markdown",
   "id": "RYJOulCqdVTG",
   "metadata": {
    "id": "RYJOulCqdVTG"
   },
   "source": [
    "**Quaterly Analysis of Crashes under rain**"
   ]
  },
  {
   "cell_type": "markdown",
   "id": "7ww75wNKdn6q",
   "metadata": {
    "id": "7ww75wNKdn6q"
   },
   "source": [
    "**Fatalities when the condition is \"Raining\" in each quarters for the year 2020**"
   ]
  },
  {
   "cell_type": "markdown",
   "id": "98UtvPrveZFy",
   "metadata": {
    "id": "98UtvPrveZFy"
   },
   "source": [
    "# **Reasoning and Conclusion**"
   ]
  },
  {
   "cell_type": "markdown",
   "id": "w6QYGofoAmzM",
   "metadata": {
    "id": "w6QYGofoAmzM"
   },
   "source": [
    "\n",
    "\n",
    "\n",
    "*   Pandemic's influence on total number of accident reports.\n",
    "*   Maryland's dominant weather under crashes being rain.\n",
    "\n",
    "\n",
    "*   Rainy weather is not an outright cause for driving related deaths.\n",
    "*   Rainy weather's lethality when paired with driving at night.\n",
    "\n",
    "*   Possible influence from summer break in Q3.\n",
    "*   Possible influence from the holidays (Halloween, Thanksgiving, Christmas) in Q4.\n",
    "\n",
    "\n",
    "\n",
    "\n",
    "\n",
    "\n",
    "\n",
    "\n"
   ]
  }
 ],
 "metadata": {
  "colab": {
   "collapsed_sections": [
    "TTbGcpwRzotw",
    "Y6IAGiZ_37im",
    "cm74tCtS1aqm",
    "6c6105a9",
    "nfuFfyYnx6_o",
    "PMDF7gEkb0Pw",
    "59a45331",
    "_4NsJGPXv6mO",
    "kgNoQdun4HsM",
    "rPBJBwa2rFaQ",
    "UQ-L3R4Q0QZg",
    "wM4maOcZ4B-C",
    "MZLw7kXcce58",
    "cUFp_GVVcrdo",
    "OG3anCnndDcY",
    "wQBHjsBxyGfS",
    "T45vIGys0veh",
    "3iBl8_WvASPi",
    "zIx0E33dg2co",
    "VdgS6KmsjIHt"
   ],
   "name": "TeamCapricorn_SriBhanu_Gundu.ipynb",
   "provenance": []
  },
  "kernelspec": {
   "display_name": "Python 3",
   "language": "python",
   "name": "python3"
  },
  "language_info": {
   "codemirror_mode": {
    "name": "ipython",
    "version": 3
   },
   "file_extension": ".py",
   "mimetype": "text/x-python",
   "name": "python",
   "nbconvert_exporter": "python",
   "pygments_lexer": "ipython3",
   "version": "3.8.8"
  }
 },
 "nbformat": 4,
 "nbformat_minor": 5
}
